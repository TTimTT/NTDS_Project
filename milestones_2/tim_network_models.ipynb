{
 "cells": [
  {
   "cell_type": "markdown",
   "metadata": {},
   "source": [
    "# [NTDS'18] milestone 2: network models\n",
    "[ntds'18]: https://github.com/mdeff/ntds_2018\n",
    "\n",
    "[Hermina Petric Maretic](https://people.epfl.ch/hermina.petricmaretic), [EPFL LTS4](https://lts4.epfl.ch)"
   ]
  },
  {
   "cell_type": "markdown",
   "metadata": {},
   "source": [
    "## Students\n",
    "\n",
    "* Team: `<your team number>`\n",
    "* Students: `<the name of all students in the team>`\n",
    "* Dataset: `<the dataset you used to complete the milestone>`"
   ]
  },
  {
   "cell_type": "markdown",
   "metadata": {},
   "source": [
    "## Rules\n",
    "\n",
    "* Milestones have to be completed by teams. No collaboration between teams is allowed.\n",
    "* Textual answers shall be short. Typically one to two sentences.\n",
    "* Code has to be clean.\n",
    "* In the first part, you cannot import any other library than we imported. In the second part, you are allowed to import any library you want.\n",
    "* When submitting, the notebook is executed and the results are stored. I.e., if you open the notebook again it should show numerical results and plots. We won't be able to execute your notebooks.\n",
    "* The notebook is re-executed from a blank state before submission. That is to be sure it is reproducible. You can click \"Kernel\" then \"Restart & Run All\" in Jupyter."
   ]
  },
  {
   "cell_type": "markdown",
   "metadata": {},
   "source": [
    "## Objective\n",
    "\n",
    "The purpose of this milestone is to explore various random network models, analyse their properties and compare them to your network. In the first part of the milestone you will implement two random graph models and try to fit them to your network. In this part you are not allowed to use any additional package. In the second part of the milestone you will choose a third random graph model that you think shares some properties with your network. You will be allowed to use additional packages to construct this network, but you must explain your network choice. Finally, make your code as clean as possible, and keep your textual answers short."
   ]
  },
  {
   "cell_type": "markdown",
   "metadata": {},
   "source": [
    "## Part 0\n",
    "\n",
    "Import the adjacency matrix of your graph that you constructed in milestone 1, as well as the number of nodes and edges of your network."
   ]
  },
  {
   "cell_type": "code",
   "execution_count": 1,
   "metadata": {},
   "outputs": [],
   "source": [
    "import numpy as np # we need it to load adjacency\n",
    "adjacency = np.load('../data/fma_metadata/adjacency.npy') # the adjacency matrix\n",
    "n_nodes = adjacency.shape[0]  # the number of nodes in the network\n",
    "n_edges =  (sum(sum(np.ceil(adjacency))))/2 # the number of edges in the network"
   ]
  },
  {
   "cell_type": "markdown",
   "metadata": {},
   "source": [
    "## Part 1\n",
    "\n",
    "**For the computation of this part of the milestone you are only allowed to use the packages that have been imported in the cell below.**"
   ]
  },
  {
   "cell_type": "code",
   "execution_count": 2,
   "metadata": {},
   "outputs": [],
   "source": [
    "%matplotlib inline\n",
    "\n",
    "import random\n",
    "\n",
    "# import numpy as np\n",
    "import pandas as pd\n",
    "import matplotlib.pyplot as plt\n",
    "import scipy"
   ]
  },
  {
   "cell_type": "markdown",
   "metadata": {},
   "source": [
    "### Question 1\n",
    "\n",
    "Create a function that constructs an Erdős–Rényi graph."
   ]
  },
  {
   "cell_type": "code",
   "execution_count": 3,
   "metadata": {},
   "outputs": [
    {
     "name": "stdout",
     "output_type": "stream",
     "text": [
      "np random: 0.43599490214200376\n",
      "random: 0.9560342718892494\n"
     ]
    }
   ],
   "source": [
    "seed = 2\n",
    "np.random.seed(seed)\n",
    "random.seed(seed)\n",
    "print(\"np random:\", np.random.rand())\n",
    "print(\"random:\", random.random())"
   ]
  },
  {
   "cell_type": "code",
   "execution_count": 4,
   "metadata": {},
   "outputs": [],
   "source": [
    "def erdos_renyi(n, p, seed=None):\n",
    "    \"\"\"Create an instance from the Erdos-Renyi graph model.\n",
    "    \n",
    "    Parameters\n",
    "    ----------\n",
    "    n: int\n",
    "        Size of the graph.\n",
    "    p: float\n",
    "        Edge probability. A number between 0 and 1.\n",
    "    seed: int (optional)\n",
    "        Seed for the random number generator. To get reproducible results.\n",
    "    \n",
    "    Returns\n",
    "    -------\n",
    "    adjacency\n",
    "        The adjacency matrix of a graph.\n",
    "    \"\"\"\n",
    "    # Use the seed if provided\n",
    "    np.random.seed(seed)\n",
    "    \n",
    "    # Binarise Matrix Function:\n",
    "    binarise = lambda x: 1 if(x < p) else 0\n",
    "    binarise = np.vectorize(binarise)\n",
    "    \n",
    "    # Create a Matrix with random numbers\n",
    "    a = binarise(np.random.rand(n,n))\n",
    "    \n",
    "    # Take the upper part and symmetrize\n",
    "    a = np.tril(a, -1).T\n",
    "    adjacency = a + a.T\n",
    "    \n",
    "    return adjacency"
   ]
  },
  {
   "cell_type": "code",
   "execution_count": 5,
   "metadata": {},
   "outputs": [
    {
     "data": {
      "text/plain": [
       "Text(0.5,1.05,'Erdos-Renyi (5, 0.6)')"
      ]
     },
     "execution_count": 5,
     "metadata": {},
     "output_type": "execute_result"
    },
    {
     "data": {
      "image/png": "[encoded data removed]",
      "text/plain": [
       "<Figure size 432x288 with 1 Axes>"
      ]
     },
     "metadata": {},
     "output_type": "display_data"
    }
   ],
   "source": [
    "er = erdos_renyi(5, 0.6, 9765)\n",
    "plt.spy(er)\n",
    "plt.title('Erdos-Renyi (5, 0.6)')"
   ]
  },
  {
   "cell_type": "code",
   "execution_count": 6,
   "metadata": {},
   "outputs": [
    {
     "data": {
      "text/plain": [
       "Text(0.5,1.05,'Erdos-Renyi (10, 0.4)')"
      ]
     },
     "execution_count": 6,
     "metadata": {},
     "output_type": "execute_result"
    },
    {
     "data": {
      "image/png": "[encoded data removed]",
      "text/plain": [
       "<Figure size 432x288 with 1 Axes>"
      ]
     },
     "metadata": {},
     "output_type": "display_data"
    }
   ],
   "source": [
    "er = erdos_renyi(10, 0.4, 7648)\n",
    "plt.spy(er)\n",
    "plt.title('Erdos-Renyi (10, 0.4)')"
   ]
  },
  {
   "cell_type": "markdown",
   "metadata": {},
   "source": [
    "### Question 2\n",
    "\n",
    "Use the function to create a random Erdos-Renyi graph. Choose the parameters such that number of nodes is the same as in your graph, and the number of edges similar. You don't need to set the random seed. Comment on your choice of parameters."
   ]
  },
  {
   "cell_type": "code",
   "execution_count": 7,
   "metadata": {},
   "outputs": [
    {
     "name": "stdout",
     "output_type": "stream",
     "text": [
      "# of edge in our graph: 250493\n",
      "# of edge in Erdős–Rényi graph: 249452\n"
     ]
    }
   ],
   "source": [
    "er = erdos_renyi(1988, 0.1265, 0) # 0 is a good seed! :-)\n",
    "n_edges_er = (sum(sum(np.ceil(er))))/2\n",
    "print(\"# of edge in our graph:\", int(n_edges))\n",
    "print(\"# of edge in Erdős–Rényi graph:\", int(n_edges_er))"
   ]
  },
  {
   "cell_type": "code",
   "execution_count": 8,
   "metadata": {},
   "outputs": [
    {
     "name": "stdout",
     "output_type": "stream",
     "text": [
      "True\n"
     ]
    }
   ],
   "source": [
    "import networkx as nx\n",
    "s = 0\n",
    "er = erdos_renyi(1988, 0.1265, s)\n",
    "print(nx.is_connected(nx.from_numpy_matrix(er)))"
   ]
  },
  {
   "cell_type": "code",
   "execution_count": 9,
   "metadata": {},
   "outputs": [
    {
     "name": "stdout",
     "output_type": "stream",
     "text": [
      "[[0.10678871 0.74740593 0.         0.728394   0.        ]\n",
      " [0.         0.         0.         0.         0.        ]\n",
      " [0.86964239 0.71834288 0.         0.36007286 0.        ]\n",
      " [0.         0.         0.         0.         0.        ]\n",
      " [0.12061499 0.0544869  0.         0.73632509 0.        ]]\n",
      "original data shape (5, 5)\n",
      "----- after removing rows with only 0 -----\n",
      "[[0.10678871 0.74740593 0.         0.728394   0.        ]\n",
      " [0.         0.         0.         0.         0.        ]\n",
      " [0.86964239 0.71834288 0.         0.36007286 0.        ]\n",
      " [0.         0.         0.         0.         0.        ]\n",
      " [0.12061499 0.0544869  0.         0.73632509 0.        ]]\n",
      "new data shape (5, 5)\n"
     ]
    },
    {
     "data": {
      "text/plain": [
       "array([0.10678871, 0.74740593, 0.        , 0.728394  , 0.        ])"
      ]
     },
     "execution_count": 9,
     "metadata": {},
     "output_type": "execute_result"
    }
   ],
   "source": [
    "import numpy as np\n",
    "\n",
    "data = np.random.rand(5, 5)\n",
    "\n",
    "data[1,:] = 0\n",
    "data[3,:] = 0\n",
    "\n",
    "data[:,2] = 0\n",
    "data[:,4] = 0\n",
    "\n",
    "print(data)\n",
    "print('original data shape', data.shape)\n",
    "\n",
    "\n",
    "print('----- after removing rows with only 0 -----')\n",
    "\n",
    "\n",
    "print(data)\n",
    "print('new data shape', data.shape)\n",
    "data[0]"
   ]
  },
  {
   "cell_type": "markdown",
   "metadata": {},
   "source": [
    "# The Timmy Experience"
   ]
  },
  {
   "cell_type": "code",
   "execution_count": 10,
   "metadata": {},
   "outputs": [],
   "source": [
    "# Old\n",
    "def remove_isolated_nodes(adjacency):\n",
    "    #remove null rows and columns\n",
    "    non_zero=np.count_nonzero(adjacency,axis=1)\n",
    "    null_id=[]\n",
    "    for i in range(0,adjacency.shape[0]):\n",
    "        if not non_zero[i]:\n",
    "            null_id.append(i) \n",
    "    adjacency_con=np.delete(adjacency, null_id, axis=0)\n",
    "    adjacency_con=np.delete(adjacency_con, null_id, axis=1)\n",
    "    return adjacency_con\n",
    "\n",
    "# New\n",
    "def remove_isolated_nodes2(adjacency):\n",
    "    # Remove line full of 0\n",
    "    matrix = adjacency[~np.all(adjacency == 0, axis=1)]\n",
    "    \n",
    "    # Remove column full of 0\n",
    "    matrix = matrix.T[~np.all(matrix.T == 0, axis=1)]\n",
    "    \n",
    "    return matrix"
   ]
  },
  {
   "cell_type": "code",
   "execution_count": 11,
   "metadata": {},
   "outputs": [
    {
     "data": {
      "text/plain": [
       "0.0"
      ]
     },
     "execution_count": 11,
     "metadata": {},
     "output_type": "execute_result"
    }
   ],
   "source": [
    "adjacency_con=remove_isolated_nodes2(adjacency)\n",
    "\n",
    "\n",
    "# Check if the two functions return the same matrix\n",
    "sum(sum(remove_isolated_nodes(adjacency) -  remove_isolated_nodes2(adjacency)))"
   ]
  },
  {
   "cell_type": "markdown",
   "metadata": {},
   "source": [
    "### Question 3\n",
    "\n",
    "Create a function that constructs a Barabási-Albert graph."
   ]
  },
  {
   "cell_type": "code",
   "execution_count": 12,
   "metadata": {},
   "outputs": [],
   "source": [
    "def barabasi_albert(n, m, m0=2, seed=None):\n",
    "    \"\"\"Create an instance from the Barabasi-Albert graph model.\n",
    "    \n",
    "    Parameters\n",
    "    ----------\n",
    "    n: int\n",
    "        Size of the graph.\n",
    "    m: int\n",
    "        Number of edges to attach from a new node to existing nodes.\n",
    "    m0: int (optional)\n",
    "        Number of nodes for the inital connected network.\n",
    "    seed: int (optional)\n",
    "        Seed for the random number generator. To get reproducible results.\n",
    "    \n",
    "    Returns\n",
    "    -------\n",
    "    adjacency\n",
    "        The adjacency matrix of a graph.\n",
    "    \"\"\"\n",
    "    if seed:\n",
    "        random.seed(seed)\n",
    "    \n",
    "    adjacency=np.zeros([n,n])\n",
    "      \n",
    "    if m>m0:\n",
    "        m0=m\n",
    "    #initial state (everything connected)\n",
    "    for i in range(0,m0):\n",
    "        adjacency[i,0:m0]=1\n",
    "        adjacency[i,i]=m0-1 #store the node degree on the diag\n",
    "        deg_tot=m0*(m0-1)/2 \n",
    "    print('initial finished')\n",
    "    # for each node\n",
    "    for i in range(m0,n): \n",
    "       # print('i=',i)\n",
    "        nb_links=0;\n",
    "        node_list=[[j] for j in range(i)]\n",
    "        random.shuffle(node_list)#ensure the random choice of node to connect \n",
    "        \n",
    "        # while there still need links to create\n",
    "        while nb_links<m:\n",
    "            rand_numb=random.random()\n",
    "            for k in node_list:\n",
    "                #create link and update adjacency matrix\n",
    "                if rand_numb<=adjacency[k,k]/deg_tot :\n",
    "                    adjacency[i,k]=1\n",
    "                    adjacency[k,i]=1\n",
    "                    adjacency[k,k]+=1\n",
    "                    adjacency[i,i]+=1\n",
    "                    deg_tot+=1\n",
    "                    nb_links+=1\n",
    "                    node_list.remove(k)\n",
    "                if nb_links==m: # m links already created\n",
    "                    break\n",
    "    #remove the node degree used to create the network                \n",
    "    np.fill_diagonal(adjacency, 0)\n",
    "    \n",
    "    return adjacency"
   ]
  },
  {
   "cell_type": "code",
   "execution_count": 13,
   "metadata": {},
   "outputs": [
    {
     "name": "stdout",
     "output_type": "stream",
     "text": [
      "initial finished\n"
     ]
    },
    {
     "data": {
      "text/plain": [
       "Text(0.5,1.05,'Barabasi-Albert (5, 1)')"
      ]
     },
     "execution_count": 13,
     "metadata": {},
     "output_type": "execute_result"
    },
    {
     "data": {
      "image/png": "[encoded data removed]",
      "text/plain": [
       "<Figure size 432x288 with 1 Axes>"
      ]
     },
     "metadata": {},
     "output_type": "display_data"
    }
   ],
   "source": [
    "ba = barabasi_albert(5, 1, 2, 9087)\n",
    "plt.spy(ba)\n",
    "plt.title('Barabasi-Albert (5, 1)')"
   ]
  },
  {
   "cell_type": "code",
   "execution_count": 14,
   "metadata": {},
   "outputs": [
    {
     "name": "stdout",
     "output_type": "stream",
     "text": [
      "initial finished\n"
     ]
    },
    {
     "data": {
      "text/plain": [
       "Text(0.5,1.05,'Barabasi-Albert (10, 2)')"
      ]
     },
     "execution_count": 14,
     "metadata": {},
     "output_type": "execute_result"
    },
    {
     "data": {
      "image/png": "[encoded data removed]",
      "text/plain": [
       "<Figure size 432x288 with 1 Axes>"
      ]
     },
     "metadata": {},
     "output_type": "display_data"
    }
   ],
   "source": [
    "ba = barabasi_albert(10, 2, 3, 8708)\n",
    "plt.spy(ba)\n",
    "plt.title('Barabasi-Albert (10, 2)')"
   ]
  },
  {
   "cell_type": "markdown",
   "metadata": {},
   "source": [
    "### Question 4\n",
    "\n",
    "Use the function to create a random Barabási-Albert graph. Choose the parameters such that number of nodes is the same as in your graph, and the number of edges similar. You don't need to set the random seed. Comment on your choice of parameters."
   ]
  },
  {
   "cell_type": "markdown",
   "metadata": {},
   "source": [
    "ba = barabasi_albert(1988, 135)\n",
    "n_edges_ba =  (sum(sum(ba)))/2 # the number of edges in the network\n",
    "print('real network edges:',n_edges,'\\nBarabasi-Albert edges:',n_edges_ba)"
   ]
  },
  {
   "cell_type": "markdown",
   "metadata": {},
   "source": [
    "np.save('../data/fma_metadata/ba.npy',ba)"
   ]
  },
  {
   "cell_type": "markdown",
   "metadata": {},
   "source": [
    "### Question 5\n",
    "\n",
    "Compare the number of edges in all three networks (your real network, the Erdős–Rényi network, and the Barabási-Albert netowk)."
   ]
  },
  {
   "cell_type": "code",
   "execution_count": 15,
   "metadata": {},
   "outputs": [],
   "source": [
    "# Your code here."
   ]
  },
  {
   "cell_type": "markdown",
   "metadata": {},
   "source": [
    "### Question 6\n",
    "\n",
    "Implement a function that computes the [Kullback–Leibler (KL) divergence](https://en.wikipedia.org/wiki/Kullback%E2%80%93Leibler_divergence) between two probability distributions.\n",
    "We'll use it to compare the degree distributions of networks."
   ]
  },
  {
   "cell_type": "code",
   "execution_count": 16,
   "metadata": {},
   "outputs": [],
   "source": [
    "def kl_divergence(p, q):\n",
    "    \"\"\"Compute the KL divergence between probability distributions of degrees of two networks.\n",
    "    \n",
    "    Parameters\n",
    "    ----------\n",
    "    p: np.array\n",
    "        Probability distribution of degrees of the 1st graph.\n",
    "    q: np.array\n",
    "        Probability distribution of degrees of the 2nd graph.\n",
    "    \n",
    "    Returns\n",
    "    -------\n",
    "    kl\n",
    "        The KL divergence between the two distributions.\n",
    "    \"\"\"\n",
    "    \n",
    "    #Formula given on Wikipedia\n",
    "    kl = sum(p*np.log(p/q))\n",
    "    \n",
    "    return kl"
   ]
  },
  {
   "cell_type": "code",
   "execution_count": 17,
   "metadata": {},
   "outputs": [
    {
     "data": {
      "text/plain": [
       "0.09151622184943575"
      ]
     },
     "execution_count": 17,
     "metadata": {},
     "output_type": "execute_result"
    }
   ],
   "source": [
    "p_test = np.array([0.2, 0.2, 0.2, 0.4])\n",
    "q_test = np.array([0.3, 0.3, 0.1, 0.3])\n",
    "kl_divergence(p_test, q_test)"
   ]
  },
  {
   "cell_type": "markdown",
   "metadata": {},
   "source": [
    "### Question 7\n",
    "\n",
    "Compare the degree distribution of your network to each of the two synthetic ones, in terms of KL divergence. **Hint:** Make sure you normalise your degree distributions to make them valid probability distributions."
   ]
  },
  {
   "cell_type": "code",
   "execution_count": 18,
   "metadata": {},
   "outputs": [
    {
     "name": "stdout",
     "output_type": "stream",
     "text": [
      "Degree distributions:\n",
      "Ours: [8.70283800e-04 6.58701042e-05 4.59094665e-05 ... 5.28956897e-04\n",
      " 2.19567014e-04 9.10205076e-04] \n",
      "Erdős–Rényi: [0.0005031  0.00051914 0.00049909 ... 0.00053317 0.00049909 0.00048707] \n",
      "Barabási-Albert: [0.1 0.4 0.3 0.  0.2]\n"
     ]
    }
   ],
   "source": [
    "our_deg_distr = sum(np.ceil(remove_isolated_nodes2(adjacency)))/sum(sum(np.ceil(remove_isolated_nodes2(adjacency))))\n",
    "er_deg_distr = sum(er)/sum(sum(er))\n",
    "ba_deg_distr = np.array([.1,.4,.3,0,.2])#sum(ba)/sum(sum(er))\n",
    "print('Degree distributions:\\nOurs:',our_deg_distr, '\\nErdős–Rényi:', er_deg_distr, '\\nBarabási-Albert:',ba_deg_distr)"
   ]
  },
  {
   "cell_type": "code",
   "execution_count": 19,
   "metadata": {},
   "outputs": [
    {
     "data": {
      "text/plain": [
       "0.23937922086161273"
      ]
     },
     "execution_count": 19,
     "metadata": {},
     "output_type": "execute_result"
    }
   ],
   "source": [
    "kl_divergence(our_deg_distr, er_deg_distr)"
   ]
  },
  {
   "cell_type": "code",
   "execution_count": 20,
   "metadata": {},
   "outputs": [
    {
     "data": {
      "image/png": "[encoded data removed]",
      "text/plain": [
       "<Figure size 1008x720 with 1 Axes>"
      ]
     },
     "metadata": {},
     "output_type": "display_data"
    },
    {
     "data": {
      "text/plain": [
       "0.9939999999999459"
      ]
     },
     "execution_count": 20,
     "metadata": {},
     "output_type": "execute_result"
    }
   ],
   "source": [
    "plt.rcParams['figure.figsize'] = [14, 10]\n",
    "#kl_divergence(our_deg_distr, er_deg_distr)\n",
    "#our_deg_distr\n",
    "weights = np.ones_like(sum(np.ceil(adjacency))) / float(n_nodes)\n",
    "plt.hist(sum(np.ceil(adjacency)), weights=weights)\n",
    "\n",
    "weights2 = np.ones_like(sum(np.ceil(er))) / float(n_nodes)\n",
    "plt.hist(sum(np.ceil(er)), weights=weights2)\n",
    "\n",
    "weights3 = np.ones_like(sum(np.ceil(ba))) / float(n_nodes)\n",
    "plt.hist(sum(np.ceil(ba)), weights=weights3)\n",
    "plt.show()\n",
    "\n",
    "sum(weights2)"
   ]
  },
  {
   "cell_type": "markdown",
   "metadata": {},
   "source": [
    "### Question 8\n",
    "\n",
    "Plot the degree distribution historgrams for all three networks. Are they consistent with the KL divergence results? Explain."
   ]
  },
  {
   "cell_type": "code",
   "execution_count": 21,
   "metadata": {},
   "outputs": [
    {
     "data": {
      "image/png": "[encoded data removed]",
      "text/plain": [
       "<Figure size 1008x720 with 1 Axes>"
      ]
     },
     "metadata": {},
     "output_type": "display_data"
    },
    {
     "data": {
      "image/png": "[encoded data removed]",
      "text/plain": [
       "<Figure size 1008x720 with 1 Axes>"
      ]
     },
     "metadata": {},
     "output_type": "display_data"
    },
    {
     "data": {
      "image/png": "[encoded data removed]",
      "text/plain": [
       "<Figure size 1008x720 with 1 Axes>"
      ]
     },
     "metadata": {},
     "output_type": "display_data"
    }
   ],
   "source": [
    "plt.hist(our_deg_distr)\n",
    "plt.title('Our degree distribution')\n",
    "plt.xlabel('Degree')\n",
    "plt.ylabel('Number of nodes with this degree')\n",
    "plt.show()\n",
    "\n",
    "plt.hist(er_deg_distr)\n",
    "plt.title('Erdős–Rényi example degree distribution')\n",
    "plt.xlabel('Degree')\n",
    "plt.ylabel('Number of nodes with this degree')\n",
    "plt.show()\n",
    "\n",
    "plt.hist(ba_deg_distr)\n",
    "plt.title('Barabási-Albert example degree distribution')\n",
    "plt.xlabel('Degree')\n",
    "plt.ylabel('Number of nodes with this degree')\n",
    "plt.show()"
   ]
  },
  {
   "cell_type": "markdown",
   "metadata": {},
   "source": [
    "**Your answer here.**"
   ]
  },
  {
   "cell_type": "markdown",
   "metadata": {},
   "source": [
    "### Question 9\n",
    "\n",
    "Imagine you got equal degree distributions. Would that guarantee you got the same graph? Explain."
   ]
  },
  {
   "cell_type": "markdown",
   "metadata": {},
   "source": [
    "**Your answer here.**"
   ]
  },
  {
   "cell_type": "markdown",
   "metadata": {},
   "source": [
    "## Part 2\n",
    "\n",
    "**You are allowed to use any additional library here (e.g., NetworkX, PyGSP, etc.).** Be careful not to include something here and use it in part 1!"
   ]
  },
  {
   "cell_type": "markdown",
   "metadata": {},
   "source": [
    "### Question 10\n",
    "\n",
    "Choose a random network model that fits you network well. Explain your choice. \n",
    "\n",
    "**Hint:** Check lecture notes for different network models and their properties. Your choice should be made based on at least one property you'd expect to be similar."
   ]
  },
  {
   "cell_type": "markdown",
   "metadata": {},
   "source": [
    "**Your answer here.**"
   ]
  },
  {
   "cell_type": "markdown",
   "metadata": {},
   "source": [
    "### Question 11\n",
    "\n",
    "Explain (in short) how the chosen model works."
   ]
  },
  {
   "cell_type": "markdown",
   "metadata": {},
   "source": [
    "**Your answer here.**"
   ]
  },
  {
   "cell_type": "markdown",
   "metadata": {},
   "source": [
    "### Question 12\n",
    "\n",
    "Create a random graph from that model, such that the number of nodes is the same as in your graph."
   ]
  },
  {
   "cell_type": "code",
   "execution_count": 22,
   "metadata": {},
   "outputs": [],
   "source": [
    "# Your code here."
   ]
  },
  {
   "cell_type": "markdown",
   "metadata": {},
   "source": [
    "### Question 13\n",
    "\n",
    "Check the properties you expected to be similar, and compare to your network."
   ]
  },
  {
   "cell_type": "code",
   "execution_count": 23,
   "metadata": {},
   "outputs": [],
   "source": [
    "# Your code here."
   ]
  },
  {
   "cell_type": "markdown",
   "metadata": {},
   "source": [
    "Are the results what you expected? Explain."
   ]
  },
  {
   "cell_type": "markdown",
   "metadata": {},
   "source": [
    "**Your answer here.**"
   ]
  }
 ],
 "metadata": {
  "kernelspec": {
   "display_name": "Python 3",
   "language": "python",
   "name": "python3"
  },
  "language_info": {
   "codemirror_mode": {
    "name": "ipython",
    "version": 3
   },
   "file_extension": ".py",
   "mimetype": "text/x-python",
   "name": "python",
   "nbconvert_exporter": "python",
   "pygments_lexer": "ipython3",
   "version": "3.6.6"
  }
 },
 "nbformat": 4,
 "nbformat_minor": 2
}
