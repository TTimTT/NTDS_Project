{
 "cells": [
  {
   "cell_type": "markdown",
   "metadata": {},
   "source": [
    "## Generate the graph that will be use to create your playlist\n",
    "This operation need to be executed just once"
   ]
  },
  {
   "cell_type": "code",
   "execution_count": 15,
   "metadata": {},
   "outputs": [],
   "source": [
    "#import libraries\n",
    "import pickle\n",
    "import numpy as np\n",
    "import pandas as pd\n",
    "import networkx as nx\n",
    "from scipy import sparse\n",
    "from scipy.spatial import cKDTree\n",
    "import scipy.sparse.linalg\n",
    "import matplotlib.pyplot as plt\n",
    "from scipy.spatial.distance import pdist, squareform"
   ]
  },
  {
   "cell_type": "code",
   "execution_count": 2,
   "metadata": {},
   "outputs": [],
   "source": [
    "#setup plot\n",
    "#%matplotlib inline\n",
    "#import seaborn\n",
    "#plt.style.use('seaborn')#switch to seaborn style# TODO\n",
    "#seaborn.set_style(style='white')"
   ]
  },
  {
   "cell_type": "code",
   "execution_count": 3,
   "metadata": {},
   "outputs": [],
   "source": [
    "#Load Data\n",
    "tracks = pd.read_csv('data/tracks.csv', index_col=0, header=[0, 1]);\n",
    "features_init= pd.read_csv('data/features.csv', index_col=0, header=[0, 1, 2])\n",
    "genres=pd.read_csv('data/genres.csv', index_col=0, header=[0])"
   ]
  },
  {
   "cell_type": "code",
   "execution_count": 4,
   "metadata": {},
   "outputs": [],
   "source": [
    "# setup the labels\n",
    "label=pd.DataFrame({('label','genre','main'): tracks['track']['genre_top'],\n",
    "                    ('label','genre','sub'): tracks['track']['genres']})\n",
    "\n",
    "# Keep on the tracks from subset\n",
    "label = label[tracks['set','subset'] == 'small']\n",
    "\n",
    "# Keep only the genres we want\n",
    "genre_list = ['Rock','Folk','Hip-Hop']\n",
    "label = label[label['label']['genre']['main'].isin(genre_list)]\n",
    "\n",
    "#add sub genres\n",
    "genres_dict=genres['title'].to_dict()\n",
    "genres_dict={str(key):genres_dict[key] for key in genres_dict}\n",
    "\n",
    "label['label']['genre']['sub']=label['label']['genre']['sub'].str.replace('[^0-9| ]','').str.split(' ').apply(lambda x:'|'.join([genres_dict[k] for k in x ]))\n",
    "\n",
    "#normalize the features\n",
    "dfmax=abs(features_init).max()\n",
    "features=features_init.divide(dfmax)\n",
    "np.save('data/dfmax',dfmax)\n",
    "# create usable dataset\n",
    "dataSet = features.merge(label, left_index=True, right_on='track_id')"
   ]
  },
  {
   "cell_type": "code",
   "execution_count": 5,
   "metadata": {},
   "outputs": [],
   "source": [
    "#save dataset\n",
    "dataSet.to_pickle('data/dataSet.csv')"
   ]
  },
  {
   "cell_type": "code",
   "execution_count": 6,
   "metadata": {},
   "outputs": [],
   "source": [
    "#we calculate the distances of our dataset\n",
    "distances = pdist(dataSet.drop(columns='label',level=0).values, metric='euclidean')\n",
    "\n",
    "#We calculate the weights of our adjacency matrix\n",
    "kernel_width = distances.mean()\n",
    "weights = np.exp(-distances**2 / kernel_width**2)\n",
    "adjacency_full = squareform(weights)"
   ]
  },
  {
   "cell_type": "code",
   "execution_count": 7,
   "metadata": {},
   "outputs": [
    {
     "data": {
      "image/png": "[encoded data removed]",
      "text/plain": [
       "<Figure size 432x288 with 1 Axes>"
      ]
     },
     "metadata": {},
     "output_type": "display_data"
    }
   ],
   "source": [
    "plt.hist(weights)\n",
    "plt.title('Distribution of weights')\n",
    "plt.xlabel('Weights of links')\n",
    "plt.show()"
   ]
  },
  {
   "cell_type": "code",
   "execution_count": 8,
   "metadata": {},
   "outputs": [
    {
     "name": "stdout",
     "output_type": "stream",
     "text": [
      "#nodes=  3000\n",
      "#compo=  465\n",
      "#nodes in giant component=  2512\n",
      "percentage of nodes in main component=  0.8373333333333334\n"
     ]
    }
   ],
   "source": [
    "#informatons over connectivity of main component \n",
    "adjacency=adjacency_full.copy() #we keep the original adjacency matrix\n",
    "adjacency[adjacency < 0.65] = 0\n",
    "graph=nx.from_numpy_matrix(adjacency)\n",
    "print(\"#nodes= \",adjacency.shape[0])\n",
    "print(\"#compo= \",nx.number_connected_components(graph))\n",
    "list_comp=sorted(nx.connected_components(graph), key = len, reverse=True)\n",
    "print(\"#nodes in giant component= \", len(list_comp[0]))\n",
    "print(\"percentage of nodes in main component= \",len(list_comp[0])/adjacency.shape[0])"
   ]
  },
  {
   "cell_type": "code",
   "execution_count": 18,
   "metadata": {},
   "outputs": [],
   "source": [
    "#set nodes id and genre\n",
    "idx_dict={i : dataSet.index[i] for i in range(len(dataSet.index))}\n",
    "\n",
    "# Save the dictionnary for heat diffusion\n",
    "with open('data/idx_dict.pkl', 'wb') as handle:\n",
    "    pickle.dump(idx_dict, handle, protocol=pickle.HIGHEST_PROTOCOL)\n",
    "\n",
    "# nx.set_node_attributes(graph, values=idx_dict, name=\"idx\")\n",
    "\n",
    "label_dict={i : dataSet.label.genre.main.values[i] for i in range(len(dataSet.label.genre.main.values))}\n",
    "nx.set_node_attributes(graph, values=label_dict, name=\"genre\")\n",
    "\n",
    "graph=nx.relabel_nodes(graph,idx_dict)"
   ]
  },
  {
   "cell_type": "code",
   "execution_count": 10,
   "metadata": {},
   "outputs": [],
   "source": [
    "#keep only the main component and corresponding label\n",
    "conn_graph = list(nx.connected_component_subgraphs(graph))[0]\n",
    "conn_label=label.iloc[list(list_comp[0])]"
   ]
  },
  {
   "cell_type": "code",
   "execution_count": 13,
   "metadata": {},
   "outputs": [],
   "source": [
    "#Possibility to export to visualize in Gephi\n",
    "nx.write_gexf(conn_graph, \"data/musicGraph.gexf\")\n",
    "np.save(\"data/connGraph.npy\", nx.to_numpy_matrix(conn_graph))"
   ]
  },
  {
   "cell_type": "code",
   "execution_count": null,
   "metadata": {},
   "outputs": [],
   "source": [
    "#Use a numerical label for plotting usage\n",
    "label_num=np.array(conn_label.label.genre.main)\n",
    "\n",
    "for i,name in enumerate(conn_label.label.genre.main.unique()):\n",
    "    label_num[label_num==name]=i\n",
    "    print(name,\" \",i)    "
   ]
  },
  {
   "cell_type": "code",
   "execution_count": null,
   "metadata": {},
   "outputs": [],
   "source": [
    "#Calculate positions using a spring layout\n",
    "coords = nx.spring_layout(conn_graph)\n",
    "np.save(\"data/coords2D.npy\",coords)"
   ]
  },
  {
   "cell_type": "code",
   "execution_count": null,
   "metadata": {},
   "outputs": [],
   "source": [
    "#Plot the resulting graph colored by genres\n",
    "plt.figure(figsize=(15, 10))\n",
    "nx.draw_networkx_nodes(conn_graph, coords,node_size=20, node_color=label_num)\n",
    "# nx.draw_networkx_edges(conn_graph, coords, alpha=0.3)\n",
    "sm = plt.cm.ScalarMappable( norm=plt.Normalize(vmin=np.min(label_num), vmax=np.max(label_num)))\n",
    "sm._A = []\n",
    "plt.colorbar(sm)\n",
    "plt.show()"
   ]
  }
 ],
 "metadata": {
  "kernelspec": {
   "display_name": "Python 3",
   "language": "python",
   "name": "python3"
  },
  "language_info": {
   "codemirror_mode": {
    "name": "ipython",
    "version": 3
   },
   "file_extension": ".py",
   "mimetype": "text/x-python",
   "name": "python",
   "nbconvert_exporter": "python",
   "pygments_lexer": "ipython3",
   "version": "3.6.6"
  }
 },
 "nbformat": 4,
 "nbformat_minor": 2
}
