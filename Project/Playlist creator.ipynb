{
 "cells": [
  {
   "cell_type": "markdown",
   "metadata": {},
   "source": [
    "# Free Music Alternative Playlists\n",
    "Create your playlists! :D"
   ]
  },
  {
   "cell_type": "code",
   "execution_count": 1,
   "metadata": {},
   "outputs": [],
   "source": [
    "import pickle\n",
    "import random\n",
    "import numpy as np\n",
    "import pandas as pd\n",
    "import networkx as nx\n",
    "from pygsp import graphs, filters\n",
    "from scipy.spatial import cKDTree\n",
    "\n",
    "# Interactive output\n",
    "import ipywidgets as widgets\n",
    "from ipywidgets import interact, interactive, fixed, interact_manual"
   ]
  },
  {
   "cell_type": "markdown",
   "metadata": {},
   "source": [
    "### Parameters"
   ]
  },
  {
   "cell_type": "code",
   "execution_count": 2,
   "metadata": {},
   "outputs": [],
   "source": [
    "N = 10;  # songs in the playlist\n",
    "\n",
    "tau = 85 # heat diffusion coefficient in the range [20:100]\n",
    "         # This parameter corresponds to the spreading of the exploration\n",
    "         # in case you use method 2. Higher tau => more variety"
   ]
  },
  {
   "cell_type": "markdown",
   "metadata": {},
   "source": [
    "### Data Loading"
   ]
  },
  {
   "cell_type": "code",
   "execution_count": 3,
   "metadata": {},
   "outputs": [],
   "source": [
    "# Load data\n",
    "dataSet = pd.read_pickle('data/dataSet.csv')\n",
    "dfmax=np.load('data/dfmax.npy')\n",
    "tracks = pd.read_csv('data/tracks.csv', index_col=0, header=[0, 1]);\n",
    "tracks_raw = pd.read_csv('data/raw_tracks.csv', index_col=0);"
   ]
  },
  {
   "cell_type": "code",
   "execution_count": 4,
   "metadata": {},
   "outputs": [],
   "source": [
    "# Load custom songs features\n",
    "features_c = pd.read_csv('data/custom_features.csv', index_col=0, header=[0, 1, 2], sep=',', encoding='utf-8')\n",
    "tid_c = pd.read_csv('data/custom_tid.csv', index_col=0, header=[0], sep=',', encoding='utf-8')\n",
    "\n",
    "features_c=features_c.divide(dfmax)\n",
    "numb_cust=len(features_c)\n",
    "# Uncomment to see the extracted features\n",
    "#features_c.head()"
   ]
  },
  {
   "cell_type": "markdown",
   "metadata": {},
   "source": [
    "### Functions\n",
    "Functions used, primarily for displaying the playlists"
   ]
  },
  {
   "cell_type": "code",
   "execution_count": 5,
   "metadata": {},
   "outputs": [],
   "source": [
    "# Playlists\n",
    "meta_playlist = dict()\n",
    "\n",
    "# Dictionary to link the node position and the track ID\n",
    "idx_dict={i : dataSet.index[i] for i in range(len(dataSet.index))}  \n",
    "inv_dict = {v: k for k, v in idx_dict.items()}"
   ]
  },
  {
   "cell_type": "code",
   "execution_count": 6,
   "metadata": {},
   "outputs": [],
   "source": [
    "def make_clickable(val):\n",
    "    # target _blank to open new window\n",
    "    return '<a target=\"_blank\" href=\"{}\">{}</a>'.format(val, 'Open')+'&nbsp;&nbsp;&nbsp;&nbsp;&nbsp;&nbsp;&nbsp'+'<a target=\"_blank\" href=\"{}\">{}</a>'.format(val+'/download', 'Download')"
   ]
  },
  {
   "cell_type": "code",
   "execution_count": 7,
   "metadata": {},
   "outputs": [],
   "source": [
    "def display_result(playlist):\n",
    "    result=pd.DataFrame({'Artist': tracks.artist.name[playlist], \\\n",
    "                         'Title':tracks.track.title[playlist], \\\n",
    "                         'Links':tracks_raw['track_url'][playlist]}) \n",
    "\n",
    "    # Output \n",
    "    result.reset_index(inplace=True)\n",
    "    result.drop(columns='track_id',inplace=True)\n",
    "    result = result.style.format({'Links':make_clickable})\n",
    "    \n",
    "    # Output\n",
    "    display(result)"
   ]
  },
  {
   "cell_type": "markdown",
   "metadata": {},
   "source": [
    "### 518D"
   ]
  },
  {
   "cell_type": "code",
   "execution_count": 8,
   "metadata": {},
   "outputs": [],
   "source": [
    "# Convert to np.array\n",
    "points_ref = np.array([tuple(x) for x in dataSet.drop(columns='label',level=0).values])\n",
    "\n",
    "# Construct the KD Tree\n",
    "tree = cKDTree(points_ref)"
   ]
  },
  {
   "cell_type": "code",
   "execution_count": 9,
   "metadata": {},
   "outputs": [],
   "source": [
    "#list of the tracks nearest to each custom song\n",
    "nearest_tracks=dict()\n",
    "\n",
    "# sub-meta playlist\n",
    "over_playlist = list()\n",
    "\n",
    "# For each Playlist we find the nearest point in the KD-Tree with the given songs\n",
    "for name in tid_c['Playlist name'].unique():\n",
    "    tid = np.array(tid_c[tid_c['Playlist name'] == name].index.values)\n",
    "    \n",
    "    # For each features we extract the track id for the corresponding playlist\n",
    "    features_c_t = np.array([features_c[features_c.index == idx].values[0] for idx in tid])\n",
    "    \n",
    "    # Find the 10th nearest points with Euclidean norm in the tree\n",
    "    dist, idx = tree.query(features_c_t, k=N, p=2)\n",
    "    \n",
    "    # We get the correspond Track ID from the position IDX\n",
    "    playlist = list([idx_dict[node] for node in idx.ravel()])\n",
    "    \n",
    "    # For each song in the playlist we get the best match and store it for later use\n",
    "    top_tracks = [idx_dict[x] for x in idx[:,0]]\n",
    "    nearest_tracks.update({name:top_tracks})\n",
    "    \n",
    "    # Select in the closest neighbours N random tracks\n",
    "    playlist = random.sample(playlist,N)\n",
    "    \n",
    "    # Add to sub-meta playlist\n",
    "    over_playlist.append(playlist)\n",
    "\n",
    "#\n",
    "meta_playlist.update({'518D':over_playlist})"
   ]
  },
  {
   "cell_type": "markdown",
   "metadata": {},
   "source": [
    "### 2-D coords based"
   ]
  },
  {
   "cell_type": "code",
   "execution_count": 10,
   "metadata": {},
   "outputs": [],
   "source": [
    "# Create the KD-Tree from the graphs coordinates\n",
    "coords2D = np.load(\"data/coords2D.npy\").item()\n",
    "\n",
    "graphCoords=list()\n",
    "for i in coords2D:\n",
    "    graphCoords.append(tuple(coords2D[i]))\n",
    "\n",
    "graphCoords=np.array(graphCoords)\n",
    "graphTree = cKDTree(graphCoords)"
   ]
  },
  {
   "cell_type": "code",
   "execution_count": 11,
   "metadata": {
    "scrolled": false
   },
   "outputs": [],
   "source": [
    "over_playlist = list()\n",
    "\n",
    "# For each playlist, access nearest tracks\n",
    "for name in tid_c['Playlist name'].unique():\n",
    "    \n",
    "    playlist=list()\n",
    "    # Retrieve the closest track ID for the given playlist\n",
    "    tid = nearest_tracks[name]\n",
    "    \n",
    "    # Find closest tracks in the graph for a given custom song\n",
    "    dist, idx = graphTree.query([tuple(coords2D[x]) for x in tid], k=N, p=2)\n",
    "    \n",
    "    # Create the playlist\n",
    "    playlist = list([idx_dict[node] for node in idx.ravel()])\n",
    "\n",
    "    # Select in the closest neighbours N random tracks\n",
    "    playlist=random.sample(playlist,N)\n",
    "\n",
    "    # Add to sub-meta playlist\n",
    "    over_playlist.append(playlist)\n",
    "    \n",
    "#\n",
    "meta_playlist.update({'2D':over_playlist})"
   ]
  },
  {
   "cell_type": "markdown",
   "metadata": {},
   "source": [
    "### Heat Music"
   ]
  },
  {
   "cell_type": "code",
   "execution_count": 12,
   "metadata": {},
   "outputs": [],
   "source": [
    "# Construct Graph\n",
    "conn_graph = np.load(\"data/connGraph.npy\")\n",
    "G = graphs.Graph(conn_graph)\n",
    "G.compute_fourier_basis()\n",
    "G.set_coordinates()"
   ]
  },
  {
   "cell_type": "code",
   "execution_count": 13,
   "metadata": {},
   "outputs": [],
   "source": [
    "over_playlist = list()\n",
    "\n",
    "# For each playlist, access nearest tracks\n",
    "for name in tid_c['Playlist name'].unique():\n",
    "\n",
    "    # Map the nearest track IDs to the nodes position\n",
    "    musics_pos = [inv_dict[tid] for tid in nearest_tracks[name]]\n",
    "\n",
    "    list_heat_neighbour = np.array([]).astype(int)\n",
    "    s_out_moy = np.zeros(G.N)\n",
    "\n",
    "    for i in musics_pos:\n",
    "        s = np.zeros(G.N)\n",
    "        s[i]=1\n",
    "\n",
    "        g = filters.Heat(G, tau, normalize=False)\n",
    "        s_out = g.filter(s, method='chebyshev')\n",
    "        s_out = s_out/max(s_out)\n",
    "\n",
    "        s_out_moy = s_out_moy + s_out\n",
    "\n",
    "    ind_max_heat = np.argsort(s_out_moy)\n",
    "    list_heat_neighbour= np.append(list_heat_neighbour,ind_max_heat[-N:])\n",
    "    \n",
    "    # Create the playlist\n",
    "    playlist = [idx_dict[idx] for idx in list_heat_neighbour]\n",
    "    \n",
    "    # Select in the closest neighbours N random tracks\n",
    "    playlist = random.sample(playlist,N)\n",
    "\n",
    "    # Add to sub-meta playlist\n",
    "    over_playlist.append(playlist)\n",
    "    \n",
    "# \n",
    "meta_playlist.update({'Heat':over_playlist})"
   ]
  },
  {
   "cell_type": "markdown",
   "metadata": {},
   "source": [
    "### Output"
   ]
  },
  {
   "cell_type": "code",
   "execution_count": 14,
   "metadata": {},
   "outputs": [],
   "source": [
    "def method_selection(method):\n",
    "\n",
    "    for i,playlist in enumerate(tid_c['Playlist name'].unique()):\n",
    "        print('Playlist:', playlist)\n",
    "        display_result(meta_playlist[method][i])"
   ]
  },
  {
   "cell_type": "code",
   "execution_count": 15,
   "metadata": {},
   "outputs": [
    {
     "data": {
      "application/vnd.jupyter.widget-view+json": {
       "model_id": "1f1765c273b14f42bbbd89e88eab8121",
       "version_major": 2,
       "version_minor": 0
      },
      "text/plain": [
       "interactive(children=(Dropdown(description='method', options=('518D', '2D', 'Heat'), value='518D'), Output()),…"
      ]
     },
     "metadata": {},
     "output_type": "display_data"
    }
   ],
   "source": [
    "# '518D' -> 518D features space | closely related songs, tonality and rythm are well respected, more genre mixity\n",
    "# '2D' -> 2D graphs coords      | closely related, but staying within the same genre\n",
    "# 'Heat' -> Heat diffusion      | more variety, depending on the tau parameter\n",
    "interact(method_selection, method=['518D','2D', 'Heat']);"
   ]
  },
  {
   "cell_type": "code",
   "execution_count": null,
   "metadata": {},
   "outputs": [],
   "source": []
  }
 ],
 "metadata": {
  "kernelspec": {
   "display_name": "Python 3",
   "language": "python",
   "name": "python3"
  },
  "language_info": {
   "codemirror_mode": {
    "name": "ipython",
    "version": 3
   },
   "file_extension": ".py",
   "mimetype": "text/x-python",
   "name": "python",
   "nbconvert_exporter": "python",
   "pygments_lexer": "ipython3",
   "version": "3.6.6"
  },
  "widgets": {
   "application/vnd.jupyter.widget-state+json": {
    "state": {
     "10cab75a72bf46a596c1362246ed530f": {
      "model_module": "@jupyter-widgets/controls",
      "model_module_version": "1.4.0",
      "model_name": "VBoxModel",
      "state": {
       "_dom_classes": [
        "widget-interact"
       ],
       "children": [
        "IPY_MODEL_aabb0903eb264eb1b5bd3642aeebfea2",
        "IPY_MODEL_d527f023eccf44d1acd3642c28fe8adb"
       ],
       "layout": "IPY_MODEL_3b4663dcb99b400b922d26e6ea42a7b7"
      }
     },
     "1c20bf0e82c3487983afd8dda4fc3f50": {
      "model_module": "@jupyter-widgets/controls",
      "model_module_version": "1.4.0",
      "model_name": "DescriptionStyleModel",
      "state": {
       "description_width": ""
      }
     },
     "1d94ca9307214563a6c661bfb093bc1b": {
      "model_module": "@jupyter-widgets/controls",
      "model_module_version": "1.4.0",
      "model_name": "VBoxModel",
      "state": {
       "_dom_classes": [
        "widget-interact"
       ],
       "children": [
        "IPY_MODEL_d31c20851f4246d7aed906a83e6ba8b6",
        "IPY_MODEL_620ca91b3d15432ca747b35e0748bc2d"
       ],
       "layout": "IPY_MODEL_874db63d4bdf4762939a772e682cce65"
      }
     },
     "1e73f16d53b14772b2e87ae440dc1178": {
      "model_module": "@jupyter-widgets/controls",
      "model_module_version": "1.4.0",
      "model_name": "VBoxModel",
      "state": {
       "_dom_classes": [
        "widget-interact"
       ],
       "children": [
        "IPY_MODEL_f6f1cc1a24b84cf6a411cc859a5bf26d",
        "IPY_MODEL_9e18b90d869c4016a89bb6b8edc74a44"
       ],
       "layout": "IPY_MODEL_efb40844cd51494793ac3b6b42a90f50"
      }
     },
     "210ad7be2b7f420496bc6748fea1a06d": {
      "model_module": "@jupyter-widgets/controls",
      "model_module_version": "1.4.0",
      "model_name": "VBoxModel",
      "state": {
       "_dom_classes": [
        "widget-interact"
       ],
       "children": [
        "IPY_MODEL_b31c4d43759e4280957f00e228e899c8",
        "IPY_MODEL_e7eb6c2fba8b478ab2e8b11c05f42e2b"
       ],
       "layout": "IPY_MODEL_451dd73157fa4f4483f1c95a77f78a10"
      }
     },
     "3b4663dcb99b400b922d26e6ea42a7b7": {
      "model_module": "@jupyter-widgets/base",
      "model_module_version": "1.1.0",
      "model_name": "LayoutModel",
      "state": {}
     },
     "44d5671007764c3dbb63eb07c23190c9": {
      "model_module": "@jupyter-widgets/base",
      "model_module_version": "1.1.0",
      "model_name": "LayoutModel",
      "state": {}
     },
     "451dd73157fa4f4483f1c95a77f78a10": {
      "model_module": "@jupyter-widgets/base",
      "model_module_version": "1.1.0",
      "model_name": "LayoutModel",
      "state": {}
     },
     "4b8c24435032428b8d1ae4f42ccc99c8": {
      "model_module": "@jupyter-widgets/base",
      "model_module_version": "1.1.0",
      "model_name": "LayoutModel",
      "state": {}
     },
     "603471344dca498b8cd863e7f9055558": {
      "model_module": "@jupyter-widgets/base",
      "model_module_version": "1.1.0",
      "model_name": "LayoutModel",
      "state": {}
     },
     "620ca91b3d15432ca747b35e0748bc2d": {
      "model_module": "@jupyter-widgets/output",
      "model_module_version": "1.0.0",
      "model_name": "OutputModel",
      "state": {
       "layout": "IPY_MODEL_a62eb38a6b0e4433ab0c321dc3c12ed5",
       "outputs": [
        {
         "name": "stdout",
         "output_type": "stream",
         "text": "Playlist: Demo 1\n"
        },
        {
         "data": {
          "text/html": "<style  type=\"text/css\" >\n</style>  \n<table id=\"T_b8ec98f4_14f9_11e9_a90e_e788d0e20c54\" > \n<thead>    <tr> \n        <th class=\"blank level0\" ></th> \n        <th class=\"col_heading level0 col0\" >Artist</th> \n        <th class=\"col_heading level0 col1\" >Title</th> \n        <th class=\"col_heading level0 col2\" >Links</th> \n    </tr></thead> \n<tbody>    <tr> \n        <th id=\"T_b8ec98f4_14f9_11e9_a90e_e788d0e20c54level0_row0\" class=\"row_heading level0 row0\" >0</th> \n        <td id=\"T_b8ec98f4_14f9_11e9_a90e_e788d0e20c54row0_col0\" class=\"data row0 col0\" >Derek Clegg</td> \n        <td id=\"T_b8ec98f4_14f9_11e9_a90e_e788d0e20c54row0_col1\" class=\"data row0 col1\" >Found It All</td> \n        <td id=\"T_b8ec98f4_14f9_11e9_a90e_e788d0e20c54row0_col2\" class=\"data row0 col2\" ><a target=\"_blank\" href=\"http://freemusicarchive.org/music/Derek_Clegg/Loose_Fur_-_The_Best_of_Derek_Clegg/Derek_Clegg_-_Loose_Fur_-_The_Best_Of_Derek_Clegg_-_13_Found_It_All\">Open</a>&nbsp;&nbsp;&nbsp;&nbsp;&nbsp;&nbsp;&nbsp<a target=\"_blank\" href=\"http://freemusicarchive.org/music/Derek_Clegg/Loose_Fur_-_The_Best_of_Derek_Clegg/Derek_Clegg_-_Loose_Fur_-_The_Best_Of_Derek_Clegg_-_13_Found_It_All/download\">Download</a></td> \n    </tr>    <tr> \n        <th id=\"T_b8ec98f4_14f9_11e9_a90e_e788d0e20c54level0_row1\" class=\"row_heading level0 row1\" >1</th> \n        <td id=\"T_b8ec98f4_14f9_11e9_a90e_e788d0e20c54row1_col0\" class=\"data row1 col0\" >The Vivisectors</td> \n        <td id=\"T_b8ec98f4_14f9_11e9_a90e_e788d0e20c54row1_col1\" class=\"data row1 col1\" >Great Serpent</td> \n        <td id=\"T_b8ec98f4_14f9_11e9_a90e_e788d0e20c54row1_col2\" class=\"data row1 col2\" ><a target=\"_blank\" href=\"http://freemusicarchive.org/music/The_Vivisectors/Weird_Tales_Of_Ghostly_Islands/The_Vivisectors_-_08_-_Great_Serpent\">Open</a>&nbsp;&nbsp;&nbsp;&nbsp;&nbsp;&nbsp;&nbsp<a target=\"_blank\" href=\"http://freemusicarchive.org/music/The_Vivisectors/Weird_Tales_Of_Ghostly_Islands/The_Vivisectors_-_08_-_Great_Serpent/download\">Download</a></td> \n    </tr>    <tr> \n        <th id=\"T_b8ec98f4_14f9_11e9_a90e_e788d0e20c54level0_row2\" class=\"row_heading level0 row2\" >2</th> \n        <td id=\"T_b8ec98f4_14f9_11e9_a90e_e788d0e20c54row2_col0\" class=\"data row2 col0\" >Lamprey</td> \n        <td id=\"T_b8ec98f4_14f9_11e9_a90e_e788d0e20c54row2_col1\" class=\"data row2 col1\" >Faithless</td> \n        <td id=\"T_b8ec98f4_14f9_11e9_a90e_e788d0e20c54row2_col2\" class=\"data row2 col2\" ><a target=\"_blank\" href=\"http://freemusicarchive.org/music/Lamprey/The_Greener_Grass/Faithless\">Open</a>&nbsp;&nbsp;&nbsp;&nbsp;&nbsp;&nbsp;&nbsp<a target=\"_blank\" href=\"http://freemusicarchive.org/music/Lamprey/The_Greener_Grass/Faithless/download\">Download</a></td> \n    </tr>    <tr> \n        <th id=\"T_b8ec98f4_14f9_11e9_a90e_e788d0e20c54level0_row3\" class=\"row_heading level0 row3\" >3</th> \n        <td id=\"T_b8ec98f4_14f9_11e9_a90e_e788d0e20c54row3_col0\" class=\"data row3 col0\" >Flor Braier</td> \n        <td id=\"T_b8ec98f4_14f9_11e9_a90e_e788d0e20c54row3_col1\" class=\"data row3 col1\" >Al Revés</td> \n        <td id=\"T_b8ec98f4_14f9_11e9_a90e_e788d0e20c54row3_col2\" class=\"data row3 col2\" ><a target=\"_blank\" href=\"http://freemusicarchive.org/music/Flor_Braier/Pony_feelings/Flor_Braier_-_Pony_Feelings_-_03_Al_Revs\">Open</a>&nbsp;&nbsp;&nbsp;&nbsp;&nbsp;&nbsp;&nbsp<a target=\"_blank\" href=\"http://freemusicarchive.org/music/Flor_Braier/Pony_feelings/Flor_Braier_-_Pony_Feelings_-_03_Al_Revs/download\">Download</a></td> \n    </tr>    <tr> \n        <th id=\"T_b8ec98f4_14f9_11e9_a90e_e788d0e20c54level0_row4\" class=\"row_heading level0 row4\" >4</th> \n        <td id=\"T_b8ec98f4_14f9_11e9_a90e_e788d0e20c54row4_col0\" class=\"data row4 col0\" >Michael Chapman</td> \n        <td id=\"T_b8ec98f4_14f9_11e9_a90e_e788d0e20c54row4_col1\" class=\"data row4 col1\" >Caddo Lake</td> \n        <td id=\"T_b8ec98f4_14f9_11e9_a90e_e788d0e20c54row4_col2\" class=\"data row4 col2\" ><a target=\"_blank\" href=\"http://freemusicarchive.org/music/Michael_Chapman/Live_at_WFMU_on_Irene_Trudels_Show_on_10132008/Caddo_Lake\">Open</a>&nbsp;&nbsp;&nbsp;&nbsp;&nbsp;&nbsp;&nbsp<a target=\"_blank\" href=\"http://freemusicarchive.org/music/Michael_Chapman/Live_at_WFMU_on_Irene_Trudels_Show_on_10132008/Caddo_Lake/download\">Download</a></td> \n    </tr>    <tr> \n        <th id=\"T_b8ec98f4_14f9_11e9_a90e_e788d0e20c54level0_row5\" class=\"row_heading level0 row5\" >5</th> \n        <td id=\"T_b8ec98f4_14f9_11e9_a90e_e788d0e20c54row5_col0\" class=\"data row5 col0\" >Carter Behnke</td> \n        <td id=\"T_b8ec98f4_14f9_11e9_a90e_e788d0e20c54row5_col1\" class=\"data row5 col1\" >Intro</td> \n        <td id=\"T_b8ec98f4_14f9_11e9_a90e_e788d0e20c54row5_col2\" class=\"data row5 col2\" ><a target=\"_blank\" href=\"http://freemusicarchive.org/music/Carter_Behnke/Time_To_Go_EP/Carter_Behnke_-_Time_To_Go_EP_-_01_Intro\">Open</a>&nbsp;&nbsp;&nbsp;&nbsp;&nbsp;&nbsp;&nbsp<a target=\"_blank\" href=\"http://freemusicarchive.org/music/Carter_Behnke/Time_To_Go_EP/Carter_Behnke_-_Time_To_Go_EP_-_01_Intro/download\">Download</a></td> \n    </tr>    <tr> \n        <th id=\"T_b8ec98f4_14f9_11e9_a90e_e788d0e20c54level0_row6\" class=\"row_heading level0 row6\" >6</th> \n        <td id=\"T_b8ec98f4_14f9_11e9_a90e_e788d0e20c54row6_col0\" class=\"data row6 col0\" >Transmitters</td> \n        <td id=\"T_b8ec98f4_14f9_11e9_a90e_e788d0e20c54row6_col1\" class=\"data row6 col1\" >Cellos</td> \n        <td id=\"T_b8ec98f4_14f9_11e9_a90e_e788d0e20c54row6_col2\" class=\"data row6 col2\" ><a target=\"_blank\" href=\"http://freemusicarchive.org/music/Transmitters/Count_Your_Blessings/07cellos\">Open</a>&nbsp;&nbsp;&nbsp;&nbsp;&nbsp;&nbsp;&nbsp<a target=\"_blank\" href=\"http://freemusicarchive.org/music/Transmitters/Count_Your_Blessings/07cellos/download\">Download</a></td> \n    </tr>    <tr> \n        <th id=\"T_b8ec98f4_14f9_11e9_a90e_e788d0e20c54level0_row7\" class=\"row_heading level0 row7\" >7</th> \n        <td id=\"T_b8ec98f4_14f9_11e9_a90e_e788d0e20c54row7_col0\" class=\"data row7 col0\" >Debby Schwartz</td> \n        <td id=\"T_b8ec98f4_14f9_11e9_a90e_e788d0e20c54row7_col1\" class=\"data row7 col1\" >What Strange Love</td> \n        <td id=\"T_b8ec98f4_14f9_11e9_a90e_e788d0e20c54row7_col2\" class=\"data row7 col2\" ><a target=\"_blank\" href=\"http://freemusicarchive.org/music/Debby_Schwartz/Live_on_WFMU_with_Gaylord_Fields_-_October_5_2014/Schwartz_Debby_-_11_-_What_Strange_Love\">Open</a>&nbsp;&nbsp;&nbsp;&nbsp;&nbsp;&nbsp;&nbsp<a target=\"_blank\" href=\"http://freemusicarchive.org/music/Debby_Schwartz/Live_on_WFMU_with_Gaylord_Fields_-_October_5_2014/Schwartz_Debby_-_11_-_What_Strange_Love/download\">Download</a></td> \n    </tr>    <tr> \n        <th id=\"T_b8ec98f4_14f9_11e9_a90e_e788d0e20c54level0_row8\" class=\"row_heading level0 row8\" >8</th> \n        <td id=\"T_b8ec98f4_14f9_11e9_a90e_e788d0e20c54row8_col0\" class=\"data row8 col0\" >Plusplus</td> \n        <td id=\"T_b8ec98f4_14f9_11e9_a90e_e788d0e20c54row8_col1\" class=\"data row8 col1\" >North bank upper</td> \n        <td id=\"T_b8ec98f4_14f9_11e9_a90e_e788d0e20c54row8_col2\" class=\"data row8 col2\" ><a target=\"_blank\" href=\"http://freemusicarchive.org/music/Plusplus/Evils/11_North_bank_upper\">Open</a>&nbsp;&nbsp;&nbsp;&nbsp;&nbsp;&nbsp;&nbsp<a target=\"_blank\" href=\"http://freemusicarchive.org/music/Plusplus/Evils/11_North_bank_upper/download\">Download</a></td> \n    </tr>    <tr> \n        <th id=\"T_b8ec98f4_14f9_11e9_a90e_e788d0e20c54level0_row9\" class=\"row_heading level0 row9\" >9</th> \n        <td id=\"T_b8ec98f4_14f9_11e9_a90e_e788d0e20c54row9_col0\" class=\"data row9 col0\" >This One</td> \n        <td id=\"T_b8ec98f4_14f9_11e9_a90e_e788d0e20c54row9_col1\" class=\"data row9 col1\" >tell me how</td> \n        <td id=\"T_b8ec98f4_14f9_11e9_a90e_e788d0e20c54row9_col2\" class=\"data row9 col2\" ><a target=\"_blank\" href=\"http://freemusicarchive.org/music/This_One/Sour_Soul_12/04_This_One_-_tell_me_how\">Open</a>&nbsp;&nbsp;&nbsp;&nbsp;&nbsp;&nbsp;&nbsp<a target=\"_blank\" href=\"http://freemusicarchive.org/music/This_One/Sour_Soul_12/04_This_One_-_tell_me_how/download\">Download</a></td> \n    </tr></tbody> \n</table> ",
          "text/plain": "<pandas.io.formats.style.Styler at 0x7fd2d41e4f28>"
         },
         "metadata": {},
         "output_type": "display_data"
        },
        {
         "name": "stdout",
         "output_type": "stream",
         "text": "Playlist: Demo 2\n"
        },
        {
         "data": {
          "text/html": "<style  type=\"text/css\" >\n</style>  \n<table id=\"T_b8f34064_14f9_11e9_8b59_e788d0e20c54\" > \n<thead>    <tr> \n        <th class=\"blank level0\" ></th> \n        <th class=\"col_heading level0 col0\" >Artist</th> \n        <th class=\"col_heading level0 col1\" >Title</th> \n        <th class=\"col_heading level0 col2\" >Links</th> \n    </tr></thead> \n<tbody>    <tr> \n        <th id=\"T_b8f34064_14f9_11e9_8b59_e788d0e20c54level0_row0\" class=\"row_heading level0 row0\" >0</th> \n        <td id=\"T_b8f34064_14f9_11e9_8b59_e788d0e20c54row0_col0\" class=\"data row0 col0\" >Hi-Rez</td> \n        <td id=\"T_b8f34064_14f9_11e9_8b59_e788d0e20c54row0_col1\" class=\"data row0 col1\" >Love and Fear</td> \n        <td id=\"T_b8f34064_14f9_11e9_8b59_e788d0e20c54row0_col2\" class=\"data row0 col2\" ><a target=\"_blank\" href=\"http://freemusicarchive.org/music/Hi-Rez/Product_of_my_Environment/5_Hi_Rez_Love_and_Fear_Product_Of_My_Environment_FROSTWIRE_FROSTCLICK_CREATIVE_COMMONS\">Open</a>&nbsp;&nbsp;&nbsp;&nbsp;&nbsp;&nbsp;&nbsp<a target=\"_blank\" href=\"http://freemusicarchive.org/music/Hi-Rez/Product_of_my_Environment/5_Hi_Rez_Love_and_Fear_Product_Of_My_Environment_FROSTWIRE_FROSTCLICK_CREATIVE_COMMONS/download\">Download</a></td> \n    </tr>    <tr> \n        <th id=\"T_b8f34064_14f9_11e9_8b59_e788d0e20c54level0_row1\" class=\"row_heading level0 row1\" >1</th> \n        <td id=\"T_b8f34064_14f9_11e9_8b59_e788d0e20c54row1_col0\" class=\"data row1 col0\" >Deadly Combo</td> \n        <td id=\"T_b8f34064_14f9_11e9_8b59_e788d0e20c54row1_col1\" class=\"data row1 col1\" >Back To Break Bread (Instrumental)</td> \n        <td id=\"T_b8f34064_14f9_11e9_8b59_e788d0e20c54row1_col2\" class=\"data row1 col2\" ><a target=\"_blank\" href=\"http://freemusicarchive.org/music/Deadly_Combo/Back_To_Break_Bread/03_-_Back_To_Break_Bread_Instrumental\">Open</a>&nbsp;&nbsp;&nbsp;&nbsp;&nbsp;&nbsp;&nbsp<a target=\"_blank\" href=\"http://freemusicarchive.org/music/Deadly_Combo/Back_To_Break_Bread/03_-_Back_To_Break_Bread_Instrumental/download\">Download</a></td> \n    </tr>    <tr> \n        <th id=\"T_b8f34064_14f9_11e9_8b59_e788d0e20c54level0_row2\" class=\"row_heading level0 row2\" >2</th> \n        <td id=\"T_b8f34064_14f9_11e9_8b59_e788d0e20c54row2_col0\" class=\"data row2 col0\" >Dollar Boyz</td> \n        <td id=\"T_b8f34064_14f9_11e9_8b59_e788d0e20c54row2_col1\" class=\"data row2 col1\" >Soul Survivor</td> \n        <td id=\"T_b8f34064_14f9_11e9_8b59_e788d0e20c54row2_col2\" class=\"data row2 col2\" ><a target=\"_blank\" href=\"http://freemusicarchive.org/music/Dollar_Boyz/Welcome_To_Chi-Raq/Dollar_Boyz_CD_Track_17_Welcome_To_Chiraq\">Open</a>&nbsp;&nbsp;&nbsp;&nbsp;&nbsp;&nbsp;&nbsp<a target=\"_blank\" href=\"http://freemusicarchive.org/music/Dollar_Boyz/Welcome_To_Chi-Raq/Dollar_Boyz_CD_Track_17_Welcome_To_Chiraq/download\">Download</a></td> \n    </tr>    <tr> \n        <th id=\"T_b8f34064_14f9_11e9_8b59_e788d0e20c54level0_row3\" class=\"row_heading level0 row3\" >3</th> \n        <td id=\"T_b8f34064_14f9_11e9_8b59_e788d0e20c54row3_col0\" class=\"data row3 col0\" >Kellee Maize</td> \n        <td id=\"T_b8f34064_14f9_11e9_8b59_e788d0e20c54row3_col1\" class=\"data row3 col1\" >Anyway</td> \n        <td id=\"T_b8f34064_14f9_11e9_8b59_e788d0e20c54row3_col2\" class=\"data row3 col2\" ><a target=\"_blank\" href=\"http://freemusicarchive.org/music/Kellee_Maize/The_5th_Element/02_Anyway\">Open</a>&nbsp;&nbsp;&nbsp;&nbsp;&nbsp;&nbsp;&nbsp<a target=\"_blank\" href=\"http://freemusicarchive.org/music/Kellee_Maize/The_5th_Element/02_Anyway/download\">Download</a></td> \n    </tr>    <tr> \n        <th id=\"T_b8f34064_14f9_11e9_8b59_e788d0e20c54level0_row4\" class=\"row_heading level0 row4\" >4</th> \n        <td id=\"T_b8f34064_14f9_11e9_8b59_e788d0e20c54row4_col0\" class=\"data row4 col0\" >Aviscerall</td> \n        <td id=\"T_b8f34064_14f9_11e9_8b59_e788d0e20c54row4_col1\" class=\"data row4 col1\" >Gotta Believe</td> \n        <td id=\"T_b8f34064_14f9_11e9_8b59_e788d0e20c54row4_col2\" class=\"data row4 col2\" ><a target=\"_blank\" href=\"http://freemusicarchive.org/music/Aviscerall/Nostalgia_Infinite/Aviscerall_-_Nostalgia_Infinite_-_10_Gotta_Believe\">Open</a>&nbsp;&nbsp;&nbsp;&nbsp;&nbsp;&nbsp;&nbsp<a target=\"_blank\" href=\"http://freemusicarchive.org/music/Aviscerall/Nostalgia_Infinite/Aviscerall_-_Nostalgia_Infinite_-_10_Gotta_Believe/download\">Download</a></td> \n    </tr>    <tr> \n        <th id=\"T_b8f34064_14f9_11e9_8b59_e788d0e20c54level0_row5\" class=\"row_heading level0 row5\" >5</th> \n        <td id=\"T_b8f34064_14f9_11e9_8b59_e788d0e20c54row5_col0\" class=\"data row5 col0\" >J Mano</td> \n        <td id=\"T_b8f34064_14f9_11e9_8b59_e788d0e20c54row5_col1\" class=\"data row5 col1\" >Winners</td> \n        <td id=\"T_b8f34064_14f9_11e9_8b59_e788d0e20c54row5_col2\" class=\"data row5 col2\" ><a target=\"_blank\" href=\"http://freemusicarchive.org/music/J_Mano/Life_Rhymes_Showtime_EP/04_-_J_Mano_-_Winners\">Open</a>&nbsp;&nbsp;&nbsp;&nbsp;&nbsp;&nbsp;&nbsp<a target=\"_blank\" href=\"http://freemusicarchive.org/music/J_Mano/Life_Rhymes_Showtime_EP/04_-_J_Mano_-_Winners/download\">Download</a></td> \n    </tr>    <tr> \n        <th id=\"T_b8f34064_14f9_11e9_8b59_e788d0e20c54level0_row6\" class=\"row_heading level0 row6\" >6</th> \n        <td id=\"T_b8f34064_14f9_11e9_8b59_e788d0e20c54row6_col0\" class=\"data row6 col0\" >6th Sense &amp; Mick Boogie</td> \n        <td id=\"T_b8f34064_14f9_11e9_8b59_e788d0e20c54row6_col1\" class=\"data row6 col1\" >05 A-Trak &amp; Lupe Fiasco feat. 6th Sense - Me &amp; My Sneakers.mp3</td> \n        <td id=\"T_b8f34064_14f9_11e9_8b59_e788d0e20c54row6_col2\" class=\"data row6 col2\" ><a target=\"_blank\" href=\"http://freemusicarchive.org/music/6th_Sense_amp_Mick_Boogie/Just_Do_It_A_Mixtape_Ode_To_Nike/05_A-Trak_amp_Lupe_Fiasco_feat_6th_Sense_-_Me_amp_My_Sneakersmp3\">Open</a>&nbsp;&nbsp;&nbsp;&nbsp;&nbsp;&nbsp;&nbsp<a target=\"_blank\" href=\"http://freemusicarchive.org/music/6th_Sense_amp_Mick_Boogie/Just_Do_It_A_Mixtape_Ode_To_Nike/05_A-Trak_amp_Lupe_Fiasco_feat_6th_Sense_-_Me_amp_My_Sneakersmp3/download\">Download</a></td> \n    </tr>    <tr> \n        <th id=\"T_b8f34064_14f9_11e9_8b59_e788d0e20c54level0_row7\" class=\"row_heading level0 row7\" >7</th> \n        <td id=\"T_b8f34064_14f9_11e9_8b59_e788d0e20c54row7_col0\" class=\"data row7 col0\" >Kellee Maize</td> \n        <td id=\"T_b8f34064_14f9_11e9_8b59_e788d0e20c54row7_col1\" class=\"data row7 col1\" >Please Remember</td> \n        <td id=\"T_b8f34064_14f9_11e9_8b59_e788d0e20c54row7_col2\" class=\"data row7 col2\" ><a target=\"_blank\" href=\"http://freemusicarchive.org/music/Kellee_Maize/Age_of_Feminine/Kellee_Maize_-_Age_of_Feminine_-_06_Please_Remember\">Open</a>&nbsp;&nbsp;&nbsp;&nbsp;&nbsp;&nbsp;&nbsp<a target=\"_blank\" href=\"http://freemusicarchive.org/music/Kellee_Maize/Age_of_Feminine/Kellee_Maize_-_Age_of_Feminine_-_06_Please_Remember/download\">Download</a></td> \n    </tr>    <tr> \n        <th id=\"T_b8f34064_14f9_11e9_8b59_e788d0e20c54level0_row8\" class=\"row_heading level0 row8\" >8</th> \n        <td id=\"T_b8f34064_14f9_11e9_8b59_e788d0e20c54row8_col0\" class=\"data row8 col0\" >6th Sense</td> \n        <td id=\"T_b8f34064_14f9_11e9_8b59_e788d0e20c54row8_col1\" class=\"data row8 col1\" >Ignite The People (Like Obama) Instrumental     {6th Sense}</td> \n        <td id=\"T_b8f34064_14f9_11e9_8b59_e788d0e20c54row8_col2\" class=\"data row8 col2\" ><a target=\"_blank\" href=\"http://freemusicarchive.org/music/6th_Sense/Its_A_6th_Sense_Beat_Yo/Ignite_The_People_Like_Obama_Instrumental_____6th_Sense\">Open</a>&nbsp;&nbsp;&nbsp;&nbsp;&nbsp;&nbsp;&nbsp<a target=\"_blank\" href=\"http://freemusicarchive.org/music/6th_Sense/Its_A_6th_Sense_Beat_Yo/Ignite_The_People_Like_Obama_Instrumental_____6th_Sense/download\">Download</a></td> \n    </tr>    <tr> \n        <th id=\"T_b8f34064_14f9_11e9_8b59_e788d0e20c54level0_row9\" class=\"row_heading level0 row9\" >9</th> \n        <td id=\"T_b8f34064_14f9_11e9_8b59_e788d0e20c54row9_col0\" class=\"data row9 col0\" >Aviscerall</td> \n        <td id=\"T_b8f34064_14f9_11e9_8b59_e788d0e20c54row9_col1\" class=\"data row9 col1\" >Zaduu (Feat. Crystal Tokyo)</td> \n        <td id=\"T_b8f34064_14f9_11e9_8b59_e788d0e20c54row9_col2\" class=\"data row9 col2\" ><a target=\"_blank\" href=\"http://freemusicarchive.org/music/Aviscerall/Nostalgia_Infinite/Aviscerall_-_Nostalgia_Infinite_-_14_Zaduu_Feat_Crystal_Tokyo\">Open</a>&nbsp;&nbsp;&nbsp;&nbsp;&nbsp;&nbsp;&nbsp<a target=\"_blank\" href=\"http://freemusicarchive.org/music/Aviscerall/Nostalgia_Infinite/Aviscerall_-_Nostalgia_Infinite_-_14_Zaduu_Feat_Crystal_Tokyo/download\">Download</a></td> \n    </tr></tbody> \n</table> ",
          "text/plain": "<pandas.io.formats.style.Styler at 0x7fd2e04c32b0>"
         },
         "metadata": {},
         "output_type": "display_data"
        }
       ]
      }
     },
     "85d48403f56c4fb9b1343dc396087b0c": {
      "model_module": "@jupyter-widgets/base",
      "model_module_version": "1.1.0",
      "model_name": "LayoutModel",
      "state": {}
     },
     "874db63d4bdf4762939a772e682cce65": {
      "model_module": "@jupyter-widgets/base",
      "model_module_version": "1.1.0",
      "model_name": "LayoutModel",
      "state": {}
     },
     "8a8d4b2437694f83bfd0a67e4b39ac40": {
      "model_module": "@jupyter-widgets/base",
      "model_module_version": "1.1.0",
      "model_name": "LayoutModel",
      "state": {}
     },
     "8f6605684a4949d3818f9cf409ccde38": {
      "model_module": "@jupyter-widgets/base",
      "model_module_version": "1.1.0",
      "model_name": "LayoutModel",
      "state": {}
     },
     "90355c4d3e0a4fad87479a397dd5e8a9": {
      "model_module": "@jupyter-widgets/controls",
      "model_module_version": "1.4.0",
      "model_name": "DescriptionStyleModel",
      "state": {
       "description_width": ""
      }
     },
     "9e18b90d869c4016a89bb6b8edc74a44": {
      "model_module": "@jupyter-widgets/output",
      "model_module_version": "1.0.0",
      "model_name": "OutputModel",
      "state": {
       "layout": "IPY_MODEL_44d5671007764c3dbb63eb07c23190c9",
       "outputs": [
        {
         "name": "stdout",
         "output_type": "stream",
         "text": "Playlist: Demo 1\n"
        },
        {
         "data": {
          "text/html": "<style  type=\"text/css\" >\n</style>  \n<table id=\"T_ea935508_14fb_11e9_bce2_236c7f2be816\" > \n<thead>    <tr> \n        <th class=\"blank level0\" ></th> \n        <th class=\"col_heading level0 col0\" >Artist</th> \n        <th class=\"col_heading level0 col1\" >Title</th> \n        <th class=\"col_heading level0 col2\" >Links</th> \n    </tr></thead> \n<tbody>    <tr> \n        <th id=\"T_ea935508_14fb_11e9_bce2_236c7f2be816level0_row0\" class=\"row_heading level0 row0\" >0</th> \n        <td id=\"T_ea935508_14fb_11e9_bce2_236c7f2be816row0_col0\" class=\"data row0 col0\" >Ex Cops</td> \n        <td id=\"T_ea935508_14fb_11e9_bce2_236c7f2be816row0_col1\" class=\"data row0 col1\" >Springbreak (Happy Birthday)</td> \n        <td id=\"T_ea935508_14fb_11e9_bce2_236c7f2be816row0_col2\" class=\"data row0 col2\" ><a target=\"_blank\" href=\"http://freemusicarchive.org/music/Ex_Cops/Live_on_Duanes_Show_on_WFMU_112712/Ex_Cops_-_04_-_Seperator\">Open</a>&nbsp;&nbsp;&nbsp;&nbsp;&nbsp;&nbsp;&nbsp<a target=\"_blank\" href=\"http://freemusicarchive.org/music/Ex_Cops/Live_on_Duanes_Show_on_WFMU_112712/Ex_Cops_-_04_-_Seperator/download\">Download</a></td> \n    </tr>    <tr> \n        <th id=\"T_ea935508_14fb_11e9_bce2_236c7f2be816level0_row1\" class=\"row_heading level0 row1\" >1</th> \n        <td id=\"T_ea935508_14fb_11e9_bce2_236c7f2be816row1_col0\" class=\"data row1 col0\" >This One</td> \n        <td id=\"T_ea935508_14fb_11e9_bce2_236c7f2be816row1_col1\" class=\"data row1 col1\" >tell me how</td> \n        <td id=\"T_ea935508_14fb_11e9_bce2_236c7f2be816row1_col2\" class=\"data row1 col2\" ><a target=\"_blank\" href=\"http://freemusicarchive.org/music/This_One/Sour_Soul_12/04_This_One_-_tell_me_how\">Open</a>&nbsp;&nbsp;&nbsp;&nbsp;&nbsp;&nbsp;&nbsp<a target=\"_blank\" href=\"http://freemusicarchive.org/music/This_One/Sour_Soul_12/04_This_One_-_tell_me_how/download\">Download</a></td> \n    </tr>    <tr> \n        <th id=\"T_ea935508_14fb_11e9_bce2_236c7f2be816level0_row2\" class=\"row_heading level0 row2\" >2</th> \n        <td id=\"T_ea935508_14fb_11e9_bce2_236c7f2be816row2_col0\" class=\"data row2 col0\" >Derek Clegg</td> \n        <td id=\"T_ea935508_14fb_11e9_bce2_236c7f2be816row2_col1\" class=\"data row2 col1\" >Lucky</td> \n        <td id=\"T_ea935508_14fb_11e9_bce2_236c7f2be816row2_col2\" class=\"data row2 col2\" ><a target=\"_blank\" href=\"http://freemusicarchive.org/music/Derek_Clegg/Loose_Fur_-_The_Best_of_Derek_Clegg/Derek_Clegg_-_Loose_Fur_-_The_Best_Of_Derek_Clegg_-_09_Lucky\">Open</a>&nbsp;&nbsp;&nbsp;&nbsp;&nbsp;&nbsp;&nbsp<a target=\"_blank\" href=\"http://freemusicarchive.org/music/Derek_Clegg/Loose_Fur_-_The_Best_of_Derek_Clegg/Derek_Clegg_-_Loose_Fur_-_The_Best_Of_Derek_Clegg_-_09_Lucky/download\">Download</a></td> \n    </tr>    <tr> \n        <th id=\"T_ea935508_14fb_11e9_bce2_236c7f2be816level0_row3\" class=\"row_heading level0 row3\" >3</th> \n        <td id=\"T_ea935508_14fb_11e9_bce2_236c7f2be816row3_col0\" class=\"data row3 col0\" >Koonda Holaa</td> \n        <td id=\"T_ea935508_14fb_11e9_bce2_236c7f2be816row3_col1\" class=\"data row3 col1\" >10 Acres of the Finest Sand</td> \n        <td id=\"T_ea935508_14fb_11e9_bce2_236c7f2be816row3_col2\" class=\"data row3 col2\" ><a target=\"_blank\" href=\"http://freemusicarchive.org/music/Koonda_Holaa/10_Acres_of_the_Finest_Sand/10_Acres_of_the_Finest_Sand\">Open</a>&nbsp;&nbsp;&nbsp;&nbsp;&nbsp;&nbsp;&nbsp<a target=\"_blank\" href=\"http://freemusicarchive.org/music/Koonda_Holaa/10_Acres_of_the_Finest_Sand/10_Acres_of_the_Finest_Sand/download\">Download</a></td> \n    </tr>    <tr> \n        <th id=\"T_ea935508_14fb_11e9_bce2_236c7f2be816level0_row4\" class=\"row_heading level0 row4\" >4</th> \n        <td id=\"T_ea935508_14fb_11e9_bce2_236c7f2be816row4_col0\" class=\"data row4 col0\" >pHoaming Edison</td> \n        <td id=\"T_ea935508_14fb_11e9_bce2_236c7f2be816row4_col1\" class=\"data row4 col1\" >Medieval Duck Mollases</td> \n        <td id=\"T_ea935508_14fb_11e9_bce2_236c7f2be816row4_col2\" class=\"data row4 col2\" ><a target=\"_blank\" href=\"http://freemusicarchive.org/music/pHoaming_Edison/Live_on_WFMUs_Dangerous_for_the_Brain_-_June_14_2014/phoaming_Edison_-_03_-_Medieval_Duck_Mollases\">Open</a>&nbsp;&nbsp;&nbsp;&nbsp;&nbsp;&nbsp;&nbsp<a target=\"_blank\" href=\"http://freemusicarchive.org/music/pHoaming_Edison/Live_on_WFMUs_Dangerous_for_the_Brain_-_June_14_2014/phoaming_Edison_-_03_-_Medieval_Duck_Mollases/download\">Download</a></td> \n    </tr>    <tr> \n        <th id=\"T_ea935508_14fb_11e9_bce2_236c7f2be816level0_row5\" class=\"row_heading level0 row5\" >5</th> \n        <td id=\"T_ea935508_14fb_11e9_bce2_236c7f2be816row5_col0\" class=\"data row5 col0\" >Derek Clegg</td> \n        <td id=\"T_ea935508_14fb_11e9_bce2_236c7f2be816row5_col1\" class=\"data row5 col1\" >Last Chance</td> \n        <td id=\"T_ea935508_14fb_11e9_bce2_236c7f2be816row5_col2\" class=\"data row5 col2\" ><a target=\"_blank\" href=\"http://freemusicarchive.org/music/Derek_Clegg/End_Of_Something/Derek_Clegg_-_End_of_Something_-_04_Last_Chance\">Open</a>&nbsp;&nbsp;&nbsp;&nbsp;&nbsp;&nbsp;&nbsp<a target=\"_blank\" href=\"http://freemusicarchive.org/music/Derek_Clegg/End_Of_Something/Derek_Clegg_-_End_of_Something_-_04_Last_Chance/download\">Download</a></td> \n    </tr>    <tr> \n        <th id=\"T_ea935508_14fb_11e9_bce2_236c7f2be816level0_row6\" class=\"row_heading level0 row6\" >6</th> \n        <td id=\"T_ea935508_14fb_11e9_bce2_236c7f2be816row6_col0\" class=\"data row6 col0\" >Angstbreaker</td> \n        <td id=\"T_ea935508_14fb_11e9_bce2_236c7f2be816row6_col1\" class=\"data row6 col1\" >2/3 Straight Edge</td> \n        <td id=\"T_ea935508_14fb_11e9_bce2_236c7f2be816row6_col2\" class=\"data row6 col2\" ><a target=\"_blank\" href=\"http://freemusicarchive.org/music/Angstbreaker/MMXVI_1810/Angstbreaker-MMXVI-04-Two-Thirds-Straight-Edge\">Open</a>&nbsp;&nbsp;&nbsp;&nbsp;&nbsp;&nbsp;&nbsp<a target=\"_blank\" href=\"http://freemusicarchive.org/music/Angstbreaker/MMXVI_1810/Angstbreaker-MMXVI-04-Two-Thirds-Straight-Edge/download\">Download</a></td> \n    </tr>    <tr> \n        <th id=\"T_ea935508_14fb_11e9_bce2_236c7f2be816level0_row7\" class=\"row_heading level0 row7\" >7</th> \n        <td id=\"T_ea935508_14fb_11e9_bce2_236c7f2be816row7_col0\" class=\"data row7 col0\" >The Marty Kings</td> \n        <td id=\"T_ea935508_14fb_11e9_bce2_236c7f2be816row7_col1\" class=\"data row7 col1\" >Bom Bom Bom</td> \n        <td id=\"T_ea935508_14fb_11e9_bce2_236c7f2be816row7_col2\" class=\"data row7 col2\" ><a target=\"_blank\" href=\"http://freemusicarchive.org/music/The_Marty_Kings/XVII/02_Bom_Bom_Bom\">Open</a>&nbsp;&nbsp;&nbsp;&nbsp;&nbsp;&nbsp;&nbsp<a target=\"_blank\" href=\"http://freemusicarchive.org/music/The_Marty_Kings/XVII/02_Bom_Bom_Bom/download\">Download</a></td> \n    </tr>    <tr> \n        <th id=\"T_ea935508_14fb_11e9_bce2_236c7f2be816level0_row8\" class=\"row_heading level0 row8\" >8</th> \n        <td id=\"T_ea935508_14fb_11e9_bce2_236c7f2be816row8_col0\" class=\"data row8 col0\" >Squarehead</td> \n        <td id=\"T_ea935508_14fb_11e9_bce2_236c7f2be816row8_col1\" class=\"data row8 col1\" >Two Miles</td> \n        <td id=\"T_ea935508_14fb_11e9_bce2_236c7f2be816row8_col2\" class=\"data row8 col2\" ><a target=\"_blank\" href=\"http://freemusicarchive.org/music/Squarehead/Live_on_Liz_Bergs_Show_on_WFMU_102212/Squarehead_-_05_-_Two_Miles\">Open</a>&nbsp;&nbsp;&nbsp;&nbsp;&nbsp;&nbsp;&nbsp<a target=\"_blank\" href=\"http://freemusicarchive.org/music/Squarehead/Live_on_Liz_Bergs_Show_on_WFMU_102212/Squarehead_-_05_-_Two_Miles/download\">Download</a></td> \n    </tr>    <tr> \n        <th id=\"T_ea935508_14fb_11e9_bce2_236c7f2be816level0_row9\" class=\"row_heading level0 row9\" >9</th> \n        <td id=\"T_ea935508_14fb_11e9_bce2_236c7f2be816row9_col0\" class=\"data row9 col0\" >Half Japanese</td> \n        <td id=\"T_ea935508_14fb_11e9_bce2_236c7f2be816row9_col1\" class=\"data row9 col1\" >Nicole Told Me</td> \n        <td id=\"T_ea935508_14fb_11e9_bce2_236c7f2be816row9_col2\" class=\"data row9 col2\" ><a target=\"_blank\" href=\"http://freemusicarchive.org/music/Half_Japanese/Half_Japanese_Live_WFMU_SXSW_Showcase_at_Spiros_in_Austin_TX_on_3142008/Nicole_Told_Me\">Open</a>&nbsp;&nbsp;&nbsp;&nbsp;&nbsp;&nbsp;&nbsp<a target=\"_blank\" href=\"http://freemusicarchive.org/music/Half_Japanese/Half_Japanese_Live_WFMU_SXSW_Showcase_at_Spiros_in_Austin_TX_on_3142008/Nicole_Told_Me/download\">Download</a></td> \n    </tr></tbody> \n</table> ",
          "text/plain": "<pandas.io.formats.style.Styler at 0x7f1a19995f60>"
         },
         "metadata": {},
         "output_type": "display_data"
        },
        {
         "name": "stdout",
         "output_type": "stream",
         "text": "Playlist: Demo 2\n"
        },
        {
         "data": {
          "text/html": "<style  type=\"text/css\" >\n</style>  \n<table id=\"T_ea99ca40_14fb_11e9_b35e_236c7f2be816\" > \n<thead>    <tr> \n        <th class=\"blank level0\" ></th> \n        <th class=\"col_heading level0 col0\" >Artist</th> \n        <th class=\"col_heading level0 col1\" >Title</th> \n        <th class=\"col_heading level0 col2\" >Links</th> \n    </tr></thead> \n<tbody>    <tr> \n        <th id=\"T_ea99ca40_14fb_11e9_b35e_236c7f2be816level0_row0\" class=\"row_heading level0 row0\" >0</th> \n        <td id=\"T_ea99ca40_14fb_11e9_b35e_236c7f2be816row0_col0\" class=\"data row0 col0\" >6th Sense &amp; Mick Boogie</td> \n        <td id=\"T_ea99ca40_14fb_11e9_b35e_236c7f2be816row0_col1\" class=\"data row0 col1\" >05 A-Trak &amp; Lupe Fiasco feat. 6th Sense - Me &amp; My Sneakers.mp3</td> \n        <td id=\"T_ea99ca40_14fb_11e9_b35e_236c7f2be816row0_col2\" class=\"data row0 col2\" ><a target=\"_blank\" href=\"http://freemusicarchive.org/music/6th_Sense_amp_Mick_Boogie/Just_Do_It_A_Mixtape_Ode_To_Nike/05_A-Trak_amp_Lupe_Fiasco_feat_6th_Sense_-_Me_amp_My_Sneakersmp3\">Open</a>&nbsp;&nbsp;&nbsp;&nbsp;&nbsp;&nbsp;&nbsp<a target=\"_blank\" href=\"http://freemusicarchive.org/music/6th_Sense_amp_Mick_Boogie/Just_Do_It_A_Mixtape_Ode_To_Nike/05_A-Trak_amp_Lupe_Fiasco_feat_6th_Sense_-_Me_amp_My_Sneakersmp3/download\">Download</a></td> \n    </tr>    <tr> \n        <th id=\"T_ea99ca40_14fb_11e9_b35e_236c7f2be816level0_row1\" class=\"row_heading level0 row1\" >1</th> \n        <td id=\"T_ea99ca40_14fb_11e9_b35e_236c7f2be816row1_col0\" class=\"data row1 col0\" >Action Davis</td> \n        <td id=\"T_ea99ca40_14fb_11e9_b35e_236c7f2be816row1_col1\" class=\"data row1 col1\" >Lights - And Counting (Action Davis Remix)</td> \n        <td id=\"T_ea99ca40_14fb_11e9_b35e_236c7f2be816row1_col2\" class=\"data row1 col2\" ><a target=\"_blank\" href=\"http://freemusicarchive.org/music/Action_Davis/Beats_EP/Action_Davis_-_Beats_EP_-_06_Lights_-_And_Counting_Action_Davis_Remix\">Open</a>&nbsp;&nbsp;&nbsp;&nbsp;&nbsp;&nbsp;&nbsp<a target=\"_blank\" href=\"http://freemusicarchive.org/music/Action_Davis/Beats_EP/Action_Davis_-_Beats_EP_-_06_Lights_-_And_Counting_Action_Davis_Remix/download\">Download</a></td> \n    </tr>    <tr> \n        <th id=\"T_ea99ca40_14fb_11e9_b35e_236c7f2be816level0_row2\" class=\"row_heading level0 row2\" >2</th> \n        <td id=\"T_ea99ca40_14fb_11e9_b35e_236c7f2be816row2_col0\" class=\"data row2 col0\" >DJ /rupture</td> \n        <td id=\"T_ea99ca40_14fb_11e9_b35e_236c7f2be816row2_col1\" class=\"data row2 col1\" >Je Suis Le Peuple Sans Visage Featuring Arnaud Michniak</td> \n        <td id=\"T_ea99ca40_14fb_11e9_b35e_236c7f2be816row2_col2\" class=\"data row2 col2\" ><a target=\"_blank\" href=\"http://freemusicarchive.org/music/DJRupture/Special_Gunpowder/13_Je_Suis_Le_Peuple_Sans_Visage_Featuring_Arnaud_Michniak\">Open</a>&nbsp;&nbsp;&nbsp;&nbsp;&nbsp;&nbsp;&nbsp<a target=\"_blank\" href=\"http://freemusicarchive.org/music/DJRupture/Special_Gunpowder/13_Je_Suis_Le_Peuple_Sans_Visage_Featuring_Arnaud_Michniak/download\">Download</a></td> \n    </tr>    <tr> \n        <th id=\"T_ea99ca40_14fb_11e9_b35e_236c7f2be816level0_row3\" class=\"row_heading level0 row3\" >3</th> \n        <td id=\"T_ea99ca40_14fb_11e9_b35e_236c7f2be816row3_col0\" class=\"data row3 col0\" >transient</td> \n        <td id=\"T_ea99ca40_14fb_11e9_b35e_236c7f2be816row3_col1\" class=\"data row3 col1\" >Take a Trip and Never Leave the Farm</td> \n        <td id=\"T_ea99ca40_14fb_11e9_b35e_236c7f2be816row3_col2\" class=\"data row3 col2\" ><a target=\"_blank\" href=\"http://freemusicarchive.org/music/Transient/Symphony_of_Curves/transient-08-take_a_trip_and_never_leave_the_farm\">Open</a>&nbsp;&nbsp;&nbsp;&nbsp;&nbsp;&nbsp;&nbsp<a target=\"_blank\" href=\"http://freemusicarchive.org/music/Transient/Symphony_of_Curves/transient-08-take_a_trip_and_never_leave_the_farm/download\">Download</a></td> \n    </tr>    <tr> \n        <th id=\"T_ea99ca40_14fb_11e9_b35e_236c7f2be816level0_row4\" class=\"row_heading level0 row4\" >4</th> \n        <td id=\"T_ea99ca40_14fb_11e9_b35e_236c7f2be816row4_col0\" class=\"data row4 col0\" >Aviscerall</td> \n        <td id=\"T_ea99ca40_14fb_11e9_b35e_236c7f2be816row4_col1\" class=\"data row4 col1\" >Zaduu (Feat. Crystal Tokyo)</td> \n        <td id=\"T_ea99ca40_14fb_11e9_b35e_236c7f2be816row4_col2\" class=\"data row4 col2\" ><a target=\"_blank\" href=\"http://freemusicarchive.org/music/Aviscerall/Nostalgia_Infinite/Aviscerall_-_Nostalgia_Infinite_-_14_Zaduu_Feat_Crystal_Tokyo\">Open</a>&nbsp;&nbsp;&nbsp;&nbsp;&nbsp;&nbsp;&nbsp<a target=\"_blank\" href=\"http://freemusicarchive.org/music/Aviscerall/Nostalgia_Infinite/Aviscerall_-_Nostalgia_Infinite_-_14_Zaduu_Feat_Crystal_Tokyo/download\">Download</a></td> \n    </tr>    <tr> \n        <th id=\"T_ea99ca40_14fb_11e9_b35e_236c7f2be816level0_row5\" class=\"row_heading level0 row5\" >5</th> \n        <td id=\"T_ea99ca40_14fb_11e9_b35e_236c7f2be816row5_col0\" class=\"data row5 col0\" >C-Doc</td> \n        <td id=\"T_ea99ca40_14fb_11e9_b35e_236c7f2be816row5_col1\" class=\"data row5 col1\" >Rappers (Part 7)</td> \n        <td id=\"T_ea99ca40_14fb_11e9_b35e_236c7f2be816row5_col2\" class=\"data row5 col2\" ><a target=\"_blank\" href=\"http://freemusicarchive.org/music/C-Doc/Broken_Homes_Featuring_DJ_Def_Chad/08_-_Rappers_Part_7\">Open</a>&nbsp;&nbsp;&nbsp;&nbsp;&nbsp;&nbsp;&nbsp<a target=\"_blank\" href=\"http://freemusicarchive.org/music/C-Doc/Broken_Homes_Featuring_DJ_Def_Chad/08_-_Rappers_Part_7/download\">Download</a></td> \n    </tr>    <tr> \n        <th id=\"T_ea99ca40_14fb_11e9_b35e_236c7f2be816level0_row6\" class=\"row_heading level0 row6\" >6</th> \n        <td id=\"T_ea99ca40_14fb_11e9_b35e_236c7f2be816row6_col0\" class=\"data row6 col0\" >Tha Silent Partner</td> \n        <td id=\"T_ea99ca40_14fb_11e9_b35e_236c7f2be816row6_col1\" class=\"data row6 col1\" >doukno (whereugoin?)</td> \n        <td id=\"T_ea99ca40_14fb_11e9_b35e_236c7f2be816row6_col2\" class=\"data row6 col2\" ><a target=\"_blank\" href=\"http://freemusicarchive.org/music/Tha_Silent_Partner/Platters_Act_4_A_Suite_For_John_M/06_-_doukno_whereugoin_\">Open</a>&nbsp;&nbsp;&nbsp;&nbsp;&nbsp;&nbsp;&nbsp<a target=\"_blank\" href=\"http://freemusicarchive.org/music/Tha_Silent_Partner/Platters_Act_4_A_Suite_For_John_M/06_-_doukno_whereugoin_/download\">Download</a></td> \n    </tr>    <tr> \n        <th id=\"T_ea99ca40_14fb_11e9_b35e_236c7f2be816level0_row7\" class=\"row_heading level0 row7\" >7</th> \n        <td id=\"T_ea99ca40_14fb_11e9_b35e_236c7f2be816row7_col0\" class=\"data row7 col0\" >6th Sense</td> \n        <td id=\"T_ea99ca40_14fb_11e9_b35e_236c7f2be816row7_col1\" class=\"data row7 col1\" >Love Lockdown Instrumental     {6th Sense}</td> \n        <td id=\"T_ea99ca40_14fb_11e9_b35e_236c7f2be816row7_col2\" class=\"data row7 col2\" ><a target=\"_blank\" href=\"http://freemusicarchive.org/music/6th_Sense/Its_A_6th_Sense_Beat_Yo/Love_Lockdown_Instrumental_____6th_Sense\">Open</a>&nbsp;&nbsp;&nbsp;&nbsp;&nbsp;&nbsp;&nbsp<a target=\"_blank\" href=\"http://freemusicarchive.org/music/6th_Sense/Its_A_6th_Sense_Beat_Yo/Love_Lockdown_Instrumental_____6th_Sense/download\">Download</a></td> \n    </tr>    <tr> \n        <th id=\"T_ea99ca40_14fb_11e9_b35e_236c7f2be816level0_row8\" class=\"row_heading level0 row8\" >8</th> \n        <td id=\"T_ea99ca40_14fb_11e9_b35e_236c7f2be816row8_col0\" class=\"data row8 col0\" >Kellee Maize</td> \n        <td id=\"T_ea99ca40_14fb_11e9_b35e_236c7f2be816row8_col1\" class=\"data row8 col1\" >Big Plans</td> \n        <td id=\"T_ea99ca40_14fb_11e9_b35e_236c7f2be816row8_col2\" class=\"data row8 col2\" ><a target=\"_blank\" href=\"http://freemusicarchive.org/music/Kellee_Maize/Aligned_Archetype/09__Kellee_Maize__Big_Plans__Aligned_Archetype__FrostWirecom\">Open</a>&nbsp;&nbsp;&nbsp;&nbsp;&nbsp;&nbsp;&nbsp<a target=\"_blank\" href=\"http://freemusicarchive.org/music/Kellee_Maize/Aligned_Archetype/09__Kellee_Maize__Big_Plans__Aligned_Archetype__FrostWirecom/download\">Download</a></td> \n    </tr>    <tr> \n        <th id=\"T_ea99ca40_14fb_11e9_b35e_236c7f2be816level0_row9\" class=\"row_heading level0 row9\" >9</th> \n        <td id=\"T_ea99ca40_14fb_11e9_b35e_236c7f2be816row9_col0\" class=\"data row9 col0\" >Kellee Maize</td> \n        <td id=\"T_ea99ca40_14fb_11e9_b35e_236c7f2be816row9_col1\" class=\"data row9 col1\" >Trapped</td> \n        <td id=\"T_ea99ca40_14fb_11e9_b35e_236c7f2be816row9_col2\" class=\"data row9 col2\" ><a target=\"_blank\" href=\"http://freemusicarchive.org/music/Kellee_Maize/Integration/Trapped\">Open</a>&nbsp;&nbsp;&nbsp;&nbsp;&nbsp;&nbsp;&nbsp<a target=\"_blank\" href=\"http://freemusicarchive.org/music/Kellee_Maize/Integration/Trapped/download\">Download</a></td> \n    </tr></tbody> \n</table> ",
          "text/plain": "<pandas.io.formats.style.Styler at 0x7f1a136dbf60>"
         },
         "metadata": {},
         "output_type": "display_data"
        }
       ]
      }
     },
     "a61becc61921446fa8e950a42ba69afd": {
      "model_module": "@jupyter-widgets/controls",
      "model_module_version": "1.4.0",
      "model_name": "DescriptionStyleModel",
      "state": {
       "description_width": ""
      }
     },
     "a62eb38a6b0e4433ab0c321dc3c12ed5": {
      "model_module": "@jupyter-widgets/base",
      "model_module_version": "1.1.0",
      "model_name": "LayoutModel",
      "state": {}
     },
     "aabb0903eb264eb1b5bd3642aeebfea2": {
      "model_module": "@jupyter-widgets/controls",
      "model_module_version": "1.4.0",
      "model_name": "DropdownModel",
      "state": {
       "_options_labels": [
        "518D",
        "2D",
        "Heat"
       ],
       "description": "m",
       "index": 0,
       "layout": "IPY_MODEL_603471344dca498b8cd863e7f9055558",
       "style": "IPY_MODEL_90355c4d3e0a4fad87479a397dd5e8a9"
      }
     },
     "b1113c2531b44569a56965f297a74f12": {
      "model_module": "@jupyter-widgets/controls",
      "model_module_version": "1.4.0",
      "model_name": "DescriptionStyleModel",
      "state": {
       "description_width": ""
      }
     },
     "b31c4d43759e4280957f00e228e899c8": {
      "model_module": "@jupyter-widgets/controls",
      "model_module_version": "1.4.0",
      "model_name": "DropdownModel",
      "state": {
       "_options_labels": [
        "518D",
        "2D",
        "Heat"
       ],
       "description": "m",
       "index": 0,
       "layout": "IPY_MODEL_c563c35e365642c0bc3f8e3e9d1145b7",
       "style": "IPY_MODEL_1c20bf0e82c3487983afd8dda4fc3f50"
      }
     },
     "c563c35e365642c0bc3f8e3e9d1145b7": {
      "model_module": "@jupyter-widgets/base",
      "model_module_version": "1.1.0",
      "model_name": "LayoutModel",
      "state": {}
     },
     "d31c20851f4246d7aed906a83e6ba8b6": {
      "model_module": "@jupyter-widgets/controls",
      "model_module_version": "1.4.0",
      "model_name": "DropdownModel",
      "state": {
       "_options_labels": [
        "518D",
        "2D",
        "Heat"
       ],
       "description": "m",
       "index": 2,
       "layout": "IPY_MODEL_8a8d4b2437694f83bfd0a67e4b39ac40",
       "style": "IPY_MODEL_b1113c2531b44569a56965f297a74f12"
      }
     },
     "d527f023eccf44d1acd3642c28fe8adb": {
      "model_module": "@jupyter-widgets/output",
      "model_module_version": "1.0.0",
      "model_name": "OutputModel",
      "state": {
       "layout": "IPY_MODEL_4b8c24435032428b8d1ae4f42ccc99c8",
       "outputs": [
        {
         "name": "stdout",
         "output_type": "stream",
         "text": "Playlist: Demo 1\n"
        },
        {
         "data": {
          "text/html": "<style  type=\"text/css\" >\n</style>  \n<table id=\"T_b68e6e66_14fb_11e9_9a7a_abfca38bc7d3\" > \n<thead>    <tr> \n        <th class=\"blank level0\" ></th> \n        <th class=\"col_heading level0 col0\" >Artist</th> \n        <th class=\"col_heading level0 col1\" >Title</th> \n        <th class=\"col_heading level0 col2\" >Links</th> \n    </tr></thead> \n<tbody>    <tr> \n        <th id=\"T_b68e6e66_14fb_11e9_9a7a_abfca38bc7d3level0_row0\" class=\"row_heading level0 row0\" >0</th> \n        <td id=\"T_b68e6e66_14fb_11e9_9a7a_abfca38bc7d3row0_col0\" class=\"data row0 col0\" >Squarehead</td> \n        <td id=\"T_b68e6e66_14fb_11e9_9a7a_abfca38bc7d3row0_col1\" class=\"data row0 col1\" >Two Miles</td> \n        <td id=\"T_b68e6e66_14fb_11e9_9a7a_abfca38bc7d3row0_col2\" class=\"data row0 col2\" ><a target=\"_blank\" href=\"http://freemusicarchive.org/music/Squarehead/Live_on_Liz_Bergs_Show_on_WFMU_102212/Squarehead_-_05_-_Two_Miles\">Open</a>&nbsp;&nbsp;&nbsp;&nbsp;&nbsp;&nbsp;&nbsp<a target=\"_blank\" href=\"http://freemusicarchive.org/music/Squarehead/Live_on_Liz_Bergs_Show_on_WFMU_102212/Squarehead_-_05_-_Two_Miles/download\">Download</a></td> \n    </tr>    <tr> \n        <th id=\"T_b68e6e66_14fb_11e9_9a7a_abfca38bc7d3level0_row1\" class=\"row_heading level0 row1\" >1</th> \n        <td id=\"T_b68e6e66_14fb_11e9_9a7a_abfca38bc7d3row1_col0\" class=\"data row1 col0\" >Peter Biedermann</td> \n        <td id=\"T_b68e6e66_14fb_11e9_9a7a_abfca38bc7d3row1_col1\" class=\"data row1 col1\" >Cover Up</td> \n        <td id=\"T_b68e6e66_14fb_11e9_9a7a_abfca38bc7d3row1_col2\" class=\"data row1 col2\" ><a target=\"_blank\" href=\"http://freemusicarchive.org/music/Peter_Biedermann/Live_at_WFMU_5508_on_Irene_Trudels_show/Cover_Up\">Open</a>&nbsp;&nbsp;&nbsp;&nbsp;&nbsp;&nbsp;&nbsp<a target=\"_blank\" href=\"http://freemusicarchive.org/music/Peter_Biedermann/Live_at_WFMU_5508_on_Irene_Trudels_show/Cover_Up/download\">Download</a></td> \n    </tr>    <tr> \n        <th id=\"T_b68e6e66_14fb_11e9_9a7a_abfca38bc7d3level0_row2\" class=\"row_heading level0 row2\" >2</th> \n        <td id=\"T_b68e6e66_14fb_11e9_9a7a_abfca38bc7d3row2_col0\" class=\"data row2 col0\" >pHoaming Edison</td> \n        <td id=\"T_b68e6e66_14fb_11e9_9a7a_abfca38bc7d3row2_col1\" class=\"data row2 col1\" >Medieval Duck Mollases</td> \n        <td id=\"T_b68e6e66_14fb_11e9_9a7a_abfca38bc7d3row2_col2\" class=\"data row2 col2\" ><a target=\"_blank\" href=\"http://freemusicarchive.org/music/pHoaming_Edison/Live_on_WFMUs_Dangerous_for_the_Brain_-_June_14_2014/phoaming_Edison_-_03_-_Medieval_Duck_Mollases\">Open</a>&nbsp;&nbsp;&nbsp;&nbsp;&nbsp;&nbsp;&nbsp<a target=\"_blank\" href=\"http://freemusicarchive.org/music/pHoaming_Edison/Live_on_WFMUs_Dangerous_for_the_Brain_-_June_14_2014/phoaming_Edison_-_03_-_Medieval_Duck_Mollases/download\">Download</a></td> \n    </tr>    <tr> \n        <th id=\"T_b68e6e66_14fb_11e9_9a7a_abfca38bc7d3level0_row3\" class=\"row_heading level0 row3\" >3</th> \n        <td id=\"T_b68e6e66_14fb_11e9_9a7a_abfca38bc7d3row3_col0\" class=\"data row3 col0\" >Derek Clegg</td> \n        <td id=\"T_b68e6e66_14fb_11e9_9a7a_abfca38bc7d3row3_col1\" class=\"data row3 col1\" >Lucky</td> \n        <td id=\"T_b68e6e66_14fb_11e9_9a7a_abfca38bc7d3row3_col2\" class=\"data row3 col2\" ><a target=\"_blank\" href=\"http://freemusicarchive.org/music/Derek_Clegg/Loose_Fur_-_The_Best_of_Derek_Clegg/Derek_Clegg_-_Loose_Fur_-_The_Best_Of_Derek_Clegg_-_09_Lucky\">Open</a>&nbsp;&nbsp;&nbsp;&nbsp;&nbsp;&nbsp;&nbsp<a target=\"_blank\" href=\"http://freemusicarchive.org/music/Derek_Clegg/Loose_Fur_-_The_Best_of_Derek_Clegg/Derek_Clegg_-_Loose_Fur_-_The_Best_Of_Derek_Clegg_-_09_Lucky/download\">Download</a></td> \n    </tr>    <tr> \n        <th id=\"T_b68e6e66_14fb_11e9_9a7a_abfca38bc7d3level0_row4\" class=\"row_heading level0 row4\" >4</th> \n        <td id=\"T_b68e6e66_14fb_11e9_9a7a_abfca38bc7d3row4_col0\" class=\"data row4 col0\" >Derek Clegg</td> \n        <td id=\"T_b68e6e66_14fb_11e9_9a7a_abfca38bc7d3row4_col1\" class=\"data row4 col1\" >Last Chance</td> \n        <td id=\"T_b68e6e66_14fb_11e9_9a7a_abfca38bc7d3row4_col2\" class=\"data row4 col2\" ><a target=\"_blank\" href=\"http://freemusicarchive.org/music/Derek_Clegg/End_Of_Something/Derek_Clegg_-_End_of_Something_-_04_Last_Chance\">Open</a>&nbsp;&nbsp;&nbsp;&nbsp;&nbsp;&nbsp;&nbsp<a target=\"_blank\" href=\"http://freemusicarchive.org/music/Derek_Clegg/End_Of_Something/Derek_Clegg_-_End_of_Something_-_04_Last_Chance/download\">Download</a></td> \n    </tr>    <tr> \n        <th id=\"T_b68e6e66_14fb_11e9_9a7a_abfca38bc7d3level0_row5\" class=\"row_heading level0 row5\" >5</th> \n        <td id=\"T_b68e6e66_14fb_11e9_9a7a_abfca38bc7d3row5_col0\" class=\"data row5 col0\" >Eszter Balint</td> \n        <td id=\"T_b68e6e66_14fb_11e9_9a7a_abfca38bc7d3row5_col1\" class=\"data row5 col1\" >All You Need</td> \n        <td id=\"T_b68e6e66_14fb_11e9_9a7a_abfca38bc7d3row5_col2\" class=\"data row5 col2\" ><a target=\"_blank\" href=\"http://freemusicarchive.org/music/Eszter_Balint/Live_on_WFMU_with_Irene_Trudel_July_14_2015/All_You_Need\">Open</a>&nbsp;&nbsp;&nbsp;&nbsp;&nbsp;&nbsp;&nbsp<a target=\"_blank\" href=\"http://freemusicarchive.org/music/Eszter_Balint/Live_on_WFMU_with_Irene_Trudel_July_14_2015/All_You_Need/download\">Download</a></td> \n    </tr>    <tr> \n        <th id=\"T_b68e6e66_14fb_11e9_9a7a_abfca38bc7d3level0_row6\" class=\"row_heading level0 row6\" >6</th> \n        <td id=\"T_b68e6e66_14fb_11e9_9a7a_abfca38bc7d3row6_col0\" class=\"data row6 col0\" >Gino Pertot</td> \n        <td id=\"T_b68e6e66_14fb_11e9_9a7a_abfca38bc7d3row6_col1\" class=\"data row6 col1\" >anita the saggitarius</td> \n        <td id=\"T_b68e6e66_14fb_11e9_9a7a_abfca38bc7d3row6_col2\" class=\"data row6 col2\" ><a target=\"_blank\" href=\"http://freemusicarchive.org/music/Gino_Pertot/Jew_Nails/anita_the_saggitarius\">Open</a>&nbsp;&nbsp;&nbsp;&nbsp;&nbsp;&nbsp;&nbsp<a target=\"_blank\" href=\"http://freemusicarchive.org/music/Gino_Pertot/Jew_Nails/anita_the_saggitarius/download\">Download</a></td> \n    </tr>    <tr> \n        <th id=\"T_b68e6e66_14fb_11e9_9a7a_abfca38bc7d3level0_row7\" class=\"row_heading level0 row7\" >7</th> \n        <td id=\"T_b68e6e66_14fb_11e9_9a7a_abfca38bc7d3row7_col0\" class=\"data row7 col0\" >Pete Lund</td> \n        <td id=\"T_b68e6e66_14fb_11e9_9a7a_abfca38bc7d3row7_col1\" class=\"data row7 col1\" >Gypsy Cab</td> \n        <td id=\"T_b68e6e66_14fb_11e9_9a7a_abfca38bc7d3row7_col2\" class=\"data row7 col2\" ><a target=\"_blank\" href=\"http://freemusicarchive.org/music/Pete_Lund/Gypsy_Cab/01_-_Gypsy_Cab\">Open</a>&nbsp;&nbsp;&nbsp;&nbsp;&nbsp;&nbsp;&nbsp<a target=\"_blank\" href=\"http://freemusicarchive.org/music/Pete_Lund/Gypsy_Cab/01_-_Gypsy_Cab/download\">Download</a></td> \n    </tr>    <tr> \n        <th id=\"T_b68e6e66_14fb_11e9_9a7a_abfca38bc7d3level0_row8\" class=\"row_heading level0 row8\" >8</th> \n        <td id=\"T_b68e6e66_14fb_11e9_9a7a_abfca38bc7d3row8_col0\" class=\"data row8 col0\" >The Degs</td> \n        <td id=\"T_b68e6e66_14fb_11e9_9a7a_abfca38bc7d3row8_col1\" class=\"data row8 col1\" >Here They Come</td> \n        <td id=\"T_b68e6e66_14fb_11e9_9a7a_abfca38bc7d3row8_col2\" class=\"data row8 col2\" ><a target=\"_blank\" href=\"http://freemusicarchive.org/music/The_Degs/Here_They_Come/The_Degs_-_01_-_Here_They_Come\">Open</a>&nbsp;&nbsp;&nbsp;&nbsp;&nbsp;&nbsp;&nbsp<a target=\"_blank\" href=\"http://freemusicarchive.org/music/The_Degs/Here_They_Come/The_Degs_-_01_-_Here_They_Come/download\">Download</a></td> \n    </tr>    <tr> \n        <th id=\"T_b68e6e66_14fb_11e9_9a7a_abfca38bc7d3level0_row9\" class=\"row_heading level0 row9\" >9</th> \n        <td id=\"T_b68e6e66_14fb_11e9_9a7a_abfca38bc7d3row9_col0\" class=\"data row9 col0\" >Born Loose</td> \n        <td id=\"T_b68e6e66_14fb_11e9_9a7a_abfca38bc7d3row9_col1\" class=\"data row9 col1\" >Step Up To The Plate (Be A Runaway)</td> \n        <td id=\"T_b68e6e66_14fb_11e9_9a7a_abfca38bc7d3row9_col2\" class=\"data row9 col2\" ><a target=\"_blank\" href=\"http://freemusicarchive.org/music/Born_Loose/Live_on_WFMUs_Three_Chord_Monte_with_Joe_Belock_-_May_21_2013/Born_Loose_-_01_-_Step_Up_To_The_Plate\">Open</a>&nbsp;&nbsp;&nbsp;&nbsp;&nbsp;&nbsp;&nbsp<a target=\"_blank\" href=\"http://freemusicarchive.org/music/Born_Loose/Live_on_WFMUs_Three_Chord_Monte_with_Joe_Belock_-_May_21_2013/Born_Loose_-_01_-_Step_Up_To_The_Plate/download\">Download</a></td> \n    </tr></tbody> \n</table> ",
          "text/plain": "<pandas.io.formats.style.Styler at 0x7f208e3a5f60>"
         },
         "metadata": {},
         "output_type": "display_data"
        },
        {
         "name": "stdout",
         "output_type": "stream",
         "text": "Playlist: Demo 2\n"
        },
        {
         "data": {
          "text/html": "<style  type=\"text/css\" >\n</style>  \n<table id=\"T_b694ad00_14fb_11e9_95a5_abfca38bc7d3\" > \n<thead>    <tr> \n        <th class=\"blank level0\" ></th> \n        <th class=\"col_heading level0 col0\" >Artist</th> \n        <th class=\"col_heading level0 col1\" >Title</th> \n        <th class=\"col_heading level0 col2\" >Links</th> \n    </tr></thead> \n<tbody>    <tr> \n        <th id=\"T_b694ad00_14fb_11e9_95a5_abfca38bc7d3level0_row0\" class=\"row_heading level0 row0\" >0</th> \n        <td id=\"T_b694ad00_14fb_11e9_95a5_abfca38bc7d3row0_col0\" class=\"data row0 col0\" >Kellee Maize</td> \n        <td id=\"T_b694ad00_14fb_11e9_95a5_abfca38bc7d3row0_col1\" class=\"data row0 col1\" >Please Remember</td> \n        <td id=\"T_b694ad00_14fb_11e9_95a5_abfca38bc7d3row0_col2\" class=\"data row0 col2\" ><a target=\"_blank\" href=\"http://freemusicarchive.org/music/Kellee_Maize/Age_of_Feminine/Kellee_Maize_-_Age_of_Feminine_-_06_Please_Remember\">Open</a>&nbsp;&nbsp;&nbsp;&nbsp;&nbsp;&nbsp;&nbsp<a target=\"_blank\" href=\"http://freemusicarchive.org/music/Kellee_Maize/Age_of_Feminine/Kellee_Maize_-_Age_of_Feminine_-_06_Please_Remember/download\">Download</a></td> \n    </tr>    <tr> \n        <th id=\"T_b694ad00_14fb_11e9_95a5_abfca38bc7d3level0_row1\" class=\"row_heading level0 row1\" >1</th> \n        <td id=\"T_b694ad00_14fb_11e9_95a5_abfca38bc7d3row1_col0\" class=\"data row1 col0\" >Kellee Maize</td> \n        <td id=\"T_b694ad00_14fb_11e9_95a5_abfca38bc7d3row1_col1\" class=\"data row1 col1\" >Trapped</td> \n        <td id=\"T_b694ad00_14fb_11e9_95a5_abfca38bc7d3row1_col2\" class=\"data row1 col2\" ><a target=\"_blank\" href=\"http://freemusicarchive.org/music/Kellee_Maize/Integration/Trapped\">Open</a>&nbsp;&nbsp;&nbsp;&nbsp;&nbsp;&nbsp;&nbsp<a target=\"_blank\" href=\"http://freemusicarchive.org/music/Kellee_Maize/Integration/Trapped/download\">Download</a></td> \n    </tr>    <tr> \n        <th id=\"T_b694ad00_14fb_11e9_95a5_abfca38bc7d3level0_row2\" class=\"row_heading level0 row2\" >2</th> \n        <td id=\"T_b694ad00_14fb_11e9_95a5_abfca38bc7d3row2_col0\" class=\"data row2 col0\" >Eidetic Seeing</td> \n        <td id=\"T_b694ad00_14fb_11e9_95a5_abfca38bc7d3row2_col1\" class=\"data row2 col1\" >It's Not Blood It's Gamelan</td> \n        <td id=\"T_b694ad00_14fb_11e9_95a5_abfca38bc7d3row2_col2\" class=\"data row2 col2\" ><a target=\"_blank\" href=\"http://freemusicarchive.org/music/Eidetic_Seeing/Drink_the_Sun/Eidetic_Seeing_-_Drink_The_Sun_-_06_Its_Not_Blood_Its_Gamelan\">Open</a>&nbsp;&nbsp;&nbsp;&nbsp;&nbsp;&nbsp;&nbsp<a target=\"_blank\" href=\"http://freemusicarchive.org/music/Eidetic_Seeing/Drink_the_Sun/Eidetic_Seeing_-_Drink_The_Sun_-_06_Its_Not_Blood_Its_Gamelan/download\">Download</a></td> \n    </tr>    <tr> \n        <th id=\"T_b694ad00_14fb_11e9_95a5_abfca38bc7d3level0_row3\" class=\"row_heading level0 row3\" >3</th> \n        <td id=\"T_b694ad00_14fb_11e9_95a5_abfca38bc7d3row3_col0\" class=\"data row3 col0\" >DJ Def Chad</td> \n        <td id=\"T_b694ad00_14fb_11e9_95a5_abfca38bc7d3row3_col1\" class=\"data row3 col1\" >The Remedy</td> \n        <td id=\"T_b694ad00_14fb_11e9_95a5_abfca38bc7d3row3_col2\" class=\"data row3 col2\" ><a target=\"_blank\" href=\"http://freemusicarchive.org/music/DJ_Def_Chad/The_Black_Holocaust/10_-_The_Remedy\">Open</a>&nbsp;&nbsp;&nbsp;&nbsp;&nbsp;&nbsp;&nbsp<a target=\"_blank\" href=\"http://freemusicarchive.org/music/DJ_Def_Chad/The_Black_Holocaust/10_-_The_Remedy/download\">Download</a></td> \n    </tr>    <tr> \n        <th id=\"T_b694ad00_14fb_11e9_95a5_abfca38bc7d3level0_row4\" class=\"row_heading level0 row4\" >4</th> \n        <td id=\"T_b694ad00_14fb_11e9_95a5_abfca38bc7d3row4_col0\" class=\"data row4 col0\" >transient</td> \n        <td id=\"T_b694ad00_14fb_11e9_95a5_abfca38bc7d3row4_col1\" class=\"data row4 col1\" >Take a Trip and Never Leave the Farm</td> \n        <td id=\"T_b694ad00_14fb_11e9_95a5_abfca38bc7d3row4_col2\" class=\"data row4 col2\" ><a target=\"_blank\" href=\"http://freemusicarchive.org/music/Transient/Symphony_of_Curves/transient-08-take_a_trip_and_never_leave_the_farm\">Open</a>&nbsp;&nbsp;&nbsp;&nbsp;&nbsp;&nbsp;&nbsp<a target=\"_blank\" href=\"http://freemusicarchive.org/music/Transient/Symphony_of_Curves/transient-08-take_a_trip_and_never_leave_the_farm/download\">Download</a></td> \n    </tr>    <tr> \n        <th id=\"T_b694ad00_14fb_11e9_95a5_abfca38bc7d3level0_row5\" class=\"row_heading level0 row5\" >5</th> \n        <td id=\"T_b694ad00_14fb_11e9_95a5_abfca38bc7d3row5_col0\" class=\"data row5 col0\" >Beastie Boys</td> \n        <td id=\"T_b694ad00_14fb_11e9_95a5_abfca38bc7d3row5_col1\" class=\"data row5 col1\" >Now Get Busy</td> \n        <td id=\"T_b694ad00_14fb_11e9_95a5_abfca38bc7d3row5_col2\" class=\"data row5 col2\" ><a target=\"_blank\" href=\"http://freemusicarchive.org/music/Beastie_Boys/The_WIRED_CD_Rip_Sample_Mash_Share/Now_Get_Busy\">Open</a>&nbsp;&nbsp;&nbsp;&nbsp;&nbsp;&nbsp;&nbsp<a target=\"_blank\" href=\"http://freemusicarchive.org/music/Beastie_Boys/The_WIRED_CD_Rip_Sample_Mash_Share/Now_Get_Busy/download\">Download</a></td> \n    </tr>    <tr> \n        <th id=\"T_b694ad00_14fb_11e9_95a5_abfca38bc7d3level0_row6\" class=\"row_heading level0 row6\" >6</th> \n        <td id=\"T_b694ad00_14fb_11e9_95a5_abfca38bc7d3row6_col0\" class=\"data row6 col0\" >Cheese N Pot-C</td> \n        <td id=\"T_b694ad00_14fb_11e9_95a5_abfca38bc7d3row6_col1\" class=\"data row6 col1\" >Funky Motion</td> \n        <td id=\"T_b694ad00_14fb_11e9_95a5_abfca38bc7d3row6_col2\" class=\"data row6 col2\" ><a target=\"_blank\" href=\"http://freemusicarchive.org/music/Cheese_N_Pot-C/Dallas_2_Tha_Palace/09_-_Funky_Motion\">Open</a>&nbsp;&nbsp;&nbsp;&nbsp;&nbsp;&nbsp;&nbsp<a target=\"_blank\" href=\"http://freemusicarchive.org/music/Cheese_N_Pot-C/Dallas_2_Tha_Palace/09_-_Funky_Motion/download\">Download</a></td> \n    </tr>    <tr> \n        <th id=\"T_b694ad00_14fb_11e9_95a5_abfca38bc7d3level0_row7\" class=\"row_heading level0 row7\" >7</th> \n        <td id=\"T_b694ad00_14fb_11e9_95a5_abfca38bc7d3row7_col0\" class=\"data row7 col0\" >Dollar Boyz</td> \n        <td id=\"T_b694ad00_14fb_11e9_95a5_abfca38bc7d3row7_col1\" class=\"data row7 col1\" >Soul Survivor</td> \n        <td id=\"T_b694ad00_14fb_11e9_95a5_abfca38bc7d3row7_col2\" class=\"data row7 col2\" ><a target=\"_blank\" href=\"http://freemusicarchive.org/music/Dollar_Boyz/Welcome_To_Chi-Raq/Dollar_Boyz_CD_Track_17_Welcome_To_Chiraq\">Open</a>&nbsp;&nbsp;&nbsp;&nbsp;&nbsp;&nbsp;&nbsp<a target=\"_blank\" href=\"http://freemusicarchive.org/music/Dollar_Boyz/Welcome_To_Chi-Raq/Dollar_Boyz_CD_Track_17_Welcome_To_Chiraq/download\">Download</a></td> \n    </tr>    <tr> \n        <th id=\"T_b694ad00_14fb_11e9_95a5_abfca38bc7d3level0_row8\" class=\"row_heading level0 row8\" >8</th> \n        <td id=\"T_b694ad00_14fb_11e9_95a5_abfca38bc7d3row8_col0\" class=\"data row8 col0\" >Kellee Maize</td> \n        <td id=\"T_b694ad00_14fb_11e9_95a5_abfca38bc7d3row8_col1\" class=\"data row8 col1\" >Big Plans</td> \n        <td id=\"T_b694ad00_14fb_11e9_95a5_abfca38bc7d3row8_col2\" class=\"data row8 col2\" ><a target=\"_blank\" href=\"http://freemusicarchive.org/music/Kellee_Maize/Aligned_Archetype/09__Kellee_Maize__Big_Plans__Aligned_Archetype__FrostWirecom\">Open</a>&nbsp;&nbsp;&nbsp;&nbsp;&nbsp;&nbsp;&nbsp<a target=\"_blank\" href=\"http://freemusicarchive.org/music/Kellee_Maize/Aligned_Archetype/09__Kellee_Maize__Big_Plans__Aligned_Archetype__FrostWirecom/download\">Download</a></td> \n    </tr>    <tr> \n        <th id=\"T_b694ad00_14fb_11e9_95a5_abfca38bc7d3level0_row9\" class=\"row_heading level0 row9\" >9</th> \n        <td id=\"T_b694ad00_14fb_11e9_95a5_abfca38bc7d3row9_col0\" class=\"data row9 col0\" >6th Sense &amp; Mick Boogie</td> \n        <td id=\"T_b694ad00_14fb_11e9_95a5_abfca38bc7d3row9_col1\" class=\"data row9 col1\" >05 A-Trak &amp; Lupe Fiasco feat. 6th Sense - Me &amp; My Sneakers.mp3</td> \n        <td id=\"T_b694ad00_14fb_11e9_95a5_abfca38bc7d3row9_col2\" class=\"data row9 col2\" ><a target=\"_blank\" href=\"http://freemusicarchive.org/music/6th_Sense_amp_Mick_Boogie/Just_Do_It_A_Mixtape_Ode_To_Nike/05_A-Trak_amp_Lupe_Fiasco_feat_6th_Sense_-_Me_amp_My_Sneakersmp3\">Open</a>&nbsp;&nbsp;&nbsp;&nbsp;&nbsp;&nbsp;&nbsp<a target=\"_blank\" href=\"http://freemusicarchive.org/music/6th_Sense_amp_Mick_Boogie/Just_Do_It_A_Mixtape_Ode_To_Nike/05_A-Trak_amp_Lupe_Fiasco_feat_6th_Sense_-_Me_amp_My_Sneakersmp3/download\">Download</a></td> \n    </tr></tbody> \n</table> ",
          "text/plain": "<pandas.io.formats.style.Styler at 0x7f209b063be0>"
         },
         "metadata": {},
         "output_type": "display_data"
        }
       ]
      }
     },
     "e7eb6c2fba8b478ab2e8b11c05f42e2b": {
      "model_module": "@jupyter-widgets/output",
      "model_module_version": "1.0.0",
      "model_name": "OutputModel",
      "state": {
       "layout": "IPY_MODEL_85d48403f56c4fb9b1343dc396087b0c",
       "outputs": [
        {
         "name": "stdout",
         "output_type": "stream",
         "text": "Playlist: Demo 1\n"
        },
        {
         "data": {
          "text/html": "<style  type=\"text/css\" >\n</style>  \n<table id=\"T_9baee1ae_14fb_11e9_af5b_23de796ea6ff\" > \n<thead>    <tr> \n        <th class=\"blank level0\" ></th> \n        <th class=\"col_heading level0 col0\" >Artist</th> \n        <th class=\"col_heading level0 col1\" >Title</th> \n        <th class=\"col_heading level0 col2\" >Links</th> \n    </tr></thead> \n<tbody>    <tr> \n        <th id=\"T_9baee1ae_14fb_11e9_af5b_23de796ea6fflevel0_row0\" class=\"row_heading level0 row0\" >0</th> \n        <td id=\"T_9baee1ae_14fb_11e9_af5b_23de796ea6ffrow0_col0\" class=\"data row0 col0\" >Pierced Arrows</td> \n        <td id=\"T_9baee1ae_14fb_11e9_af5b_23de796ea6ffrow0_col1\" class=\"data row0 col1\" >Guns of Thunder</td> \n        <td id=\"T_9baee1ae_14fb_11e9_af5b_23de796ea6ffrow0_col2\" class=\"data row0 col2\" ><a target=\"_blank\" href=\"http://freemusicarchive.org/music/Pierced_Arrows/Straight_To_the_Heart/Guns_of_Thunder\">Open</a>&nbsp;&nbsp;&nbsp;&nbsp;&nbsp;&nbsp;&nbsp<a target=\"_blank\" href=\"http://freemusicarchive.org/music/Pierced_Arrows/Straight_To_the_Heart/Guns_of_Thunder/download\">Download</a></td> \n    </tr>    <tr> \n        <th id=\"T_9baee1ae_14fb_11e9_af5b_23de796ea6fflevel0_row1\" class=\"row_heading level0 row1\" >1</th> \n        <td id=\"T_9baee1ae_14fb_11e9_af5b_23de796ea6ffrow1_col0\" class=\"data row1 col0\" >Koonda Holaa</td> \n        <td id=\"T_9baee1ae_14fb_11e9_af5b_23de796ea6ffrow1_col1\" class=\"data row1 col1\" >10 Acres of the Finest Sand</td> \n        <td id=\"T_9baee1ae_14fb_11e9_af5b_23de796ea6ffrow1_col2\" class=\"data row1 col2\" ><a target=\"_blank\" href=\"http://freemusicarchive.org/music/Koonda_Holaa/10_Acres_of_the_Finest_Sand/10_Acres_of_the_Finest_Sand\">Open</a>&nbsp;&nbsp;&nbsp;&nbsp;&nbsp;&nbsp;&nbsp<a target=\"_blank\" href=\"http://freemusicarchive.org/music/Koonda_Holaa/10_Acres_of_the_Finest_Sand/10_Acres_of_the_Finest_Sand/download\">Download</a></td> \n    </tr>    <tr> \n        <th id=\"T_9baee1ae_14fb_11e9_af5b_23de796ea6fflevel0_row2\" class=\"row_heading level0 row2\" >2</th> \n        <td id=\"T_9baee1ae_14fb_11e9_af5b_23de796ea6ffrow2_col0\" class=\"data row2 col0\" >Pete Lund</td> \n        <td id=\"T_9baee1ae_14fb_11e9_af5b_23de796ea6ffrow2_col1\" class=\"data row2 col1\" >Gypsy Cab</td> \n        <td id=\"T_9baee1ae_14fb_11e9_af5b_23de796ea6ffrow2_col2\" class=\"data row2 col2\" ><a target=\"_blank\" href=\"http://freemusicarchive.org/music/Pete_Lund/Gypsy_Cab/01_-_Gypsy_Cab\">Open</a>&nbsp;&nbsp;&nbsp;&nbsp;&nbsp;&nbsp;&nbsp<a target=\"_blank\" href=\"http://freemusicarchive.org/music/Pete_Lund/Gypsy_Cab/01_-_Gypsy_Cab/download\">Download</a></td> \n    </tr>    <tr> \n        <th id=\"T_9baee1ae_14fb_11e9_af5b_23de796ea6fflevel0_row3\" class=\"row_heading level0 row3\" >3</th> \n        <td id=\"T_9baee1ae_14fb_11e9_af5b_23de796ea6ffrow3_col0\" class=\"data row3 col0\" >Black Elk</td> \n        <td id=\"T_9baee1ae_14fb_11e9_af5b_23de796ea6ffrow3_col1\" class=\"data row3 col1\" >Toggle</td> \n        <td id=\"T_9baee1ae_14fb_11e9_af5b_23de796ea6ffrow3_col2\" class=\"data row3 col2\" ><a target=\"_blank\" href=\"http://freemusicarchive.org/music/Black_Elk/Black_Elk/Toggle\">Open</a>&nbsp;&nbsp;&nbsp;&nbsp;&nbsp;&nbsp;&nbsp<a target=\"_blank\" href=\"http://freemusicarchive.org/music/Black_Elk/Black_Elk/Toggle/download\">Download</a></td> \n    </tr>    <tr> \n        <th id=\"T_9baee1ae_14fb_11e9_af5b_23de796ea6fflevel0_row4\" class=\"row_heading level0 row4\" >4</th> \n        <td id=\"T_9baee1ae_14fb_11e9_af5b_23de796ea6ffrow4_col0\" class=\"data row4 col0\" >Born Loose</td> \n        <td id=\"T_9baee1ae_14fb_11e9_af5b_23de796ea6ffrow4_col1\" class=\"data row4 col1\" >Step Up To The Plate (Be A Runaway)</td> \n        <td id=\"T_9baee1ae_14fb_11e9_af5b_23de796ea6ffrow4_col2\" class=\"data row4 col2\" ><a target=\"_blank\" href=\"http://freemusicarchive.org/music/Born_Loose/Live_on_WFMUs_Three_Chord_Monte_with_Joe_Belock_-_May_21_2013/Born_Loose_-_01_-_Step_Up_To_The_Plate\">Open</a>&nbsp;&nbsp;&nbsp;&nbsp;&nbsp;&nbsp;&nbsp<a target=\"_blank\" href=\"http://freemusicarchive.org/music/Born_Loose/Live_on_WFMUs_Three_Chord_Monte_with_Joe_Belock_-_May_21_2013/Born_Loose_-_01_-_Step_Up_To_The_Plate/download\">Download</a></td> \n    </tr>    <tr> \n        <th id=\"T_9baee1ae_14fb_11e9_af5b_23de796ea6fflevel0_row5\" class=\"row_heading level0 row5\" >5</th> \n        <td id=\"T_9baee1ae_14fb_11e9_af5b_23de796ea6ffrow5_col0\" class=\"data row5 col0\" >Lorenzo's Music</td> \n        <td id=\"T_9baee1ae_14fb_11e9_af5b_23de796ea6ffrow5_col1\" class=\"data row5 col1\" >Picture it all</td> \n        <td id=\"T_9baee1ae_14fb_11e9_af5b_23de796ea6ffrow5_col2\" class=\"data row5 col2\" ><a target=\"_blank\" href=\"http://freemusicarchive.org/music/Lorenzos_Music/Picture_it_all/Lorenzos_Music_-_01_Picture_It_All\">Open</a>&nbsp;&nbsp;&nbsp;&nbsp;&nbsp;&nbsp;&nbsp<a target=\"_blank\" href=\"http://freemusicarchive.org/music/Lorenzos_Music/Picture_it_all/Lorenzos_Music_-_01_Picture_It_All/download\">Download</a></td> \n    </tr>    <tr> \n        <th id=\"T_9baee1ae_14fb_11e9_af5b_23de796ea6fflevel0_row6\" class=\"row_heading level0 row6\" >6</th> \n        <td id=\"T_9baee1ae_14fb_11e9_af5b_23de796ea6ffrow6_col0\" class=\"data row6 col0\" >Dyslexic Fudgicle</td> \n        <td id=\"T_9baee1ae_14fb_11e9_af5b_23de796ea6ffrow6_col1\" class=\"data row6 col1\" >Rock n' Roll (2008)</td> \n        <td id=\"T_9baee1ae_14fb_11e9_af5b_23de796ea6ffrow6_col2\" class=\"data row6 col2\" ><a target=\"_blank\" href=\"http://freemusicarchive.org/music/Dyslexic_Fudgicle/Dyslexic_Fudgicle_-_2015_Release/17_Rock_n_Roll_2008\">Open</a>&nbsp;&nbsp;&nbsp;&nbsp;&nbsp;&nbsp;&nbsp<a target=\"_blank\" href=\"http://freemusicarchive.org/music/Dyslexic_Fudgicle/Dyslexic_Fudgicle_-_2015_Release/17_Rock_n_Roll_2008/download\">Download</a></td> \n    </tr>    <tr> \n        <th id=\"T_9baee1ae_14fb_11e9_af5b_23de796ea6fflevel0_row7\" class=\"row_heading level0 row7\" >7</th> \n        <td id=\"T_9baee1ae_14fb_11e9_af5b_23de796ea6ffrow7_col0\" class=\"data row7 col0\" >The Degs</td> \n        <td id=\"T_9baee1ae_14fb_11e9_af5b_23de796ea6ffrow7_col1\" class=\"data row7 col1\" >Here They Come</td> \n        <td id=\"T_9baee1ae_14fb_11e9_af5b_23de796ea6ffrow7_col2\" class=\"data row7 col2\" ><a target=\"_blank\" href=\"http://freemusicarchive.org/music/The_Degs/Here_They_Come/The_Degs_-_01_-_Here_They_Come\">Open</a>&nbsp;&nbsp;&nbsp;&nbsp;&nbsp;&nbsp;&nbsp<a target=\"_blank\" href=\"http://freemusicarchive.org/music/The_Degs/Here_They_Come/The_Degs_-_01_-_Here_They_Come/download\">Download</a></td> \n    </tr>    <tr> \n        <th id=\"T_9baee1ae_14fb_11e9_af5b_23de796ea6fflevel0_row8\" class=\"row_heading level0 row8\" >8</th> \n        <td id=\"T_9baee1ae_14fb_11e9_af5b_23de796ea6ffrow8_col0\" class=\"data row8 col0\" >Angstbreaker</td> \n        <td id=\"T_9baee1ae_14fb_11e9_af5b_23de796ea6ffrow8_col1\" class=\"data row8 col1\" >2/3 Straight Edge</td> \n        <td id=\"T_9baee1ae_14fb_11e9_af5b_23de796ea6ffrow8_col2\" class=\"data row8 col2\" ><a target=\"_blank\" href=\"http://freemusicarchive.org/music/Angstbreaker/MMXVI_1810/Angstbreaker-MMXVI-04-Two-Thirds-Straight-Edge\">Open</a>&nbsp;&nbsp;&nbsp;&nbsp;&nbsp;&nbsp;&nbsp<a target=\"_blank\" href=\"http://freemusicarchive.org/music/Angstbreaker/MMXVI_1810/Angstbreaker-MMXVI-04-Two-Thirds-Straight-Edge/download\">Download</a></td> \n    </tr>    <tr> \n        <th id=\"T_9baee1ae_14fb_11e9_af5b_23de796ea6fflevel0_row9\" class=\"row_heading level0 row9\" >9</th> \n        <td id=\"T_9baee1ae_14fb_11e9_af5b_23de796ea6ffrow9_col0\" class=\"data row9 col0\" >This One</td> \n        <td id=\"T_9baee1ae_14fb_11e9_af5b_23de796ea6ffrow9_col1\" class=\"data row9 col1\" >tell me how</td> \n        <td id=\"T_9baee1ae_14fb_11e9_af5b_23de796ea6ffrow9_col2\" class=\"data row9 col2\" ><a target=\"_blank\" href=\"http://freemusicarchive.org/music/This_One/Sour_Soul_12/04_This_One_-_tell_me_how\">Open</a>&nbsp;&nbsp;&nbsp;&nbsp;&nbsp;&nbsp;&nbsp<a target=\"_blank\" href=\"http://freemusicarchive.org/music/This_One/Sour_Soul_12/04_This_One_-_tell_me_how/download\">Download</a></td> \n    </tr></tbody> \n</table> ",
          "text/plain": "<pandas.io.formats.style.Styler at 0x7fb8b91a0f60>"
         },
         "metadata": {},
         "output_type": "display_data"
        },
        {
         "name": "stdout",
         "output_type": "stream",
         "text": "Playlist: Demo 2\n"
        },
        {
         "data": {
          "text/html": "<style  type=\"text/css\" >\n</style>  \n<table id=\"T_9bb52536_14fb_11e9_abae_23de796ea6ff\" > \n<thead>    <tr> \n        <th class=\"blank level0\" ></th> \n        <th class=\"col_heading level0 col0\" >Artist</th> \n        <th class=\"col_heading level0 col1\" >Title</th> \n        <th class=\"col_heading level0 col2\" >Links</th> \n    </tr></thead> \n<tbody>    <tr> \n        <th id=\"T_9bb52536_14fb_11e9_abae_23de796ea6fflevel0_row0\" class=\"row_heading level0 row0\" >0</th> \n        <td id=\"T_9bb52536_14fb_11e9_abae_23de796ea6ffrow0_col0\" class=\"data row0 col0\" >Tha Silent Partner</td> \n        <td id=\"T_9bb52536_14fb_11e9_abae_23de796ea6ffrow0_col1\" class=\"data row0 col1\" >Zombie Strut</td> \n        <td id=\"T_9bb52536_14fb_11e9_abae_23de796ea6ffrow0_col2\" class=\"data row0 col2\" ><a target=\"_blank\" href=\"http://freemusicarchive.org/music/Tha_Silent_Partner/Prequel_Grooves/02_-_Zombie_Strut\">Open</a>&nbsp;&nbsp;&nbsp;&nbsp;&nbsp;&nbsp;&nbsp<a target=\"_blank\" href=\"http://freemusicarchive.org/music/Tha_Silent_Partner/Prequel_Grooves/02_-_Zombie_Strut/download\">Download</a></td> \n    </tr>    <tr> \n        <th id=\"T_9bb52536_14fb_11e9_abae_23de796ea6fflevel0_row1\" class=\"row_heading level0 row1\" >1</th> \n        <td id=\"T_9bb52536_14fb_11e9_abae_23de796ea6ffrow1_col0\" class=\"data row1 col0\" >The Impossebulls</td> \n        <td id=\"T_9bb52536_14fb_11e9_abae_23de796ea6ffrow1_col1\" class=\"data row1 col1\" >Subterranean Homesick Blues</td> \n        <td id=\"T_9bb52536_14fb_11e9_abae_23de796ea6ffrow1_col2\" class=\"data row1 col2\" ><a target=\"_blank\" href=\"http://freemusicarchive.org/music/The_Impossebulls/The_More_Things_Stay_The_Same/04_-_Subterranean_Homesick_Blues\">Open</a>&nbsp;&nbsp;&nbsp;&nbsp;&nbsp;&nbsp;&nbsp<a target=\"_blank\" href=\"http://freemusicarchive.org/music/The_Impossebulls/The_More_Things_Stay_The_Same/04_-_Subterranean_Homesick_Blues/download\">Download</a></td> \n    </tr>    <tr> \n        <th id=\"T_9bb52536_14fb_11e9_abae_23de796ea6fflevel0_row2\" class=\"row_heading level0 row2\" >2</th> \n        <td id=\"T_9bb52536_14fb_11e9_abae_23de796ea6ffrow2_col0\" class=\"data row2 col0\" >Kellee Maize</td> \n        <td id=\"T_9bb52536_14fb_11e9_abae_23de796ea6ffrow2_col1\" class=\"data row2 col1\" >Big Plans</td> \n        <td id=\"T_9bb52536_14fb_11e9_abae_23de796ea6ffrow2_col2\" class=\"data row2 col2\" ><a target=\"_blank\" href=\"http://freemusicarchive.org/music/Kellee_Maize/Aligned_Archetype/09__Kellee_Maize__Big_Plans__Aligned_Archetype__FrostWirecom\">Open</a>&nbsp;&nbsp;&nbsp;&nbsp;&nbsp;&nbsp;&nbsp<a target=\"_blank\" href=\"http://freemusicarchive.org/music/Kellee_Maize/Aligned_Archetype/09__Kellee_Maize__Big_Plans__Aligned_Archetype__FrostWirecom/download\">Download</a></td> \n    </tr>    <tr> \n        <th id=\"T_9bb52536_14fb_11e9_abae_23de796ea6fflevel0_row3\" class=\"row_heading level0 row3\" >3</th> \n        <td id=\"T_9bb52536_14fb_11e9_abae_23de796ea6ffrow3_col0\" class=\"data row3 col0\" >DJ Def Chad</td> \n        <td id=\"T_9bb52536_14fb_11e9_abae_23de796ea6ffrow3_col1\" class=\"data row3 col1\" >The Remedy</td> \n        <td id=\"T_9bb52536_14fb_11e9_abae_23de796ea6ffrow3_col2\" class=\"data row3 col2\" ><a target=\"_blank\" href=\"http://freemusicarchive.org/music/DJ_Def_Chad/The_Black_Holocaust/10_-_The_Remedy\">Open</a>&nbsp;&nbsp;&nbsp;&nbsp;&nbsp;&nbsp;&nbsp<a target=\"_blank\" href=\"http://freemusicarchive.org/music/DJ_Def_Chad/The_Black_Holocaust/10_-_The_Remedy/download\">Download</a></td> \n    </tr>    <tr> \n        <th id=\"T_9bb52536_14fb_11e9_abae_23de796ea6fflevel0_row4\" class=\"row_heading level0 row4\" >4</th> \n        <td id=\"T_9bb52536_14fb_11e9_abae_23de796ea6ffrow4_col0\" class=\"data row4 col0\" >DJ /rupture</td> \n        <td id=\"T_9bb52536_14fb_11e9_abae_23de796ea6ffrow4_col1\" class=\"data row4 col1\" >Je Suis Le Peuple Sans Visage Featuring Arnaud Michniak</td> \n        <td id=\"T_9bb52536_14fb_11e9_abae_23de796ea6ffrow4_col2\" class=\"data row4 col2\" ><a target=\"_blank\" href=\"http://freemusicarchive.org/music/DJRupture/Special_Gunpowder/13_Je_Suis_Le_Peuple_Sans_Visage_Featuring_Arnaud_Michniak\">Open</a>&nbsp;&nbsp;&nbsp;&nbsp;&nbsp;&nbsp;&nbsp<a target=\"_blank\" href=\"http://freemusicarchive.org/music/DJRupture/Special_Gunpowder/13_Je_Suis_Le_Peuple_Sans_Visage_Featuring_Arnaud_Michniak/download\">Download</a></td> \n    </tr>    <tr> \n        <th id=\"T_9bb52536_14fb_11e9_abae_23de796ea6fflevel0_row5\" class=\"row_heading level0 row5\" >5</th> \n        <td id=\"T_9bb52536_14fb_11e9_abae_23de796ea6ffrow5_col0\" class=\"data row5 col0\" >Dollar Boyz</td> \n        <td id=\"T_9bb52536_14fb_11e9_abae_23de796ea6ffrow5_col1\" class=\"data row5 col1\" >Soul Survivor</td> \n        <td id=\"T_9bb52536_14fb_11e9_abae_23de796ea6ffrow5_col2\" class=\"data row5 col2\" ><a target=\"_blank\" href=\"http://freemusicarchive.org/music/Dollar_Boyz/Welcome_To_Chi-Raq/Dollar_Boyz_CD_Track_17_Welcome_To_Chiraq\">Open</a>&nbsp;&nbsp;&nbsp;&nbsp;&nbsp;&nbsp;&nbsp<a target=\"_blank\" href=\"http://freemusicarchive.org/music/Dollar_Boyz/Welcome_To_Chi-Raq/Dollar_Boyz_CD_Track_17_Welcome_To_Chiraq/download\">Download</a></td> \n    </tr>    <tr> \n        <th id=\"T_9bb52536_14fb_11e9_abae_23de796ea6fflevel0_row6\" class=\"row_heading level0 row6\" >6</th> \n        <td id=\"T_9bb52536_14fb_11e9_abae_23de796ea6ffrow6_col0\" class=\"data row6 col0\" >Kellee Maize</td> \n        <td id=\"T_9bb52536_14fb_11e9_abae_23de796ea6ffrow6_col1\" class=\"data row6 col1\" >Please Remember</td> \n        <td id=\"T_9bb52536_14fb_11e9_abae_23de796ea6ffrow6_col2\" class=\"data row6 col2\" ><a target=\"_blank\" href=\"http://freemusicarchive.org/music/Kellee_Maize/Age_of_Feminine/Kellee_Maize_-_Age_of_Feminine_-_06_Please_Remember\">Open</a>&nbsp;&nbsp;&nbsp;&nbsp;&nbsp;&nbsp;&nbsp<a target=\"_blank\" href=\"http://freemusicarchive.org/music/Kellee_Maize/Age_of_Feminine/Kellee_Maize_-_Age_of_Feminine_-_06_Please_Remember/download\">Download</a></td> \n    </tr>    <tr> \n        <th id=\"T_9bb52536_14fb_11e9_abae_23de796ea6fflevel0_row7\" class=\"row_heading level0 row7\" >7</th> \n        <td id=\"T_9bb52536_14fb_11e9_abae_23de796ea6ffrow7_col0\" class=\"data row7 col0\" >6th Sense &amp; Mick Boogie</td> \n        <td id=\"T_9bb52536_14fb_11e9_abae_23de796ea6ffrow7_col1\" class=\"data row7 col1\" >05 A-Trak &amp; Lupe Fiasco feat. 6th Sense - Me &amp; My Sneakers.mp3</td> \n        <td id=\"T_9bb52536_14fb_11e9_abae_23de796ea6ffrow7_col2\" class=\"data row7 col2\" ><a target=\"_blank\" href=\"http://freemusicarchive.org/music/6th_Sense_amp_Mick_Boogie/Just_Do_It_A_Mixtape_Ode_To_Nike/05_A-Trak_amp_Lupe_Fiasco_feat_6th_Sense_-_Me_amp_My_Sneakersmp3\">Open</a>&nbsp;&nbsp;&nbsp;&nbsp;&nbsp;&nbsp;&nbsp<a target=\"_blank\" href=\"http://freemusicarchive.org/music/6th_Sense_amp_Mick_Boogie/Just_Do_It_A_Mixtape_Ode_To_Nike/05_A-Trak_amp_Lupe_Fiasco_feat_6th_Sense_-_Me_amp_My_Sneakersmp3/download\">Download</a></td> \n    </tr>    <tr> \n        <th id=\"T_9bb52536_14fb_11e9_abae_23de796ea6fflevel0_row8\" class=\"row_heading level0 row8\" >8</th> \n        <td id=\"T_9bb52536_14fb_11e9_abae_23de796ea6ffrow8_col0\" class=\"data row8 col0\" >C-Doc</td> \n        <td id=\"T_9bb52536_14fb_11e9_abae_23de796ea6ffrow8_col1\" class=\"data row8 col1\" >Rappers (Part 7)</td> \n        <td id=\"T_9bb52536_14fb_11e9_abae_23de796ea6ffrow8_col2\" class=\"data row8 col2\" ><a target=\"_blank\" href=\"http://freemusicarchive.org/music/C-Doc/Broken_Homes_Featuring_DJ_Def_Chad/08_-_Rappers_Part_7\">Open</a>&nbsp;&nbsp;&nbsp;&nbsp;&nbsp;&nbsp;&nbsp<a target=\"_blank\" href=\"http://freemusicarchive.org/music/C-Doc/Broken_Homes_Featuring_DJ_Def_Chad/08_-_Rappers_Part_7/download\">Download</a></td> \n    </tr>    <tr> \n        <th id=\"T_9bb52536_14fb_11e9_abae_23de796ea6fflevel0_row9\" class=\"row_heading level0 row9\" >9</th> \n        <td id=\"T_9bb52536_14fb_11e9_abae_23de796ea6ffrow9_col0\" class=\"data row9 col0\" >Cheese N Pot-C</td> \n        <td id=\"T_9bb52536_14fb_11e9_abae_23de796ea6ffrow9_col1\" class=\"data row9 col1\" >Funky Motion</td> \n        <td id=\"T_9bb52536_14fb_11e9_abae_23de796ea6ffrow9_col2\" class=\"data row9 col2\" ><a target=\"_blank\" href=\"http://freemusicarchive.org/music/Cheese_N_Pot-C/Dallas_2_Tha_Palace/09_-_Funky_Motion\">Open</a>&nbsp;&nbsp;&nbsp;&nbsp;&nbsp;&nbsp;&nbsp<a target=\"_blank\" href=\"http://freemusicarchive.org/music/Cheese_N_Pot-C/Dallas_2_Tha_Palace/09_-_Funky_Motion/download\">Download</a></td> \n    </tr></tbody> \n</table> ",
          "text/plain": "<pandas.io.formats.style.Styler at 0x7fb8c5e77828>"
         },
         "metadata": {},
         "output_type": "display_data"
        }
       ]
      }
     },
     "efb40844cd51494793ac3b6b42a90f50": {
      "model_module": "@jupyter-widgets/base",
      "model_module_version": "1.1.0",
      "model_name": "LayoutModel",
      "state": {}
     },
     "f6f1cc1a24b84cf6a411cc859a5bf26d": {
      "model_module": "@jupyter-widgets/controls",
      "model_module_version": "1.4.0",
      "model_name": "DropdownModel",
      "state": {
       "_options_labels": [
        "518D",
        "2D",
        "Heat"
       ],
       "description": "m",
       "index": 0,
       "layout": "IPY_MODEL_8f6605684a4949d3818f9cf409ccde38",
       "style": "IPY_MODEL_a61becc61921446fa8e950a42ba69afd"
      }
     }
    },
    "version_major": 2,
    "version_minor": 0
   }
  }
 },
 "nbformat": 4,
 "nbformat_minor": 2
}
