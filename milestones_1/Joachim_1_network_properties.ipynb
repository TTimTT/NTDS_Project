{
 "cells": [
  {
   "cell_type": "markdown",
   "metadata": {},
   "source": [
    "# NTDS'18 milestone 1: network collection and properties\n",
    "[Effrosyni Simou](https://lts4.epfl.ch/simou), [EPFL LTS4](https://lts4.epfl.ch)"
   ]
  },
  {
   "cell_type": "markdown",
   "metadata": {},
   "source": [
    "## Students\n",
    "\n",
    "* Team: `<your team number>`\n",
    "* Students: `<the name of all students in the team>`\n",
    "* Dataset: `<the dataset you used to complete the milestone>`"
   ]
  },
  {
   "cell_type": "markdown",
   "metadata": {},
   "source": [
    "## Rules\n",
    "\n",
    "* Milestones have to be completed by teams. No collaboration between teams is allowed.\n",
    "* Textual answers shall be short. Typically one to three sentences.\n",
    "* Code has to be clean.\n",
    "* You cannot import any other library than we imported.\n",
    "* When submitting, the notebook is executed and the results are stored. I.e., if you open the notebook again it should show numerical results and plots. We won't be able to execute your notebooks.\n",
    "* The notebook is re-executed from a blank state before submission. That is to be sure it is reproducible. You can click \"Kernel\" then \"Restart & Run All\" in Jupyter."
   ]
  },
  {
   "cell_type": "markdown",
   "metadata": {},
   "source": [
    "## Objective "
   ]
  },
  {
   "cell_type": "markdown",
   "metadata": {},
   "source": [
    "The purpose of this milestone is to start getting acquainted to the network that you will use for this class. In the first part of the milestone you will import your data using [Pandas](http://pandas.pydata.org) and you will create the adjacency matrix using [Numpy](http://www.numpy.org). This part is project specific. In the second part you will have to compute some basic properties of your network. **For the computation of the properties you are only allowed to use the packages that have been imported in the cell below.** You are not allowed to use any graph-specific toolboxes for this milestone (such as networkx and PyGSP). Furthermore, the aim is not to blindly compute the network properties, but to also start to think about what kind of network you will be working with this semester. "
   ]
  },
  {
   "cell_type": "code",
   "execution_count": 2,
   "metadata": {},
   "outputs": [],
   "source": [
    "%matplotlib inline\n",
    "import numpy as np\n",
    "import pandas as pd\n",
    "import matplotlib.pyplot as plt\n",
    "import IPython.display as ipd\n",
    "from scipy.spatial.distance import pdist, squareform\n",
    "from matplotlib import pyplot as plt\n",
    "import networkx as nx"
   ]
  },
  {
   "cell_type": "markdown",
   "metadata": {},
   "source": [
    "## Part 1 - Import your data and manipulate them. "
   ]
  },
  {
   "cell_type": "markdown",
   "metadata": {},
   "source": [
    "###  A. Load your data in a Panda dataframe."
   ]
  },
  {
   "cell_type": "markdown",
   "metadata": {},
   "source": [
    "First, you should define and understand what are your nodes, what features you have and what are your labels. Please provide below a Panda dataframe where each row corresponds to a node with its features and labels. For example, in the the case of the Free Music Archive (FMA) Project, each row of the dataframe would be of the following form:\n",
    "\n",
    "\n",
    "| Track   |  Feature 1  | Feature 2 | . . . | Feature 518|  Label 1 |  Label 2 |. . .|Label 16|\n",
    "|:-------:|:-----------:|:---------:|:-----:|:----------:|:--------:|:--------:|:---:|:------:|\n",
    "|         |             |           |       |            |          |          |     |        |\n",
    "\n",
    "It is possible that in some of the projects either the features or the labels are not available. This is OK, in that case just make sure that you create a dataframe where each of the rows corresponds to a node and its associated features or labels."
   ]
  },
  {
   "cell_type": "code",
   "execution_count": 254,
   "metadata": {
    "scrolled": true
   },
   "outputs": [],
   "source": [
    "# Your code here.\n",
    "tracks = pd.read_csv('../data/fma_metadata/tracks.csv',sep=',',header=[0,1,2],encoding='utf-8', engine='python');\n",
    "features= pd.read_csv('../data/fma_metadata/features.csv',sep=',',header=[1,2,3],encoding='utf-8', engine='python');\n",
    "genres=pd.read_csv('../data/fma_metadata/genres.csv',sep=',', encoding='utf-8', engine='python');\n",
    "#echonest=pd.read_csv('../data/fma_metadata/echonest.csv',sep=',', encoding='utf-8', engine='python');"
   ]
  },
  {
   "cell_type": "code",
   "execution_count": 10,
   "metadata": {
    "scrolled": true
   },
   "outputs": [],
   "source": [
    "# # remove unnamed headers pas une bonne idee enfaite a cause de la facon dont le header est fait\n",
    "# for i, columns in enumerate(features.columns.levels):\n",
    "#     columns_new = columns.tolist()\n",
    "#     for j, row in enumerate(columns_new):\n",
    "#         if \"Unnamed: \" in row:\n",
    "#             columns_new[j] = \"\"\n",
    "#     else:\n",
    "#         features_clean = features.rename(columns=dict(zip(columns.tolist(), columns_new)),\n",
    "#                        level=i)\n",
    "        \n",
    "# for i, columns in enumerate(tracks.columns.levels):\n",
    "#     columns_new = columns.tolist()\n",
    "#     for j, row in enumerate(columns_new):\n",
    "#         if \"Unnamed: \" in row:\n",
    "#             columns_new[j] = \"\"\n",
    "#     else:\n",
    "#         tracks_clean = tracks.rename(columns=dict(zip(columns.tolist(), columns_new)),\n",
    "#                        level=i)\n"
   ]
  },
  {
   "cell_type": "code",
   "execution_count": 293,
   "metadata": {},
   "outputs": [],
   "source": [
    "#Add the genre of each track after the features\n",
    "# label=pd.DataFrame({('genre','',''): tracks_clean['track']['genre_top']})\n",
    "label=pd.DataFrame(tracks['track']['genre_top'])\n",
    "label.columns=pd.MultiIndex.from_product([['genre'],[''],['']])\n",
    "subset=pd.DataFrame(tracks['set','subset','Unnamed: 32_level_2'])\n",
    "subset.columns=pd.MultiIndex.from_product([['subset'],[''],['']])\n",
    "dataSet = pd.concat([features,label,subset],axis=1, sort=False)\n"
   ]
  },
  {
   "cell_type": "code",
   "execution_count": 298,
   "metadata": {},
   "outputs": [
    {
     "data": {
      "text/html": [
       "<div>\n",
       "<style scoped>\n",
       "    .dataframe tbody tr th:only-of-type {\n",
       "        vertical-align: middle;\n",
       "    }\n",
       "\n",
       "    .dataframe tbody tr th {\n",
       "        vertical-align: top;\n",
       "    }\n",
       "\n",
       "    .dataframe thead tr th {\n",
       "        text-align: left;\n",
       "    }\n",
       "</style>\n",
       "<table border=\"1\" class=\"dataframe\">\n",
       "  <thead>\n",
       "    <tr>\n",
       "      <th></th>\n",
       "      <th>statistics</th>\n",
       "      <th colspan=\"9\" halign=\"left\">kurtosis</th>\n",
       "      <th>...</th>\n",
       "      <th>std</th>\n",
       "      <th>kurtosis</th>\n",
       "      <th>max</th>\n",
       "      <th>mean</th>\n",
       "      <th>median</th>\n",
       "      <th>min</th>\n",
       "      <th>skew</th>\n",
       "      <th>std</th>\n",
       "      <th>genre</th>\n",
       "      <th>subset</th>\n",
       "    </tr>\n",
       "    <tr>\n",
       "      <th></th>\n",
       "      <th>number</th>\n",
       "      <th>01</th>\n",
       "      <th>02</th>\n",
       "      <th>03</th>\n",
       "      <th>04</th>\n",
       "      <th>05</th>\n",
       "      <th>06</th>\n",
       "      <th>07</th>\n",
       "      <th>08</th>\n",
       "      <th>09</th>\n",
       "      <th>...</th>\n",
       "      <th>06</th>\n",
       "      <th>01</th>\n",
       "      <th>01</th>\n",
       "      <th>01</th>\n",
       "      <th>01</th>\n",
       "      <th>01</th>\n",
       "      <th>01</th>\n",
       "      <th>01</th>\n",
       "      <th></th>\n",
       "      <th></th>\n",
       "    </tr>\n",
       "    <tr>\n",
       "      <th></th>\n",
       "      <th>track_id</th>\n",
       "      <th>Unnamed: 1_level_2</th>\n",
       "      <th>Unnamed: 2_level_2</th>\n",
       "      <th>Unnamed: 3_level_2</th>\n",
       "      <th>Unnamed: 4_level_2</th>\n",
       "      <th>Unnamed: 5_level_2</th>\n",
       "      <th>Unnamed: 6_level_2</th>\n",
       "      <th>Unnamed: 7_level_2</th>\n",
       "      <th>Unnamed: 8_level_2</th>\n",
       "      <th>Unnamed: 9_level_2</th>\n",
       "      <th>...</th>\n",
       "      <th>Unnamed: 511_level_2</th>\n",
       "      <th>Unnamed: 512_level_2</th>\n",
       "      <th>Unnamed: 513_level_2</th>\n",
       "      <th>Unnamed: 514_level_2</th>\n",
       "      <th>Unnamed: 515_level_2</th>\n",
       "      <th>Unnamed: 516_level_2</th>\n",
       "      <th>Unnamed: 517_level_2</th>\n",
       "      <th>Unnamed: 518_level_2</th>\n",
       "      <th></th>\n",
       "      <th></th>\n",
       "    </tr>\n",
       "  </thead>\n",
       "  <tbody>\n",
       "    <tr>\n",
       "      <th>0</th>\n",
       "      <td>2</td>\n",
       "      <td>7.180653</td>\n",
       "      <td>5.230309</td>\n",
       "      <td>0.249321</td>\n",
       "      <td>1.347620</td>\n",
       "      <td>1.482478</td>\n",
       "      <td>0.531371</td>\n",
       "      <td>1.481593</td>\n",
       "      <td>2.691455</td>\n",
       "      <td>0.866868</td>\n",
       "      <td>...</td>\n",
       "      <td>0.012111</td>\n",
       "      <td>5.758890</td>\n",
       "      <td>0.459473</td>\n",
       "      <td>0.085629</td>\n",
       "      <td>0.071289</td>\n",
       "      <td>0.000000</td>\n",
       "      <td>2.089872</td>\n",
       "      <td>0.061448</td>\n",
       "      <td>Hip-Hop</td>\n",
       "      <td>small</td>\n",
       "    </tr>\n",
       "    <tr>\n",
       "      <th>1</th>\n",
       "      <td>3</td>\n",
       "      <td>1.888963</td>\n",
       "      <td>0.760539</td>\n",
       "      <td>0.345297</td>\n",
       "      <td>2.295201</td>\n",
       "      <td>1.654031</td>\n",
       "      <td>0.067592</td>\n",
       "      <td>1.366848</td>\n",
       "      <td>1.054094</td>\n",
       "      <td>0.108103</td>\n",
       "      <td>...</td>\n",
       "      <td>0.017740</td>\n",
       "      <td>2.824694</td>\n",
       "      <td>0.466309</td>\n",
       "      <td>0.084578</td>\n",
       "      <td>0.063965</td>\n",
       "      <td>0.000000</td>\n",
       "      <td>1.716724</td>\n",
       "      <td>0.069330</td>\n",
       "      <td>Hip-Hop</td>\n",
       "      <td>medium</td>\n",
       "    </tr>\n",
       "    <tr>\n",
       "      <th>2</th>\n",
       "      <td>5</td>\n",
       "      <td>0.527563</td>\n",
       "      <td>-0.077654</td>\n",
       "      <td>-0.279610</td>\n",
       "      <td>0.685883</td>\n",
       "      <td>1.937570</td>\n",
       "      <td>0.880839</td>\n",
       "      <td>-0.923192</td>\n",
       "      <td>-0.927232</td>\n",
       "      <td>0.666617</td>\n",
       "      <td>...</td>\n",
       "      <td>0.014759</td>\n",
       "      <td>6.808415</td>\n",
       "      <td>0.375000</td>\n",
       "      <td>0.053114</td>\n",
       "      <td>0.041504</td>\n",
       "      <td>0.000000</td>\n",
       "      <td>2.193303</td>\n",
       "      <td>0.044861</td>\n",
       "      <td>Hip-Hop</td>\n",
       "      <td>small</td>\n",
       "    </tr>\n",
       "    <tr>\n",
       "      <th>3</th>\n",
       "      <td>10</td>\n",
       "      <td>3.702245</td>\n",
       "      <td>-0.291193</td>\n",
       "      <td>2.196742</td>\n",
       "      <td>-0.234449</td>\n",
       "      <td>1.367364</td>\n",
       "      <td>0.998411</td>\n",
       "      <td>1.770694</td>\n",
       "      <td>1.604566</td>\n",
       "      <td>0.521217</td>\n",
       "      <td>...</td>\n",
       "      <td>0.013921</td>\n",
       "      <td>21.434212</td>\n",
       "      <td>0.452148</td>\n",
       "      <td>0.077515</td>\n",
       "      <td>0.071777</td>\n",
       "      <td>0.000000</td>\n",
       "      <td>3.542325</td>\n",
       "      <td>0.040800</td>\n",
       "      <td>Pop</td>\n",
       "      <td>small</td>\n",
       "    </tr>\n",
       "    <tr>\n",
       "      <th>4</th>\n",
       "      <td>20</td>\n",
       "      <td>-0.193837</td>\n",
       "      <td>-0.198527</td>\n",
       "      <td>0.201546</td>\n",
       "      <td>0.258556</td>\n",
       "      <td>0.775204</td>\n",
       "      <td>0.084794</td>\n",
       "      <td>-0.289294</td>\n",
       "      <td>-0.816410</td>\n",
       "      <td>0.043851</td>\n",
       "      <td>...</td>\n",
       "      <td>0.021355</td>\n",
       "      <td>16.669037</td>\n",
       "      <td>0.469727</td>\n",
       "      <td>0.047225</td>\n",
       "      <td>0.040039</td>\n",
       "      <td>0.000977</td>\n",
       "      <td>3.189831</td>\n",
       "      <td>0.030993</td>\n",
       "      <td>NaN</td>\n",
       "      <td>large</td>\n",
       "    </tr>\n",
       "    <tr>\n",
       "      <th>5</th>\n",
       "      <td>26</td>\n",
       "      <td>-0.699535</td>\n",
       "      <td>-0.684158</td>\n",
       "      <td>0.048825</td>\n",
       "      <td>0.042659</td>\n",
       "      <td>-0.818967</td>\n",
       "      <td>-0.917123</td>\n",
       "      <td>-0.901834</td>\n",
       "      <td>-0.066845</td>\n",
       "      <td>-0.291037</td>\n",
       "      <td>...</td>\n",
       "      <td>0.023846</td>\n",
       "      <td>41.645809</td>\n",
       "      <td>0.250488</td>\n",
       "      <td>0.018388</td>\n",
       "      <td>0.015625</td>\n",
       "      <td>0.000000</td>\n",
       "      <td>4.690596</td>\n",
       "      <td>0.014598</td>\n",
       "      <td>NaN</td>\n",
       "      <td>large</td>\n",
       "    </tr>\n",
       "    <tr>\n",
       "      <th>6</th>\n",
       "      <td>30</td>\n",
       "      <td>-0.721487</td>\n",
       "      <td>-0.848560</td>\n",
       "      <td>0.890904</td>\n",
       "      <td>0.088620</td>\n",
       "      <td>-0.445513</td>\n",
       "      <td>-1.271170</td>\n",
       "      <td>-1.240190</td>\n",
       "      <td>-1.343765</td>\n",
       "      <td>-0.905600</td>\n",
       "      <td>...</td>\n",
       "      <td>0.025418</td>\n",
       "      <td>8.166595</td>\n",
       "      <td>0.546875</td>\n",
       "      <td>0.054417</td>\n",
       "      <td>0.036133</td>\n",
       "      <td>0.002441</td>\n",
       "      <td>2.244708</td>\n",
       "      <td>0.052674</td>\n",
       "      <td>NaN</td>\n",
       "      <td>large</td>\n",
       "    </tr>\n",
       "    <tr>\n",
       "      <th>7</th>\n",
       "      <td>46</td>\n",
       "      <td>-0.119708</td>\n",
       "      <td>-0.858814</td>\n",
       "      <td>2.362546</td>\n",
       "      <td>0.106584</td>\n",
       "      <td>-1.315912</td>\n",
       "      <td>-1.220354</td>\n",
       "      <td>-1.668162</td>\n",
       "      <td>-0.516033</td>\n",
       "      <td>-0.536395</td>\n",
       "      <td>...</td>\n",
       "      <td>0.021310</td>\n",
       "      <td>14.731083</td>\n",
       "      <td>0.223633</td>\n",
       "      <td>0.036601</td>\n",
       "      <td>0.032227</td>\n",
       "      <td>0.000000</td>\n",
       "      <td>2.848736</td>\n",
       "      <td>0.020713</td>\n",
       "      <td>NaN</td>\n",
       "      <td>large</td>\n",
       "    </tr>\n",
       "    <tr>\n",
       "      <th>8</th>\n",
       "      <td>48</td>\n",
       "      <td>-1.054053</td>\n",
       "      <td>0.932339</td>\n",
       "      <td>0.528064</td>\n",
       "      <td>-1.035338</td>\n",
       "      <td>-1.000682</td>\n",
       "      <td>-1.119304</td>\n",
       "      <td>1.166990</td>\n",
       "      <td>-1.002603</td>\n",
       "      <td>-1.094999</td>\n",
       "      <td>...</td>\n",
       "      <td>0.025203</td>\n",
       "      <td>24.550789</td>\n",
       "      <td>0.371582</td>\n",
       "      <td>0.033015</td>\n",
       "      <td>0.022461</td>\n",
       "      <td>0.000000</td>\n",
       "      <td>4.406733</td>\n",
       "      <td>0.039016</td>\n",
       "      <td>NaN</td>\n",
       "      <td>large</td>\n",
       "    </tr>\n",
       "    <tr>\n",
       "      <th>9</th>\n",
       "      <td>134</td>\n",
       "      <td>0.918445</td>\n",
       "      <td>0.674147</td>\n",
       "      <td>0.577818</td>\n",
       "      <td>1.281117</td>\n",
       "      <td>0.933746</td>\n",
       "      <td>0.078177</td>\n",
       "      <td>1.199204</td>\n",
       "      <td>-0.175223</td>\n",
       "      <td>0.925482</td>\n",
       "      <td>...</td>\n",
       "      <td>0.015819</td>\n",
       "      <td>4.731087</td>\n",
       "      <td>0.419434</td>\n",
       "      <td>0.064370</td>\n",
       "      <td>0.050781</td>\n",
       "      <td>0.000000</td>\n",
       "      <td>1.806106</td>\n",
       "      <td>0.054623</td>\n",
       "      <td>Hip-Hop</td>\n",
       "      <td>medium</td>\n",
       "    </tr>\n",
       "  </tbody>\n",
       "</table>\n",
       "<p>10 rows × 521 columns</p>\n",
       "</div>"
      ],
      "text/plain": [
       "  statistics           kurtosis                                        \\\n",
       "      number                 01                 02                 03   \n",
       "    track_id Unnamed: 1_level_2 Unnamed: 2_level_2 Unnamed: 3_level_2   \n",
       "0          2           7.180653           5.230309           0.249321   \n",
       "1          3           1.888963           0.760539           0.345297   \n",
       "2          5           0.527563          -0.077654          -0.279610   \n",
       "3         10           3.702245          -0.291193           2.196742   \n",
       "4         20          -0.193837          -0.198527           0.201546   \n",
       "5         26          -0.699535          -0.684158           0.048825   \n",
       "6         30          -0.721487          -0.848560           0.890904   \n",
       "7         46          -0.119708          -0.858814           2.362546   \n",
       "8         48          -1.054053           0.932339           0.528064   \n",
       "9        134           0.918445           0.674147           0.577818   \n",
       "\n",
       "                                                                               \\\n",
       "                  04                 05                 06                 07   \n",
       "  Unnamed: 4_level_2 Unnamed: 5_level_2 Unnamed: 6_level_2 Unnamed: 7_level_2   \n",
       "0           1.347620           1.482478           0.531371           1.481593   \n",
       "1           2.295201           1.654031           0.067592           1.366848   \n",
       "2           0.685883           1.937570           0.880839          -0.923192   \n",
       "3          -0.234449           1.367364           0.998411           1.770694   \n",
       "4           0.258556           0.775204           0.084794          -0.289294   \n",
       "5           0.042659          -0.818967          -0.917123          -0.901834   \n",
       "6           0.088620          -0.445513          -1.271170          -1.240190   \n",
       "7           0.106584          -1.315912          -1.220354          -1.668162   \n",
       "8          -1.035338          -1.000682          -1.119304           1.166990   \n",
       "9           1.281117           0.933746           0.078177           1.199204   \n",
       "\n",
       "                                          ...                    std  \\\n",
       "                  08                 09   ...                     06   \n",
       "  Unnamed: 8_level_2 Unnamed: 9_level_2   ...   Unnamed: 511_level_2   \n",
       "0           2.691455           0.866868   ...               0.012111   \n",
       "1           1.054094           0.108103   ...               0.017740   \n",
       "2          -0.927232           0.666617   ...               0.014759   \n",
       "3           1.604566           0.521217   ...               0.013921   \n",
       "4          -0.816410           0.043851   ...               0.021355   \n",
       "5          -0.066845          -0.291037   ...               0.023846   \n",
       "6          -1.343765          -0.905600   ...               0.025418   \n",
       "7          -0.516033          -0.536395   ...               0.021310   \n",
       "8          -1.002603          -1.094999   ...               0.025203   \n",
       "9          -0.175223           0.925482   ...               0.015819   \n",
       "\n",
       "              kurtosis                  max                 mean  \\\n",
       "                    01                   01                   01   \n",
       "  Unnamed: 512_level_2 Unnamed: 513_level_2 Unnamed: 514_level_2   \n",
       "0             5.758890             0.459473             0.085629   \n",
       "1             2.824694             0.466309             0.084578   \n",
       "2             6.808415             0.375000             0.053114   \n",
       "3            21.434212             0.452148             0.077515   \n",
       "4            16.669037             0.469727             0.047225   \n",
       "5            41.645809             0.250488             0.018388   \n",
       "6             8.166595             0.546875             0.054417   \n",
       "7            14.731083             0.223633             0.036601   \n",
       "8            24.550789             0.371582             0.033015   \n",
       "9             4.731087             0.419434             0.064370   \n",
       "\n",
       "                median                  min                 skew  \\\n",
       "                    01                   01                   01   \n",
       "  Unnamed: 515_level_2 Unnamed: 516_level_2 Unnamed: 517_level_2   \n",
       "0             0.071289             0.000000             2.089872   \n",
       "1             0.063965             0.000000             1.716724   \n",
       "2             0.041504             0.000000             2.193303   \n",
       "3             0.071777             0.000000             3.542325   \n",
       "4             0.040039             0.000977             3.189831   \n",
       "5             0.015625             0.000000             4.690596   \n",
       "6             0.036133             0.002441             2.244708   \n",
       "7             0.032227             0.000000             2.848736   \n",
       "8             0.022461             0.000000             4.406733   \n",
       "9             0.050781             0.000000             1.806106   \n",
       "\n",
       "                   std    genre  subset  \n",
       "                    01                   \n",
       "  Unnamed: 518_level_2                   \n",
       "0             0.061448  Hip-Hop   small  \n",
       "1             0.069330  Hip-Hop  medium  \n",
       "2             0.044861  Hip-Hop   small  \n",
       "3             0.040800      Pop   small  \n",
       "4             0.030993      NaN   large  \n",
       "5             0.014598      NaN   large  \n",
       "6             0.052674      NaN   large  \n",
       "7             0.020713      NaN   large  \n",
       "8             0.039016      NaN   large  \n",
       "9             0.054623  Hip-Hop  medium  \n",
       "\n",
       "[10 rows x 521 columns]"
      ]
     },
     "execution_count": 298,
     "metadata": {},
     "output_type": "execute_result"
    }
   ],
   "source": [
    "# data set in right form\n",
    "dataSet.head(10)"
   ]
  },
  {
   "cell_type": "code",
   "execution_count": 316,
   "metadata": {},
   "outputs": [
    {
     "data": {
      "text/plain": [
       "(2000, 520)"
      ]
     },
     "execution_count": 316,
     "metadata": {},
     "output_type": "execute_result"
    }
   ],
   "source": [
    "# dataSetSmall only contains rock and hip hop tracks\n",
    "dataSetSmall=dataSet[dataSet['genre'].isin(['Rock', 'Hip-Hop'])]\n",
    "dataSetSmall=dataSetSmall[dataSetSmall['subset'].isin(['small'])]\n",
    "dataSetSmall=dataSetSmall.drop('subset',axis=1,level=0)\n",
    "dataSetSmall.shape"
   ]
  },
  {
   "cell_type": "code",
   "execution_count": 317,
   "metadata": {},
   "outputs": [],
   "source": [
    "#save the Small dataset\n",
    "dataSetSmall.to_csv('../data/fma_metadata/dataSetSmall.csv',encoding='utf-8', index=False)"
   ]
  },
  {
   "cell_type": "markdown",
   "metadata": {},
   "source": [
    "### B. Create the adjacency matrix of your network."
   ]
  },
  {
   "cell_type": "markdown",
   "metadata": {},
   "source": [
    "Remember that there are edges connecting the attributed nodes that you organized in the dataframe above. The connectivity of the network is captured by the adjacency matrix $W$. If $N$ is the number of nodes, the adjacency matrix is an $N \\times N$ matrix where the value of $W(i,j)$ is the weight of the edge connecting node $i$ to node $j$.  \n",
    "\n",
    "There are two possible scenarios for your adjacency matrix construction, as you already learned in the tutorial by Benjamin:\n",
    "\n",
    "1) The edges are given to you explicitly. In this case you should simply load the file containing the edge information and parse it in order to create your adjacency matrix. See how to do that in the  [graph from edge list]() demo.\n",
    "\n",
    "2) The edges are not given to you. In that case you will have to create a feature graph. In order to do that you will have to chose a distance that will quantify how similar two nodes are based on the values in their corresponding feature vectors. In the [graph from features]() demo Benjamin showed you how to build feature graphs when using Euclidean distances between feature vectors. Be curious and explore other distances as well! For instance, in the case of high-dimensional feature vectors, you might want to consider using the cosine distance. Once you compute the distances between your nodes you will have a fully connected network. Do not forget to sparsify by keeping the most important edges in your network.\n",
    "\n",
    "Follow the appropriate steps for the construction of the adjacency matrix of your network and provide it in the Numpy array ``adjacency`` below: "
   ]
  },
  {
   "cell_type": "code",
   "execution_count": 320,
   "metadata": {},
   "outputs": [],
   "source": [
    "\n",
    "dataSetSmall= pd.read_csv('../data/fma_metadata/dataSetSmall.csv',sep=',',header=[0,1,2],encoding='utf-8', engine='python');\n"
   ]
  },
  {
   "cell_type": "code",
   "execution_count": 321,
   "metadata": {},
   "outputs": [],
   "source": [
    "#subsample one more time\n",
    "# dataSetSmall=dataSetSmall.sample(10)"
   ]
  },
  {
   "cell_type": "code",
   "execution_count": 357,
   "metadata": {},
   "outputs": [],
   "source": [
    "distances = pdist(dataSetSmall.drop('genre',axis=1,level=0).values, metric='euclidean')"
   ]
  },
  {
   "cell_type": "code",
   "execution_count": 358,
   "metadata": {},
   "outputs": [],
   "source": [
    "kernel_width = distances.mean()\n",
    "weights = np.exp(-distances**2 / kernel_width**2)\n",
    "adjacency_full = squareform(weights)"
   ]
  },
  {
   "cell_type": "code",
   "execution_count": 359,
   "metadata": {
    "scrolled": true
   },
   "outputs": [
    {
     "data": {
      "image/png": "[encoded data removed]",
      "text/plain": [
       "<Figure size 432x288 with 1 Axes>"
      ]
     },
     "metadata": {},
     "output_type": "display_data"
    }
   ],
   "source": [
    "plt.hist(weights)\n",
    "plt.title('Distribution of weights')\n",
    "plt.show()"
   ]
  },
  {
   "cell_type": "code",
   "execution_count": 360,
   "metadata": {},
   "outputs": [],
   "source": [
    "adjacency=adjacency_full\n",
    "adjacency[adjacency < 0.8] = 0"
   ]
  },
  {
   "cell_type": "code",
   "execution_count": 361,
   "metadata": {},
   "outputs": [],
   "source": [
    "n_nodes = dataSetSmall.shape[0]"
   ]
  },
  {
   "cell_type": "markdown",
   "metadata": {},
   "source": [
    "## Part 2"
   ]
  },
  {
   "cell_type": "markdown",
   "metadata": {},
   "source": [
    "Execute the cell below to plot the (weighted) adjacency matrix of your network."
   ]
  },
  {
   "cell_type": "code",
   "execution_count": 362,
   "metadata": {},
   "outputs": [
    {
     "data": {
      "text/plain": [
       "Text(0.5, 1.05, 'adjacency matrix')"
      ]
     },
     "execution_count": 362,
     "metadata": {},
     "output_type": "execute_result"
    },
    {
     "data": {
      "image/png": "[encoded data removed]",
      "text/plain": [
       "<Figure size 432x288 with 1 Axes>"
      ]
     },
     "metadata": {},
     "output_type": "display_data"
    }
   ],
   "source": [
    "plt.spy(adjacency, markersize=1)\n",
    "plt.title('adjacency matrix')"
   ]
  },
  {
   "cell_type": "code",
   "execution_count": 363,
   "metadata": {},
   "outputs": [
    {
     "data": {
      "text/plain": [
       "'Rock'"
      ]
     },
     "execution_count": 363,
     "metadata": {},
     "output_type": "execute_result"
    }
   ],
   "source": [
    "dataSetSmall.loc[dataSetSmall.index[3],('genre','Unnamed: 519_level_1','Unnamed: 519_level_2')]"
   ]
  },
  {
   "cell_type": "code",
   "execution_count": 364,
   "metadata": {},
   "outputs": [
    {
     "data": {
      "text/html": [
       "<div>\n",
       "<style scoped>\n",
       "    .dataframe tbody tr th:only-of-type {\n",
       "        vertical-align: middle;\n",
       "    }\n",
       "\n",
       "    .dataframe tbody tr th {\n",
       "        vertical-align: top;\n",
       "    }\n",
       "\n",
       "    .dataframe thead tr th {\n",
       "        text-align: left;\n",
       "    }\n",
       "</style>\n",
       "<table border=\"1\" class=\"dataframe\">\n",
       "  <thead>\n",
       "    <tr>\n",
       "      <th></th>\n",
       "      <th>statistics</th>\n",
       "      <th colspan=\"9\" halign=\"left\">kurtosis</th>\n",
       "      <th>...</th>\n",
       "      <th colspan=\"2\" halign=\"left\">std</th>\n",
       "      <th>kurtosis</th>\n",
       "      <th>max</th>\n",
       "      <th>mean</th>\n",
       "      <th>median</th>\n",
       "      <th>min</th>\n",
       "      <th>skew</th>\n",
       "      <th>std</th>\n",
       "      <th>genre</th>\n",
       "    </tr>\n",
       "    <tr>\n",
       "      <th></th>\n",
       "      <th>number</th>\n",
       "      <th>01</th>\n",
       "      <th>02</th>\n",
       "      <th>03</th>\n",
       "      <th>04</th>\n",
       "      <th>05</th>\n",
       "      <th>06</th>\n",
       "      <th>07</th>\n",
       "      <th>08</th>\n",
       "      <th>09</th>\n",
       "      <th>...</th>\n",
       "      <th>05</th>\n",
       "      <th>06</th>\n",
       "      <th>01</th>\n",
       "      <th>01</th>\n",
       "      <th>01</th>\n",
       "      <th>01</th>\n",
       "      <th>01</th>\n",
       "      <th>01</th>\n",
       "      <th>01</th>\n",
       "      <th>Unnamed: 519_level_1</th>\n",
       "    </tr>\n",
       "    <tr>\n",
       "      <th></th>\n",
       "      <th>track_id</th>\n",
       "      <th>Unnamed: 1_level_2</th>\n",
       "      <th>Unnamed: 2_level_2</th>\n",
       "      <th>Unnamed: 3_level_2</th>\n",
       "      <th>Unnamed: 4_level_2</th>\n",
       "      <th>Unnamed: 5_level_2</th>\n",
       "      <th>Unnamed: 6_level_2</th>\n",
       "      <th>Unnamed: 7_level_2</th>\n",
       "      <th>Unnamed: 8_level_2</th>\n",
       "      <th>Unnamed: 9_level_2</th>\n",
       "      <th>...</th>\n",
       "      <th>Unnamed: 510_level_2</th>\n",
       "      <th>Unnamed: 511_level_2</th>\n",
       "      <th>Unnamed: 512_level_2</th>\n",
       "      <th>Unnamed: 513_level_2</th>\n",
       "      <th>Unnamed: 514_level_2</th>\n",
       "      <th>Unnamed: 515_level_2</th>\n",
       "      <th>Unnamed: 516_level_2</th>\n",
       "      <th>Unnamed: 517_level_2</th>\n",
       "      <th>Unnamed: 518_level_2</th>\n",
       "      <th>Unnamed: 519_level_2</th>\n",
       "    </tr>\n",
       "  </thead>\n",
       "  <tbody>\n",
       "    <tr>\n",
       "      <th>0</th>\n",
       "      <td>2</td>\n",
       "      <td>7.180653</td>\n",
       "      <td>5.230309</td>\n",
       "      <td>0.249321</td>\n",
       "      <td>1.347620</td>\n",
       "      <td>1.482478</td>\n",
       "      <td>0.531371</td>\n",
       "      <td>1.481593</td>\n",
       "      <td>2.691455</td>\n",
       "      <td>0.866868</td>\n",
       "      <td>...</td>\n",
       "      <td>0.012226</td>\n",
       "      <td>0.012111</td>\n",
       "      <td>5.758890</td>\n",
       "      <td>0.459473</td>\n",
       "      <td>0.085629</td>\n",
       "      <td>0.071289</td>\n",
       "      <td>0.000000</td>\n",
       "      <td>2.089872</td>\n",
       "      <td>0.061448</td>\n",
       "      <td>Hip-Hop</td>\n",
       "    </tr>\n",
       "    <tr>\n",
       "      <th>1</th>\n",
       "      <td>5</td>\n",
       "      <td>0.527563</td>\n",
       "      <td>-0.077654</td>\n",
       "      <td>-0.279610</td>\n",
       "      <td>0.685883</td>\n",
       "      <td>1.937570</td>\n",
       "      <td>0.880839</td>\n",
       "      <td>-0.923192</td>\n",
       "      <td>-0.927232</td>\n",
       "      <td>0.666617</td>\n",
       "      <td>...</td>\n",
       "      <td>0.012691</td>\n",
       "      <td>0.014759</td>\n",
       "      <td>6.808415</td>\n",
       "      <td>0.375000</td>\n",
       "      <td>0.053114</td>\n",
       "      <td>0.041504</td>\n",
       "      <td>0.000000</td>\n",
       "      <td>2.193303</td>\n",
       "      <td>0.044861</td>\n",
       "      <td>Hip-Hop</td>\n",
       "    </tr>\n",
       "    <tr>\n",
       "      <th>2</th>\n",
       "      <td>182</td>\n",
       "      <td>0.300352</td>\n",
       "      <td>1.075603</td>\n",
       "      <td>-0.464930</td>\n",
       "      <td>0.145206</td>\n",
       "      <td>-0.310866</td>\n",
       "      <td>1.141097</td>\n",
       "      <td>-0.043105</td>\n",
       "      <td>-0.309056</td>\n",
       "      <td>0.285039</td>\n",
       "      <td>...</td>\n",
       "      <td>0.019089</td>\n",
       "      <td>0.017547</td>\n",
       "      <td>3.012422</td>\n",
       "      <td>0.170410</td>\n",
       "      <td>0.051366</td>\n",
       "      <td>0.048828</td>\n",
       "      <td>0.001953</td>\n",
       "      <td>1.206991</td>\n",
       "      <td>0.018802</td>\n",
       "      <td>Rock</td>\n",
       "    </tr>\n",
       "    <tr>\n",
       "      <th>3</th>\n",
       "      <td>255</td>\n",
       "      <td>0.114022</td>\n",
       "      <td>1.043898</td>\n",
       "      <td>0.171339</td>\n",
       "      <td>0.119401</td>\n",
       "      <td>0.344436</td>\n",
       "      <td>0.085586</td>\n",
       "      <td>-0.186073</td>\n",
       "      <td>-0.111144</td>\n",
       "      <td>2.049949</td>\n",
       "      <td>...</td>\n",
       "      <td>0.019122</td>\n",
       "      <td>0.019735</td>\n",
       "      <td>159.922394</td>\n",
       "      <td>0.393066</td>\n",
       "      <td>0.030046</td>\n",
       "      <td>0.028809</td>\n",
       "      <td>0.000000</td>\n",
       "      <td>9.999014</td>\n",
       "      <td>0.019924</td>\n",
       "      <td>Rock</td>\n",
       "    </tr>\n",
       "    <tr>\n",
       "      <th>4</th>\n",
       "      <td>256</td>\n",
       "      <td>0.045324</td>\n",
       "      <td>5.285462</td>\n",
       "      <td>-0.347695</td>\n",
       "      <td>-0.216278</td>\n",
       "      <td>-0.554277</td>\n",
       "      <td>-0.322547</td>\n",
       "      <td>0.762742</td>\n",
       "      <td>-0.093258</td>\n",
       "      <td>0.071761</td>\n",
       "      <td>...</td>\n",
       "      <td>0.014911</td>\n",
       "      <td>0.013974</td>\n",
       "      <td>25.550678</td>\n",
       "      <td>0.512207</td>\n",
       "      <td>0.062829</td>\n",
       "      <td>0.061523</td>\n",
       "      <td>0.001953</td>\n",
       "      <td>2.491195</td>\n",
       "      <td>0.028255</td>\n",
       "      <td>Rock</td>\n",
       "    </tr>\n",
       "  </tbody>\n",
       "</table>\n",
       "<p>5 rows × 520 columns</p>\n",
       "</div>"
      ],
      "text/plain": [
       "  statistics           kurtosis                                        \\\n",
       "      number                 01                 02                 03   \n",
       "    track_id Unnamed: 1_level_2 Unnamed: 2_level_2 Unnamed: 3_level_2   \n",
       "0          2           7.180653           5.230309           0.249321   \n",
       "1          5           0.527563          -0.077654          -0.279610   \n",
       "2        182           0.300352           1.075603          -0.464930   \n",
       "3        255           0.114022           1.043898           0.171339   \n",
       "4        256           0.045324           5.285462          -0.347695   \n",
       "\n",
       "                                                                               \\\n",
       "                  04                 05                 06                 07   \n",
       "  Unnamed: 4_level_2 Unnamed: 5_level_2 Unnamed: 6_level_2 Unnamed: 7_level_2   \n",
       "0           1.347620           1.482478           0.531371           1.481593   \n",
       "1           0.685883           1.937570           0.880839          -0.923192   \n",
       "2           0.145206          -0.310866           1.141097          -0.043105   \n",
       "3           0.119401           0.344436           0.085586          -0.186073   \n",
       "4          -0.216278          -0.554277          -0.322547           0.762742   \n",
       "\n",
       "                                                ...           \\\n",
       "                  08                 09         ...            \n",
       "  Unnamed: 8_level_2 Unnamed: 9_level_2         ...            \n",
       "0           2.691455           0.866868         ...            \n",
       "1          -0.927232           0.666617         ...            \n",
       "2          -0.309056           0.285039         ...            \n",
       "3          -0.111144           2.049949         ...            \n",
       "4          -0.093258           0.071761         ...            \n",
       "\n",
       "                   std                                  kurtosis  \\\n",
       "                    05                   06                   01   \n",
       "  Unnamed: 510_level_2 Unnamed: 511_level_2 Unnamed: 512_level_2   \n",
       "0             0.012226             0.012111             5.758890   \n",
       "1             0.012691             0.014759             6.808415   \n",
       "2             0.019089             0.017547             3.012422   \n",
       "3             0.019122             0.019735           159.922394   \n",
       "4             0.014911             0.013974            25.550678   \n",
       "\n",
       "                   max                 mean               median  \\\n",
       "                    01                   01                   01   \n",
       "  Unnamed: 513_level_2 Unnamed: 514_level_2 Unnamed: 515_level_2   \n",
       "0             0.459473             0.085629             0.071289   \n",
       "1             0.375000             0.053114             0.041504   \n",
       "2             0.170410             0.051366             0.048828   \n",
       "3             0.393066             0.030046             0.028809   \n",
       "4             0.512207             0.062829             0.061523   \n",
       "\n",
       "                   min                 skew                  std  \\\n",
       "                    01                   01                   01   \n",
       "  Unnamed: 516_level_2 Unnamed: 517_level_2 Unnamed: 518_level_2   \n",
       "0             0.000000             2.089872             0.061448   \n",
       "1             0.000000             2.193303             0.044861   \n",
       "2             0.001953             1.206991             0.018802   \n",
       "3             0.000000             9.999014             0.019924   \n",
       "4             0.001953             2.491195             0.028255   \n",
       "\n",
       "                 genre  \n",
       "  Unnamed: 519_level_1  \n",
       "  Unnamed: 519_level_2  \n",
       "0              Hip-Hop  \n",
       "1              Hip-Hop  \n",
       "2                 Rock  \n",
       "3                 Rock  \n",
       "4                 Rock  \n",
       "\n",
       "[5 rows x 520 columns]"
      ]
     },
     "execution_count": 364,
     "metadata": {},
     "output_type": "execute_result"
    }
   ],
   "source": [
    "dataSetSmall.head()"
   ]
  },
  {
   "cell_type": "code",
   "execution_count": 365,
   "metadata": {},
   "outputs": [
    {
     "name": "stderr",
     "output_type": "stream",
     "text": [
      "C:\\Users\\joachim\\Anaconda3\\envs\\ntds_2018\\lib\\site-packages\\networkx\\drawing\\nx_pylab.py:611: MatplotlibDeprecationWarning: isinstance(..., numbers.Number)\n",
      "  if cb.is_numlike(alpha):\n"
     ]
    },
    {
     "data": {
      "image/png": "[encoded data removed]",
      "text/plain": [
       "<Figure size 432x288 with 1 Axes>"
      ]
     },
     "metadata": {},
     "output_type": "display_data"
    }
   ],
   "source": [
    "# tentative de faire un graph\n",
    "graph = nx.from_numpy_array(adjacency)\n",
    "# nx.draw_spring(graph)\n",
    "\n",
    "\n",
    "color_map = []\n",
    "for node in graph:\n",
    "    if dataSetSmall.loc[dataSetSmall.index[node],('genre','Unnamed: 519_level_1','Unnamed: 519_level_2')] =='Rock':\n",
    "        color_map.append('red')\n",
    "    else: color_map.append('blue')      \n",
    "nx.draw(graph,node_color = color_map)\n",
    "nx.write_gexf(graph,'../data/rock_hiphop.gexf')\n"
   ]
  },
  {
   "cell_type": "code",
   "execution_count": null,
   "metadata": {},
   "outputs": [],
   "source": []
  },
  {
   "cell_type": "markdown",
   "metadata": {},
   "source": [
    "### Question 1\n",
    "\n",
    "What is the maximum number of links $L_{max}$ in a network with $N$ nodes (where $N$ is the number of nodes in your network)? How many links $L$ are there in your collected network? Comment on the sparsity of your network."
   ]
  },
  {
   "cell_type": "code",
   "execution_count": null,
   "metadata": {},
   "outputs": [],
   "source": [
    "# Your code here."
   ]
  },
  {
   "cell_type": "markdown",
   "metadata": {},
   "source": [
    "**Your answer here.**"
   ]
  },
  {
   "cell_type": "markdown",
   "metadata": {},
   "source": [
    "### Question 2\n",
    "\n",
    "Is your graph directed or undirected? If it is directed, convert it to an undirected graph by symmetrizing the adjacency matrix."
   ]
  },
  {
   "cell_type": "markdown",
   "metadata": {},
   "source": [
    "**Your answer here.**"
   ]
  },
  {
   "cell_type": "code",
   "execution_count": null,
   "metadata": {},
   "outputs": [],
   "source": [
    "# Your code here."
   ]
  },
  {
   "cell_type": "markdown",
   "metadata": {},
   "source": [
    "### Question 3\n",
    "\n",
    "In the cell below save the features dataframe and the **symmetrized** adjacency matrix. You can use the Pandas ``to_csv`` to save the ``features`` and Numpy's ``save`` to save the ``adjacency``. We will reuse those in the following milestones."
   ]
  },
  {
   "cell_type": "code",
   "execution_count": null,
   "metadata": {},
   "outputs": [],
   "source": [
    "# Your code here."
   ]
  },
  {
   "cell_type": "markdown",
   "metadata": {},
   "source": [
    "### Question 4\n",
    "\n",
    "Are the edges of your graph weighted?"
   ]
  },
  {
   "cell_type": "markdown",
   "metadata": {},
   "source": [
    "**Your answer here.**"
   ]
  },
  {
   "cell_type": "markdown",
   "metadata": {},
   "source": [
    "### Question 5\n",
    "\n",
    "What is the degree distibution of your network? "
   ]
  },
  {
   "cell_type": "code",
   "execution_count": null,
   "metadata": {},
   "outputs": [],
   "source": [
    "degree =  # Your code here. It should be a numpy array.\n",
    "\n",
    "assert len(degree) == n_nodes"
   ]
  },
  {
   "cell_type": "markdown",
   "metadata": {},
   "source": [
    "Execute the cell below to see the histogram of the degree distribution."
   ]
  },
  {
   "cell_type": "code",
   "execution_count": null,
   "metadata": {},
   "outputs": [],
   "source": [
    "weights = np.ones_like(degree) / float(n_nodes)\n",
    "plt.hist(degree, weights=weights);"
   ]
  },
  {
   "cell_type": "markdown",
   "metadata": {},
   "source": [
    "What is the average degree?"
   ]
  },
  {
   "cell_type": "code",
   "execution_count": null,
   "metadata": {},
   "outputs": [],
   "source": [
    "# Your code here."
   ]
  },
  {
   "cell_type": "markdown",
   "metadata": {},
   "source": [
    "### Question 6\n",
    "\n",
    "Comment on the degree distribution of your network."
   ]
  },
  {
   "cell_type": "markdown",
   "metadata": {},
   "source": [
    "**Your answer here.**"
   ]
  },
  {
   "cell_type": "markdown",
   "metadata": {},
   "source": [
    "### Question 7\n",
    "\n",
    "Write a function that takes as input the adjacency matrix of a graph and determines whether the graph is connected or not."
   ]
  },
  {
   "cell_type": "code",
   "execution_count": null,
   "metadata": {},
   "outputs": [],
   "source": [
    "def connected_graph(adjacency):\n",
    "    \"\"\"Determines whether a graph is connected.\n",
    "    \n",
    "    Parameters\n",
    "    ----------\n",
    "    adjacency: numpy array\n",
    "        The (weighted) adjacency matrix of a graph.\n",
    "    \n",
    "    Returns\n",
    "    -------\n",
    "    bool\n",
    "        True if the graph is connected, False otherwise.\n",
    "    \"\"\"\n",
    "    \n",
    "    # Your code here.\n",
    "    \n",
    "    return connected"
   ]
  },
  {
   "cell_type": "markdown",
   "metadata": {},
   "source": [
    "Is your graph connected? Run the ``connected_graph`` function to determine your answer."
   ]
  },
  {
   "cell_type": "code",
   "execution_count": null,
   "metadata": {},
   "outputs": [],
   "source": [
    "# Your code here."
   ]
  },
  {
   "cell_type": "markdown",
   "metadata": {},
   "source": [
    "### Question 8\n",
    "\n",
    "Write a function that extracts the connected components of a graph."
   ]
  },
  {
   "cell_type": "code",
   "execution_count": null,
   "metadata": {},
   "outputs": [],
   "source": [
    "def find_components(adjacency):\n",
    "    \"\"\"Find the connected components of a graph.\n",
    "    \n",
    "    Parameters\n",
    "    ----------\n",
    "    adjacency: numpy array\n",
    "        The (weighted) adjacency matrix of a graph.\n",
    "    \n",
    "    Returns\n",
    "    -------\n",
    "    list of numpy arrays\n",
    "        A list of adjacency matrices, one per connected component.\n",
    "    \"\"\"\n",
    "    \n",
    "    # Your code here.\n",
    "    \n",
    "    return components"
   ]
  },
  {
   "cell_type": "markdown",
   "metadata": {},
   "source": [
    "How many connected components is your network composed of? What is the size of the largest connected component? Run the ``find_components`` function to determine your answer. "
   ]
  },
  {
   "cell_type": "code",
   "execution_count": null,
   "metadata": {},
   "outputs": [],
   "source": [
    "# Your code here."
   ]
  },
  {
   "cell_type": "markdown",
   "metadata": {},
   "source": [
    "### Question 9\n",
    "\n",
    "Write a function that takes as input the adjacency matrix and a node (`source`) and returns the length of the shortest path between that node and all nodes in the graph using Dijkstra's algorithm. **For the purposes of this assignment we are interested in the hop distance between nodes, not in the sum of weights. **\n",
    "\n",
    "Hint: You might want to mask the adjacency matrix in the function ``compute_shortest_path_lengths`` in order to make sure you obtain a binary adjacency matrix. "
   ]
  },
  {
   "cell_type": "code",
   "execution_count": null,
   "metadata": {},
   "outputs": [],
   "source": [
    "def compute_shortest_path_lengths(adjacency, source):\n",
    "    \"\"\"Compute the shortest path length between a source node and all nodes.\n",
    "    \n",
    "    Parameters\n",
    "    ----------\n",
    "    adjacency: numpy array\n",
    "        The (weighted) adjacency matrix of a graph.\n",
    "    source: int\n",
    "        The source node. A number between 0 and n_nodes-1.\n",
    "    \n",
    "    Returns\n",
    "    -------\n",
    "    list of ints\n",
    "        The length of the shortest path from source to all nodes. Returned list should be of length n_nodes.\n",
    "    \"\"\"\n",
    "    \n",
    "    # Your code here.\n",
    "    \n",
    "    return shortest_path_lengths"
   ]
  },
  {
   "cell_type": "markdown",
   "metadata": {},
   "source": [
    "### Question 10\n",
    "\n",
    "The diameter of the graph is the length of the longest shortest path between any pair of nodes. Use the above developed function to compute the diameter of the graph (or the diameter of the largest connected component of the graph if the graph is not connected). If your graph (or largest connected component) is very large, computing the diameter will take very long. In that case downsample your graph so that it has 1.000 nodes. There are many ways to reduce the size of a graph. For the purposes of this milestone you can chose to randomly select 1.000 nodes. "
   ]
  },
  {
   "cell_type": "code",
   "execution_count": null,
   "metadata": {},
   "outputs": [],
   "source": [
    "# Your code here."
   ]
  },
  {
   "cell_type": "markdown",
   "metadata": {},
   "source": [
    "### Question 11\n",
    "\n",
    "Write a function that takes as input the adjacency matrix, a path length, and two nodes (`source` and `target`), and returns the number of paths of the given length between them."
   ]
  },
  {
   "cell_type": "code",
   "execution_count": null,
   "metadata": {},
   "outputs": [],
   "source": [
    "def compute_paths(adjacency, source, target, length):\n",
    "    \"\"\"Compute the number of paths of a given length between a source and target node.\n",
    "    \n",
    "    Parameters\n",
    "    ----------\n",
    "    adjacency: numpy array\n",
    "        The (weighted) adjacency matrix of a graph.\n",
    "    source: int\n",
    "        The source node. A number between 0 and n_nodes-1.\n",
    "    target: int\n",
    "        The target node. A number between 0 and n_nodes-1.\n",
    "    length: int\n",
    "        The path length to be considered.\n",
    "    \n",
    "    Returns\n",
    "    -------\n",
    "    int\n",
    "        The number of paths.\n",
    "    \"\"\"\n",
    "    \n",
    "    # Your code here.\n",
    "    \n",
    "    return n_paths"
   ]
  },
  {
   "cell_type": "markdown",
   "metadata": {},
   "source": [
    "Test your function on 5 pairs of nodes, with different lengths."
   ]
  },
  {
   "cell_type": "code",
   "execution_count": null,
   "metadata": {},
   "outputs": [],
   "source": [
    "print(compute_paths(adjacency, 0, 10, 1))\n",
    "print(compute_paths(adjacency, 0, 10, 2))\n",
    "print(compute_paths(adjacency, 0, 10, 3))\n",
    "print(compute_paths(adjacency, 23, 67, 2))\n",
    "print(compute_paths(adjacency, 15, 93, 4))"
   ]
  },
  {
   "cell_type": "markdown",
   "metadata": {},
   "source": [
    "### Question 12\n",
    "\n",
    "How many paths of length 3 are there in your graph? Hint: calling the `compute_paths` function on every pair of node is not an efficient way to do it."
   ]
  },
  {
   "cell_type": "code",
   "execution_count": null,
   "metadata": {},
   "outputs": [],
   "source": [
    "# Your code here."
   ]
  },
  {
   "cell_type": "markdown",
   "metadata": {},
   "source": [
    "### Question 13\n",
    "\n",
    "Write a function that takes as input the adjacency matrix of your graph (or of the largest connected component of your graph) and a node and returns the clustering coefficient of that node. "
   ]
  },
  {
   "cell_type": "code",
   "execution_count": null,
   "metadata": {},
   "outputs": [],
   "source": [
    "def compute_clustering_coefficient(adjacency, node):\n",
    "    \"\"\"Compute the clustering coefficient of a node.\n",
    "    \n",
    "    Parameters\n",
    "    ----------\n",
    "    adjacency: numpy array\n",
    "        The (weighted) adjacency matrix of a graph.\n",
    "    node: int\n",
    "        The node whose clustering coefficient will be computed. A number between 0 and n_nodes-1.\n",
    "    \n",
    "    Returns\n",
    "    -------\n",
    "    float\n",
    "        The clustering coefficient of the node. A number between 0 and 1.\n",
    "    \"\"\"\n",
    "    \n",
    "    # Your code here.\n",
    "    \n",
    "    return clustering_coefficient"
   ]
  },
  {
   "cell_type": "markdown",
   "metadata": {},
   "source": [
    "### Question 14\n",
    "\n",
    "What is the average clustering coefficient of your graph (or of the largest connected component of your graph if your graph is disconnected)? Use the function ``compute_clustering_coefficient`` to determine your answer."
   ]
  },
  {
   "cell_type": "code",
   "execution_count": null,
   "metadata": {},
   "outputs": [],
   "source": [
    "# Your code here."
   ]
  }
 ],
 "metadata": {
  "kernelspec": {
   "display_name": "Python 3",
   "language": "python",
   "name": "python3"
  },
  "language_info": {
   "codemirror_mode": {
    "name": "ipython",
    "version": 3
   },
   "file_extension": ".py",
   "mimetype": "text/x-python",
   "name": "python",
   "nbconvert_exporter": "python",
   "pygments_lexer": "ipython3",
   "version": "3.6.6"
  }
 },
 "nbformat": 4,
 "nbformat_minor": 2
}
